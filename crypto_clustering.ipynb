{
 "cells": [
  {
   "cell_type": "markdown",
   "metadata": {},
   "source": [
    "# Clustering Crypto"
   ]
  },
  {
   "cell_type": "code",
   "execution_count": 374,
   "metadata": {},
   "outputs": [],
   "source": [
    "# Initial imports\n",
    "import pandas as pd\n",
    "import hvplot.pandas\n",
    "from path import Path\n",
    "import plotly.express as px\n",
    "from sklearn.preprocessing import StandardScaler, MinMaxScaler\n",
    "from sklearn.decomposition import PCA\n",
    "from sklearn.cluster import KMeans\n"
   ]
  },
  {
   "cell_type": "markdown",
   "metadata": {},
   "source": [
    "### Deliverable 1: Preprocessing the Data for PCA"
   ]
  },
  {
   "cell_type": "code",
   "execution_count": 381,
   "metadata": {},
   "outputs": [],
   "source": [
    "# Load the crypto_data.csv dataset.\n",
    "file_path = \"/Users/Maryam/Desktop/utor-virt-data-pt-06-2020-u-b/Cryptocurrencies/crypto_data.csv\"\n",
    "crypto_df = pd.read_csv(file_path)\n"
   ]
  },
  {
   "cell_type": "code",
   "execution_count": 382,
   "metadata": {},
   "outputs": [],
   "source": [
    "crypto_df.set_index('Unnamed: 0', inplace=True)"
   ]
  },
  {
   "cell_type": "code",
   "execution_count": 385,
   "metadata": {},
   "outputs": [
    {
     "data": {
      "text/html": [
       "<div>\n",
       "<style scoped>\n",
       "    .dataframe tbody tr th:only-of-type {\n",
       "        vertical-align: middle;\n",
       "    }\n",
       "\n",
       "    .dataframe tbody tr th {\n",
       "        vertical-align: top;\n",
       "    }\n",
       "\n",
       "    .dataframe thead th {\n",
       "        text-align: right;\n",
       "    }\n",
       "</style>\n",
       "<table border=\"1\" class=\"dataframe\">\n",
       "  <thead>\n",
       "    <tr style=\"text-align: right;\">\n",
       "      <th></th>\n",
       "      <th>CoinName</th>\n",
       "      <th>Algorithm</th>\n",
       "      <th>IsTrading</th>\n",
       "      <th>ProofType</th>\n",
       "      <th>TotalCoinsMined</th>\n",
       "      <th>TotalCoinSupply</th>\n",
       "    </tr>\n",
       "  </thead>\n",
       "  <tbody>\n",
       "    <tr>\n",
       "      <th>42</th>\n",
       "      <td>42 Coin</td>\n",
       "      <td>Scrypt</td>\n",
       "      <td>True</td>\n",
       "      <td>PoW/PoS</td>\n",
       "      <td>4.199995e+01</td>\n",
       "      <td>42</td>\n",
       "    </tr>\n",
       "    <tr>\n",
       "      <th>365</th>\n",
       "      <td>365Coin</td>\n",
       "      <td>X11</td>\n",
       "      <td>True</td>\n",
       "      <td>PoW/PoS</td>\n",
       "      <td>NaN</td>\n",
       "      <td>2300000000</td>\n",
       "    </tr>\n",
       "    <tr>\n",
       "      <th>404</th>\n",
       "      <td>404Coin</td>\n",
       "      <td>Scrypt</td>\n",
       "      <td>True</td>\n",
       "      <td>PoW/PoS</td>\n",
       "      <td>1.055185e+09</td>\n",
       "      <td>532000000</td>\n",
       "    </tr>\n",
       "    <tr>\n",
       "      <th>611</th>\n",
       "      <td>SixEleven</td>\n",
       "      <td>SHA-256</td>\n",
       "      <td>True</td>\n",
       "      <td>PoW</td>\n",
       "      <td>NaN</td>\n",
       "      <td>611000</td>\n",
       "    </tr>\n",
       "    <tr>\n",
       "      <th>808</th>\n",
       "      <td>808</td>\n",
       "      <td>SHA-256</td>\n",
       "      <td>True</td>\n",
       "      <td>PoW/PoS</td>\n",
       "      <td>0.000000e+00</td>\n",
       "      <td>0</td>\n",
       "    </tr>\n",
       "    <tr>\n",
       "      <th>...</th>\n",
       "      <td>...</td>\n",
       "      <td>...</td>\n",
       "      <td>...</td>\n",
       "      <td>...</td>\n",
       "      <td>...</td>\n",
       "      <td>...</td>\n",
       "    </tr>\n",
       "    <tr>\n",
       "      <th>XBC</th>\n",
       "      <td>BitcoinPlus</td>\n",
       "      <td>Scrypt</td>\n",
       "      <td>True</td>\n",
       "      <td>PoS</td>\n",
       "      <td>1.283270e+05</td>\n",
       "      <td>1000000</td>\n",
       "    </tr>\n",
       "    <tr>\n",
       "      <th>DVTC</th>\n",
       "      <td>DivotyCoin</td>\n",
       "      <td>Scrypt</td>\n",
       "      <td>False</td>\n",
       "      <td>PoW/PoS</td>\n",
       "      <td>2.149121e+07</td>\n",
       "      <td>100000000</td>\n",
       "    </tr>\n",
       "    <tr>\n",
       "      <th>GIOT</th>\n",
       "      <td>Giotto Coin</td>\n",
       "      <td>Scrypt</td>\n",
       "      <td>False</td>\n",
       "      <td>PoW/PoS</td>\n",
       "      <td>NaN</td>\n",
       "      <td>233100000</td>\n",
       "    </tr>\n",
       "    <tr>\n",
       "      <th>OPSC</th>\n",
       "      <td>OpenSourceCoin</td>\n",
       "      <td>SHA-256</td>\n",
       "      <td>False</td>\n",
       "      <td>PoW/PoS</td>\n",
       "      <td>NaN</td>\n",
       "      <td>21000000</td>\n",
       "    </tr>\n",
       "    <tr>\n",
       "      <th>PUNK</th>\n",
       "      <td>SteamPunk</td>\n",
       "      <td>PoS</td>\n",
       "      <td>False</td>\n",
       "      <td>PoS</td>\n",
       "      <td>NaN</td>\n",
       "      <td>40000000</td>\n",
       "    </tr>\n",
       "  </tbody>\n",
       "</table>\n",
       "<p>1252 rows × 6 columns</p>\n",
       "</div>"
      ],
      "text/plain": [
       "            CoinName Algorithm  IsTrading ProofType  TotalCoinsMined  \\\n",
       "42           42 Coin    Scrypt       True   PoW/PoS     4.199995e+01   \n",
       "365          365Coin       X11       True   PoW/PoS              NaN   \n",
       "404          404Coin    Scrypt       True   PoW/PoS     1.055185e+09   \n",
       "611        SixEleven   SHA-256       True       PoW              NaN   \n",
       "808              808   SHA-256       True   PoW/PoS     0.000000e+00   \n",
       "...              ...       ...        ...       ...              ...   \n",
       "XBC      BitcoinPlus    Scrypt       True       PoS     1.283270e+05   \n",
       "DVTC      DivotyCoin    Scrypt      False   PoW/PoS     2.149121e+07   \n",
       "GIOT     Giotto Coin    Scrypt      False   PoW/PoS              NaN   \n",
       "OPSC  OpenSourceCoin   SHA-256      False   PoW/PoS              NaN   \n",
       "PUNK       SteamPunk       PoS      False       PoS              NaN   \n",
       "\n",
       "     TotalCoinSupply  \n",
       "42                42  \n",
       "365       2300000000  \n",
       "404        532000000  \n",
       "611           611000  \n",
       "808                0  \n",
       "...              ...  \n",
       "XBC          1000000  \n",
       "DVTC       100000000  \n",
       "GIOT       233100000  \n",
       "OPSC        21000000  \n",
       "PUNK        40000000  \n",
       "\n",
       "[1252 rows x 6 columns]"
      ]
     },
     "execution_count": 385,
     "metadata": {},
     "output_type": "execute_result"
    }
   ],
   "source": [
    "crypto_df = crypto_df.rename_axis(None)\n",
    "crypto_df"
   ]
  },
  {
   "cell_type": "code",
   "execution_count": 386,
   "metadata": {},
   "outputs": [
    {
     "data": {
      "text/html": [
       "<div>\n",
       "<style scoped>\n",
       "    .dataframe tbody tr th:only-of-type {\n",
       "        vertical-align: middle;\n",
       "    }\n",
       "\n",
       "    .dataframe tbody tr th {\n",
       "        vertical-align: top;\n",
       "    }\n",
       "\n",
       "    .dataframe thead th {\n",
       "        text-align: right;\n",
       "    }\n",
       "</style>\n",
       "<table border=\"1\" class=\"dataframe\">\n",
       "  <thead>\n",
       "    <tr style=\"text-align: right;\">\n",
       "      <th></th>\n",
       "      <th>CoinName</th>\n",
       "      <th>Algorithm</th>\n",
       "      <th>IsTrading</th>\n",
       "      <th>ProofType</th>\n",
       "      <th>TotalCoinsMined</th>\n",
       "      <th>TotalCoinSupply</th>\n",
       "    </tr>\n",
       "  </thead>\n",
       "  <tbody>\n",
       "    <tr>\n",
       "      <th>42</th>\n",
       "      <td>42 Coin</td>\n",
       "      <td>Scrypt</td>\n",
       "      <td>True</td>\n",
       "      <td>PoW/PoS</td>\n",
       "      <td>4.199995e+01</td>\n",
       "      <td>42</td>\n",
       "    </tr>\n",
       "    <tr>\n",
       "      <th>365</th>\n",
       "      <td>365Coin</td>\n",
       "      <td>X11</td>\n",
       "      <td>True</td>\n",
       "      <td>PoW/PoS</td>\n",
       "      <td>NaN</td>\n",
       "      <td>2300000000</td>\n",
       "    </tr>\n",
       "    <tr>\n",
       "      <th>404</th>\n",
       "      <td>404Coin</td>\n",
       "      <td>Scrypt</td>\n",
       "      <td>True</td>\n",
       "      <td>PoW/PoS</td>\n",
       "      <td>1.055185e+09</td>\n",
       "      <td>532000000</td>\n",
       "    </tr>\n",
       "    <tr>\n",
       "      <th>611</th>\n",
       "      <td>SixEleven</td>\n",
       "      <td>SHA-256</td>\n",
       "      <td>True</td>\n",
       "      <td>PoW</td>\n",
       "      <td>NaN</td>\n",
       "      <td>611000</td>\n",
       "    </tr>\n",
       "    <tr>\n",
       "      <th>808</th>\n",
       "      <td>808</td>\n",
       "      <td>SHA-256</td>\n",
       "      <td>True</td>\n",
       "      <td>PoW/PoS</td>\n",
       "      <td>0.000000e+00</td>\n",
       "      <td>0</td>\n",
       "    </tr>\n",
       "    <tr>\n",
       "      <th>...</th>\n",
       "      <td>...</td>\n",
       "      <td>...</td>\n",
       "      <td>...</td>\n",
       "      <td>...</td>\n",
       "      <td>...</td>\n",
       "      <td>...</td>\n",
       "    </tr>\n",
       "    <tr>\n",
       "      <th>SERO</th>\n",
       "      <td>Super Zero</td>\n",
       "      <td>Ethash</td>\n",
       "      <td>True</td>\n",
       "      <td>PoW</td>\n",
       "      <td>NaN</td>\n",
       "      <td>1000000000</td>\n",
       "    </tr>\n",
       "    <tr>\n",
       "      <th>UOS</th>\n",
       "      <td>UOS</td>\n",
       "      <td>SHA-256</td>\n",
       "      <td>True</td>\n",
       "      <td>DPoI</td>\n",
       "      <td>NaN</td>\n",
       "      <td>1000000000</td>\n",
       "    </tr>\n",
       "    <tr>\n",
       "      <th>BDX</th>\n",
       "      <td>Beldex</td>\n",
       "      <td>CryptoNight</td>\n",
       "      <td>True</td>\n",
       "      <td>PoW</td>\n",
       "      <td>9.802226e+08</td>\n",
       "      <td>1400222610</td>\n",
       "    </tr>\n",
       "    <tr>\n",
       "      <th>ZEN</th>\n",
       "      <td>Horizen</td>\n",
       "      <td>Equihash</td>\n",
       "      <td>True</td>\n",
       "      <td>PoW</td>\n",
       "      <td>7.296538e+06</td>\n",
       "      <td>21000000</td>\n",
       "    </tr>\n",
       "    <tr>\n",
       "      <th>XBC</th>\n",
       "      <td>BitcoinPlus</td>\n",
       "      <td>Scrypt</td>\n",
       "      <td>True</td>\n",
       "      <td>PoS</td>\n",
       "      <td>1.283270e+05</td>\n",
       "      <td>1000000</td>\n",
       "    </tr>\n",
       "  </tbody>\n",
       "</table>\n",
       "<p>1144 rows × 6 columns</p>\n",
       "</div>"
      ],
      "text/plain": [
       "         CoinName    Algorithm  IsTrading ProofType  TotalCoinsMined  \\\n",
       "42        42 Coin       Scrypt       True   PoW/PoS     4.199995e+01   \n",
       "365       365Coin          X11       True   PoW/PoS              NaN   \n",
       "404       404Coin       Scrypt       True   PoW/PoS     1.055185e+09   \n",
       "611     SixEleven      SHA-256       True       PoW              NaN   \n",
       "808           808      SHA-256       True   PoW/PoS     0.000000e+00   \n",
       "...           ...          ...        ...       ...              ...   \n",
       "SERO   Super Zero       Ethash       True       PoW              NaN   \n",
       "UOS           UOS      SHA-256       True      DPoI              NaN   \n",
       "BDX        Beldex  CryptoNight       True       PoW     9.802226e+08   \n",
       "ZEN       Horizen     Equihash       True       PoW     7.296538e+06   \n",
       "XBC   BitcoinPlus       Scrypt       True       PoS     1.283270e+05   \n",
       "\n",
       "     TotalCoinSupply  \n",
       "42                42  \n",
       "365       2300000000  \n",
       "404        532000000  \n",
       "611           611000  \n",
       "808                0  \n",
       "...              ...  \n",
       "SERO      1000000000  \n",
       "UOS       1000000000  \n",
       "BDX       1400222610  \n",
       "ZEN         21000000  \n",
       "XBC          1000000  \n",
       "\n",
       "[1144 rows x 6 columns]"
      ]
     },
     "execution_count": 386,
     "metadata": {},
     "output_type": "execute_result"
    }
   ],
   "source": [
    "# Keep all the cryptocurrencies that are being traded.\n",
    "crypto_df.loc[crypto_df['IsTrading'] != False]"
   ]
  },
  {
   "cell_type": "code",
   "execution_count": 293,
   "metadata": {},
   "outputs": [],
   "source": [
    "# Keep all the cryptocurrencies that have a working algorithm.\n",
    "# YOUR CODE HERE"
   ]
  },
  {
   "cell_type": "code",
   "execution_count": 387,
   "metadata": {},
   "outputs": [
    {
     "data": {
      "text/html": [
       "<div>\n",
       "<style scoped>\n",
       "    .dataframe tbody tr th:only-of-type {\n",
       "        vertical-align: middle;\n",
       "    }\n",
       "\n",
       "    .dataframe tbody tr th {\n",
       "        vertical-align: top;\n",
       "    }\n",
       "\n",
       "    .dataframe thead th {\n",
       "        text-align: right;\n",
       "    }\n",
       "</style>\n",
       "<table border=\"1\" class=\"dataframe\">\n",
       "  <thead>\n",
       "    <tr style=\"text-align: right;\">\n",
       "      <th></th>\n",
       "      <th>CoinName</th>\n",
       "      <th>Algorithm</th>\n",
       "      <th>ProofType</th>\n",
       "      <th>TotalCoinsMined</th>\n",
       "      <th>TotalCoinSupply</th>\n",
       "    </tr>\n",
       "  </thead>\n",
       "  <tbody>\n",
       "    <tr>\n",
       "      <th>42</th>\n",
       "      <td>42 Coin</td>\n",
       "      <td>Scrypt</td>\n",
       "      <td>PoW/PoS</td>\n",
       "      <td>4.199995e+01</td>\n",
       "      <td>42</td>\n",
       "    </tr>\n",
       "    <tr>\n",
       "      <th>365</th>\n",
       "      <td>365Coin</td>\n",
       "      <td>X11</td>\n",
       "      <td>PoW/PoS</td>\n",
       "      <td>NaN</td>\n",
       "      <td>2300000000</td>\n",
       "    </tr>\n",
       "    <tr>\n",
       "      <th>404</th>\n",
       "      <td>404Coin</td>\n",
       "      <td>Scrypt</td>\n",
       "      <td>PoW/PoS</td>\n",
       "      <td>1.055185e+09</td>\n",
       "      <td>532000000</td>\n",
       "    </tr>\n",
       "    <tr>\n",
       "      <th>611</th>\n",
       "      <td>SixEleven</td>\n",
       "      <td>SHA-256</td>\n",
       "      <td>PoW</td>\n",
       "      <td>NaN</td>\n",
       "      <td>611000</td>\n",
       "    </tr>\n",
       "    <tr>\n",
       "      <th>808</th>\n",
       "      <td>808</td>\n",
       "      <td>SHA-256</td>\n",
       "      <td>PoW/PoS</td>\n",
       "      <td>0.000000e+00</td>\n",
       "      <td>0</td>\n",
       "    </tr>\n",
       "  </tbody>\n",
       "</table>\n",
       "</div>"
      ],
      "text/plain": [
       "      CoinName Algorithm ProofType  TotalCoinsMined TotalCoinSupply\n",
       "42     42 Coin    Scrypt   PoW/PoS     4.199995e+01              42\n",
       "365    365Coin       X11   PoW/PoS              NaN      2300000000\n",
       "404    404Coin    Scrypt   PoW/PoS     1.055185e+09       532000000\n",
       "611  SixEleven   SHA-256       PoW              NaN          611000\n",
       "808        808   SHA-256   PoW/PoS     0.000000e+00               0"
      ]
     },
     "execution_count": 387,
     "metadata": {},
     "output_type": "execute_result"
    }
   ],
   "source": [
    "# Remove the \"IsTrading\" column. \n",
    "crypto_df.drop(columns=[\"IsTrading\"],inplace=True)\n",
    "crypto_df.head()"
   ]
  },
  {
   "cell_type": "code",
   "execution_count": 388,
   "metadata": {},
   "outputs": [
    {
     "data": {
      "text/html": [
       "<div>\n",
       "<style scoped>\n",
       "    .dataframe tbody tr th:only-of-type {\n",
       "        vertical-align: middle;\n",
       "    }\n",
       "\n",
       "    .dataframe tbody tr th {\n",
       "        vertical-align: top;\n",
       "    }\n",
       "\n",
       "    .dataframe thead th {\n",
       "        text-align: right;\n",
       "    }\n",
       "</style>\n",
       "<table border=\"1\" class=\"dataframe\">\n",
       "  <thead>\n",
       "    <tr style=\"text-align: right;\">\n",
       "      <th></th>\n",
       "      <th>CoinName</th>\n",
       "      <th>Algorithm</th>\n",
       "      <th>ProofType</th>\n",
       "      <th>TotalCoinsMined</th>\n",
       "      <th>TotalCoinSupply</th>\n",
       "    </tr>\n",
       "  </thead>\n",
       "  <tbody>\n",
       "    <tr>\n",
       "      <th>42</th>\n",
       "      <td>42 Coin</td>\n",
       "      <td>Scrypt</td>\n",
       "      <td>PoW/PoS</td>\n",
       "      <td>4.199995e+01</td>\n",
       "      <td>42</td>\n",
       "    </tr>\n",
       "    <tr>\n",
       "      <th>404</th>\n",
       "      <td>404Coin</td>\n",
       "      <td>Scrypt</td>\n",
       "      <td>PoW/PoS</td>\n",
       "      <td>1.055185e+09</td>\n",
       "      <td>532000000</td>\n",
       "    </tr>\n",
       "    <tr>\n",
       "      <th>808</th>\n",
       "      <td>808</td>\n",
       "      <td>SHA-256</td>\n",
       "      <td>PoW/PoS</td>\n",
       "      <td>0.000000e+00</td>\n",
       "      <td>0</td>\n",
       "    </tr>\n",
       "    <tr>\n",
       "      <th>1337</th>\n",
       "      <td>EliteCoin</td>\n",
       "      <td>X13</td>\n",
       "      <td>PoW/PoS</td>\n",
       "      <td>2.927942e+10</td>\n",
       "      <td>314159265359</td>\n",
       "    </tr>\n",
       "    <tr>\n",
       "      <th>BTC</th>\n",
       "      <td>Bitcoin</td>\n",
       "      <td>SHA-256</td>\n",
       "      <td>PoW</td>\n",
       "      <td>1.792718e+07</td>\n",
       "      <td>21000000</td>\n",
       "    </tr>\n",
       "    <tr>\n",
       "      <th>ETH</th>\n",
       "      <td>Ethereum</td>\n",
       "      <td>Ethash</td>\n",
       "      <td>PoW</td>\n",
       "      <td>1.076842e+08</td>\n",
       "      <td>0</td>\n",
       "    </tr>\n",
       "    <tr>\n",
       "      <th>LTC</th>\n",
       "      <td>Litecoin</td>\n",
       "      <td>Scrypt</td>\n",
       "      <td>PoW</td>\n",
       "      <td>6.303924e+07</td>\n",
       "      <td>84000000</td>\n",
       "    </tr>\n",
       "    <tr>\n",
       "      <th>DASH</th>\n",
       "      <td>Dash</td>\n",
       "      <td>X11</td>\n",
       "      <td>PoW/PoS</td>\n",
       "      <td>9.031294e+06</td>\n",
       "      <td>22000000</td>\n",
       "    </tr>\n",
       "    <tr>\n",
       "      <th>XMR</th>\n",
       "      <td>Monero</td>\n",
       "      <td>CryptoNight-V7</td>\n",
       "      <td>PoW</td>\n",
       "      <td>1.720114e+07</td>\n",
       "      <td>0</td>\n",
       "    </tr>\n",
       "    <tr>\n",
       "      <th>ETC</th>\n",
       "      <td>Ethereum Classic</td>\n",
       "      <td>Ethash</td>\n",
       "      <td>PoW</td>\n",
       "      <td>1.133597e+08</td>\n",
       "      <td>210000000</td>\n",
       "    </tr>\n",
       "  </tbody>\n",
       "</table>\n",
       "</div>"
      ],
      "text/plain": [
       "              CoinName       Algorithm ProofType  TotalCoinsMined  \\\n",
       "42             42 Coin          Scrypt   PoW/PoS     4.199995e+01   \n",
       "404            404Coin          Scrypt   PoW/PoS     1.055185e+09   \n",
       "808                808         SHA-256   PoW/PoS     0.000000e+00   \n",
       "1337         EliteCoin             X13   PoW/PoS     2.927942e+10   \n",
       "BTC            Bitcoin         SHA-256       PoW     1.792718e+07   \n",
       "ETH           Ethereum          Ethash       PoW     1.076842e+08   \n",
       "LTC           Litecoin          Scrypt       PoW     6.303924e+07   \n",
       "DASH              Dash             X11   PoW/PoS     9.031294e+06   \n",
       "XMR             Monero  CryptoNight-V7       PoW     1.720114e+07   \n",
       "ETC   Ethereum Classic          Ethash       PoW     1.133597e+08   \n",
       "\n",
       "     TotalCoinSupply  \n",
       "42                42  \n",
       "404        532000000  \n",
       "808                0  \n",
       "1337    314159265359  \n",
       "BTC         21000000  \n",
       "ETH                0  \n",
       "LTC         84000000  \n",
       "DASH        22000000  \n",
       "XMR                0  \n",
       "ETC        210000000  "
      ]
     },
     "execution_count": 388,
     "metadata": {},
     "output_type": "execute_result"
    }
   ],
   "source": [
    "# Remove rows that have at least 1 null value.\n",
    "crypto_df = crypto_df.dropna()\n",
    "crypto_df.head(10)"
   ]
  },
  {
   "cell_type": "code",
   "execution_count": 389,
   "metadata": {},
   "outputs": [
    {
     "data": {
      "text/html": [
       "<div>\n",
       "<style scoped>\n",
       "    .dataframe tbody tr th:only-of-type {\n",
       "        vertical-align: middle;\n",
       "    }\n",
       "\n",
       "    .dataframe tbody tr th {\n",
       "        vertical-align: top;\n",
       "    }\n",
       "\n",
       "    .dataframe thead th {\n",
       "        text-align: right;\n",
       "    }\n",
       "</style>\n",
       "<table border=\"1\" class=\"dataframe\">\n",
       "  <thead>\n",
       "    <tr style=\"text-align: right;\">\n",
       "      <th></th>\n",
       "      <th>CoinName</th>\n",
       "      <th>Algorithm</th>\n",
       "      <th>ProofType</th>\n",
       "      <th>TotalCoinsMined</th>\n",
       "      <th>TotalCoinSupply</th>\n",
       "    </tr>\n",
       "  </thead>\n",
       "  <tbody>\n",
       "    <tr>\n",
       "      <th>42</th>\n",
       "      <td>42 Coin</td>\n",
       "      <td>Scrypt</td>\n",
       "      <td>PoW/PoS</td>\n",
       "      <td>41</td>\n",
       "      <td>42</td>\n",
       "    </tr>\n",
       "    <tr>\n",
       "      <th>404</th>\n",
       "      <td>404Coin</td>\n",
       "      <td>Scrypt</td>\n",
       "      <td>PoW/PoS</td>\n",
       "      <td>1055184902</td>\n",
       "      <td>532000000</td>\n",
       "    </tr>\n",
       "    <tr>\n",
       "      <th>808</th>\n",
       "      <td>808</td>\n",
       "      <td>SHA-256</td>\n",
       "      <td>PoW/PoS</td>\n",
       "      <td>0</td>\n",
       "      <td>0</td>\n",
       "    </tr>\n",
       "    <tr>\n",
       "      <th>1337</th>\n",
       "      <td>EliteCoin</td>\n",
       "      <td>X13</td>\n",
       "      <td>PoW/PoS</td>\n",
       "      <td>29279424622</td>\n",
       "      <td>314159265359</td>\n",
       "    </tr>\n",
       "    <tr>\n",
       "      <th>BTC</th>\n",
       "      <td>Bitcoin</td>\n",
       "      <td>SHA-256</td>\n",
       "      <td>PoW</td>\n",
       "      <td>17927175</td>\n",
       "      <td>21000000</td>\n",
       "    </tr>\n",
       "    <tr>\n",
       "      <th>...</th>\n",
       "      <td>...</td>\n",
       "      <td>...</td>\n",
       "      <td>...</td>\n",
       "      <td>...</td>\n",
       "      <td>...</td>\n",
       "    </tr>\n",
       "    <tr>\n",
       "      <th>GAP</th>\n",
       "      <td>Gapcoin</td>\n",
       "      <td>Scrypt</td>\n",
       "      <td>PoW/PoS</td>\n",
       "      <td>14931046</td>\n",
       "      <td>250000000</td>\n",
       "    </tr>\n",
       "    <tr>\n",
       "      <th>BDX</th>\n",
       "      <td>Beldex</td>\n",
       "      <td>CryptoNight</td>\n",
       "      <td>PoW</td>\n",
       "      <td>980222595</td>\n",
       "      <td>1400222610</td>\n",
       "    </tr>\n",
       "    <tr>\n",
       "      <th>ZEN</th>\n",
       "      <td>Horizen</td>\n",
       "      <td>Equihash</td>\n",
       "      <td>PoW</td>\n",
       "      <td>7296537</td>\n",
       "      <td>21000000</td>\n",
       "    </tr>\n",
       "    <tr>\n",
       "      <th>XBC</th>\n",
       "      <td>BitcoinPlus</td>\n",
       "      <td>Scrypt</td>\n",
       "      <td>PoS</td>\n",
       "      <td>128326</td>\n",
       "      <td>1000000</td>\n",
       "    </tr>\n",
       "    <tr>\n",
       "      <th>DVTC</th>\n",
       "      <td>DivotyCoin</td>\n",
       "      <td>Scrypt</td>\n",
       "      <td>PoW/PoS</td>\n",
       "      <td>21491213</td>\n",
       "      <td>100000000</td>\n",
       "    </tr>\n",
       "  </tbody>\n",
       "</table>\n",
       "<p>744 rows × 5 columns</p>\n",
       "</div>"
      ],
      "text/plain": [
       "         CoinName    Algorithm ProofType  TotalCoinsMined TotalCoinSupply\n",
       "42        42 Coin       Scrypt   PoW/PoS               41              42\n",
       "404       404Coin       Scrypt   PoW/PoS       1055184902       532000000\n",
       "808           808      SHA-256   PoW/PoS                0               0\n",
       "1337    EliteCoin          X13   PoW/PoS      29279424622    314159265359\n",
       "BTC       Bitcoin      SHA-256       PoW         17927175        21000000\n",
       "...           ...          ...       ...              ...             ...\n",
       "GAP       Gapcoin       Scrypt   PoW/PoS         14931046       250000000\n",
       "BDX        Beldex  CryptoNight       PoW        980222595      1400222610\n",
       "ZEN       Horizen     Equihash       PoW          7296537        21000000\n",
       "XBC   BitcoinPlus       Scrypt       PoS           128326         1000000\n",
       "DVTC   DivotyCoin       Scrypt   PoW/PoS         21491213       100000000\n",
       "\n",
       "[744 rows x 5 columns]"
      ]
     },
     "execution_count": 389,
     "metadata": {},
     "output_type": "execute_result"
    }
   ],
   "source": [
    "crypto_df=crypto_df.astype({\"TotalCoinsMined\":int})\n",
    "crypto_df"
   ]
  },
  {
   "cell_type": "code",
   "execution_count": 390,
   "metadata": {},
   "outputs": [
    {
     "data": {
      "text/html": [
       "<div>\n",
       "<style scoped>\n",
       "    .dataframe tbody tr th:only-of-type {\n",
       "        vertical-align: middle;\n",
       "    }\n",
       "\n",
       "    .dataframe tbody tr th {\n",
       "        vertical-align: top;\n",
       "    }\n",
       "\n",
       "    .dataframe thead th {\n",
       "        text-align: right;\n",
       "    }\n",
       "</style>\n",
       "<table border=\"1\" class=\"dataframe\">\n",
       "  <thead>\n",
       "    <tr style=\"text-align: right;\">\n",
       "      <th></th>\n",
       "      <th>CoinName</th>\n",
       "      <th>Algorithm</th>\n",
       "      <th>ProofType</th>\n",
       "      <th>TotalCoinsMined</th>\n",
       "      <th>TotalCoinSupply</th>\n",
       "    </tr>\n",
       "  </thead>\n",
       "  <tbody>\n",
       "    <tr>\n",
       "      <th>42</th>\n",
       "      <td>42 Coin</td>\n",
       "      <td>Scrypt</td>\n",
       "      <td>PoW/PoS</td>\n",
       "      <td>41</td>\n",
       "      <td>42</td>\n",
       "    </tr>\n",
       "    <tr>\n",
       "      <th>404</th>\n",
       "      <td>404Coin</td>\n",
       "      <td>Scrypt</td>\n",
       "      <td>PoW/PoS</td>\n",
       "      <td>1055184902</td>\n",
       "      <td>532000000</td>\n",
       "    </tr>\n",
       "    <tr>\n",
       "      <th>1337</th>\n",
       "      <td>EliteCoin</td>\n",
       "      <td>X13</td>\n",
       "      <td>PoW/PoS</td>\n",
       "      <td>29279424622</td>\n",
       "      <td>314159265359</td>\n",
       "    </tr>\n",
       "    <tr>\n",
       "      <th>BTC</th>\n",
       "      <td>Bitcoin</td>\n",
       "      <td>SHA-256</td>\n",
       "      <td>PoW</td>\n",
       "      <td>17927175</td>\n",
       "      <td>21000000</td>\n",
       "    </tr>\n",
       "    <tr>\n",
       "      <th>ETH</th>\n",
       "      <td>Ethereum</td>\n",
       "      <td>Ethash</td>\n",
       "      <td>PoW</td>\n",
       "      <td>107684222</td>\n",
       "      <td>0</td>\n",
       "    </tr>\n",
       "    <tr>\n",
       "      <th>...</th>\n",
       "      <td>...</td>\n",
       "      <td>...</td>\n",
       "      <td>...</td>\n",
       "      <td>...</td>\n",
       "      <td>...</td>\n",
       "    </tr>\n",
       "    <tr>\n",
       "      <th>GAP</th>\n",
       "      <td>Gapcoin</td>\n",
       "      <td>Scrypt</td>\n",
       "      <td>PoW/PoS</td>\n",
       "      <td>14931046</td>\n",
       "      <td>250000000</td>\n",
       "    </tr>\n",
       "    <tr>\n",
       "      <th>BDX</th>\n",
       "      <td>Beldex</td>\n",
       "      <td>CryptoNight</td>\n",
       "      <td>PoW</td>\n",
       "      <td>980222595</td>\n",
       "      <td>1400222610</td>\n",
       "    </tr>\n",
       "    <tr>\n",
       "      <th>ZEN</th>\n",
       "      <td>Horizen</td>\n",
       "      <td>Equihash</td>\n",
       "      <td>PoW</td>\n",
       "      <td>7296537</td>\n",
       "      <td>21000000</td>\n",
       "    </tr>\n",
       "    <tr>\n",
       "      <th>XBC</th>\n",
       "      <td>BitcoinPlus</td>\n",
       "      <td>Scrypt</td>\n",
       "      <td>PoS</td>\n",
       "      <td>128326</td>\n",
       "      <td>1000000</td>\n",
       "    </tr>\n",
       "    <tr>\n",
       "      <th>DVTC</th>\n",
       "      <td>DivotyCoin</td>\n",
       "      <td>Scrypt</td>\n",
       "      <td>PoW/PoS</td>\n",
       "      <td>21491213</td>\n",
       "      <td>100000000</td>\n",
       "    </tr>\n",
       "  </tbody>\n",
       "</table>\n",
       "<p>578 rows × 5 columns</p>\n",
       "</div>"
      ],
      "text/plain": [
       "         CoinName    Algorithm ProofType  TotalCoinsMined TotalCoinSupply\n",
       "42        42 Coin       Scrypt   PoW/PoS               41              42\n",
       "404       404Coin       Scrypt   PoW/PoS       1055184902       532000000\n",
       "1337    EliteCoin          X13   PoW/PoS      29279424622    314159265359\n",
       "BTC       Bitcoin      SHA-256       PoW         17927175        21000000\n",
       "ETH      Ethereum       Ethash       PoW        107684222               0\n",
       "...           ...          ...       ...              ...             ...\n",
       "GAP       Gapcoin       Scrypt   PoW/PoS         14931046       250000000\n",
       "BDX        Beldex  CryptoNight       PoW        980222595      1400222610\n",
       "ZEN       Horizen     Equihash       PoW          7296537        21000000\n",
       "XBC   BitcoinPlus       Scrypt       PoS           128326         1000000\n",
       "DVTC   DivotyCoin       Scrypt   PoW/PoS         21491213       100000000\n",
       "\n",
       "[578 rows x 5 columns]"
      ]
     },
     "execution_count": 390,
     "metadata": {},
     "output_type": "execute_result"
    }
   ],
   "source": [
    "# Keep the rows where coins are mined.\n",
    "crypto_df = crypto_df.drop(crypto_df[crypto_df.TotalCoinsMined == 0].index)\n",
    "crypto_df"
   ]
  },
  {
   "cell_type": "code",
   "execution_count": 391,
   "metadata": {},
   "outputs": [
    {
     "data": {
      "text/html": [
       "<div>\n",
       "<style scoped>\n",
       "    .dataframe tbody tr th:only-of-type {\n",
       "        vertical-align: middle;\n",
       "    }\n",
       "\n",
       "    .dataframe tbody tr th {\n",
       "        vertical-align: top;\n",
       "    }\n",
       "\n",
       "    .dataframe thead th {\n",
       "        text-align: right;\n",
       "    }\n",
       "</style>\n",
       "<table border=\"1\" class=\"dataframe\">\n",
       "  <thead>\n",
       "    <tr style=\"text-align: right;\">\n",
       "      <th></th>\n",
       "      <th>CoinName</th>\n",
       "    </tr>\n",
       "  </thead>\n",
       "  <tbody>\n",
       "    <tr>\n",
       "      <th>42</th>\n",
       "      <td>42 Coin</td>\n",
       "    </tr>\n",
       "    <tr>\n",
       "      <th>404</th>\n",
       "      <td>404Coin</td>\n",
       "    </tr>\n",
       "    <tr>\n",
       "      <th>1337</th>\n",
       "      <td>EliteCoin</td>\n",
       "    </tr>\n",
       "    <tr>\n",
       "      <th>BTC</th>\n",
       "      <td>Bitcoin</td>\n",
       "    </tr>\n",
       "    <tr>\n",
       "      <th>ETH</th>\n",
       "      <td>Ethereum</td>\n",
       "    </tr>\n",
       "  </tbody>\n",
       "</table>\n",
       "</div>"
      ],
      "text/plain": [
       "       CoinName\n",
       "42      42 Coin\n",
       "404     404Coin\n",
       "1337  EliteCoin\n",
       "BTC     Bitcoin\n",
       "ETH    Ethereum"
      ]
     },
     "execution_count": 391,
     "metadata": {},
     "output_type": "execute_result"
    }
   ],
   "source": [
    "# Create a new DataFrame that holds only the cryptocurrencies names.\n",
    "Crypto1_df = pd.DataFrame (crypto_df, columns = ['CoinName'])\n",
    "Crypto1_df.head()"
   ]
  },
  {
   "cell_type": "code",
   "execution_count": 392,
   "metadata": {},
   "outputs": [],
   "source": [
    "# Drop the 'CoinName' column since it's not going to be used on the clustering algorithm.\n",
    "crypto_df.drop(columns=[\"CoinName\"],inplace=True)\n",
    "\n"
   ]
  },
  {
   "cell_type": "code",
   "execution_count": 393,
   "metadata": {},
   "outputs": [
    {
     "data": {
      "text/html": [
       "<div>\n",
       "<style scoped>\n",
       "    .dataframe tbody tr th:only-of-type {\n",
       "        vertical-align: middle;\n",
       "    }\n",
       "\n",
       "    .dataframe tbody tr th {\n",
       "        vertical-align: top;\n",
       "    }\n",
       "\n",
       "    .dataframe thead th {\n",
       "        text-align: right;\n",
       "    }\n",
       "</style>\n",
       "<table border=\"1\" class=\"dataframe\">\n",
       "  <thead>\n",
       "    <tr style=\"text-align: right;\">\n",
       "      <th></th>\n",
       "      <th>Algorithm</th>\n",
       "      <th>ProofType</th>\n",
       "      <th>TotalCoinsMined</th>\n",
       "      <th>TotalCoinSupply</th>\n",
       "    </tr>\n",
       "  </thead>\n",
       "  <tbody>\n",
       "    <tr>\n",
       "      <th>42</th>\n",
       "      <td>Scrypt</td>\n",
       "      <td>PoW/PoS</td>\n",
       "      <td>41</td>\n",
       "      <td>42</td>\n",
       "    </tr>\n",
       "    <tr>\n",
       "      <th>404</th>\n",
       "      <td>Scrypt</td>\n",
       "      <td>PoW/PoS</td>\n",
       "      <td>1055184902</td>\n",
       "      <td>532000000</td>\n",
       "    </tr>\n",
       "    <tr>\n",
       "      <th>1337</th>\n",
       "      <td>X13</td>\n",
       "      <td>PoW/PoS</td>\n",
       "      <td>29279424622</td>\n",
       "      <td>314159265359</td>\n",
       "    </tr>\n",
       "    <tr>\n",
       "      <th>BTC</th>\n",
       "      <td>SHA-256</td>\n",
       "      <td>PoW</td>\n",
       "      <td>17927175</td>\n",
       "      <td>21000000</td>\n",
       "    </tr>\n",
       "    <tr>\n",
       "      <th>ETH</th>\n",
       "      <td>Ethash</td>\n",
       "      <td>PoW</td>\n",
       "      <td>107684222</td>\n",
       "      <td>0</td>\n",
       "    </tr>\n",
       "    <tr>\n",
       "      <th>LTC</th>\n",
       "      <td>Scrypt</td>\n",
       "      <td>PoW</td>\n",
       "      <td>63039243</td>\n",
       "      <td>84000000</td>\n",
       "    </tr>\n",
       "    <tr>\n",
       "      <th>DASH</th>\n",
       "      <td>X11</td>\n",
       "      <td>PoW/PoS</td>\n",
       "      <td>9031294</td>\n",
       "      <td>22000000</td>\n",
       "    </tr>\n",
       "    <tr>\n",
       "      <th>XMR</th>\n",
       "      <td>CryptoNight-V7</td>\n",
       "      <td>PoW</td>\n",
       "      <td>17201143</td>\n",
       "      <td>0</td>\n",
       "    </tr>\n",
       "    <tr>\n",
       "      <th>ETC</th>\n",
       "      <td>Ethash</td>\n",
       "      <td>PoW</td>\n",
       "      <td>113359703</td>\n",
       "      <td>210000000</td>\n",
       "    </tr>\n",
       "    <tr>\n",
       "      <th>ZEC</th>\n",
       "      <td>Equihash</td>\n",
       "      <td>PoW</td>\n",
       "      <td>7383056</td>\n",
       "      <td>21000000</td>\n",
       "    </tr>\n",
       "  </tbody>\n",
       "</table>\n",
       "</div>"
      ],
      "text/plain": [
       "           Algorithm ProofType  TotalCoinsMined TotalCoinSupply\n",
       "42            Scrypt   PoW/PoS               41              42\n",
       "404           Scrypt   PoW/PoS       1055184902       532000000\n",
       "1337             X13   PoW/PoS      29279424622    314159265359\n",
       "BTC          SHA-256       PoW         17927175        21000000\n",
       "ETH           Ethash       PoW        107684222               0\n",
       "LTC           Scrypt       PoW         63039243        84000000\n",
       "DASH             X11   PoW/PoS          9031294        22000000\n",
       "XMR   CryptoNight-V7       PoW         17201143               0\n",
       "ETC           Ethash       PoW        113359703       210000000\n",
       "ZEC         Equihash       PoW          7383056        21000000"
      ]
     },
     "execution_count": 393,
     "metadata": {},
     "output_type": "execute_result"
    }
   ],
   "source": [
    "crypto_df.head(10)\n"
   ]
  },
  {
   "cell_type": "code",
   "execution_count": 394,
   "metadata": {},
   "outputs": [
    {
     "data": {
      "text/html": [
       "<div>\n",
       "<style scoped>\n",
       "    .dataframe tbody tr th:only-of-type {\n",
       "        vertical-align: middle;\n",
       "    }\n",
       "\n",
       "    .dataframe tbody tr th {\n",
       "        vertical-align: top;\n",
       "    }\n",
       "\n",
       "    .dataframe thead th {\n",
       "        text-align: right;\n",
       "    }\n",
       "</style>\n",
       "<table border=\"1\" class=\"dataframe\">\n",
       "  <thead>\n",
       "    <tr style=\"text-align: right;\">\n",
       "      <th></th>\n",
       "      <th>TotalCoinsMined</th>\n",
       "      <th>TotalCoinSupply</th>\n",
       "      <th>Algorithm_1GB AES Pattern Search</th>\n",
       "      <th>Algorithm_536</th>\n",
       "      <th>Algorithm_Argon2d</th>\n",
       "      <th>Algorithm_BLAKE256</th>\n",
       "      <th>Algorithm_Blake</th>\n",
       "      <th>Algorithm_Blake2S</th>\n",
       "      <th>Algorithm_Blake2b</th>\n",
       "      <th>Algorithm_C11</th>\n",
       "      <th>...</th>\n",
       "      <th>ProofType_PoW/PoS</th>\n",
       "      <th>ProofType_PoW/PoS</th>\n",
       "      <th>ProofType_PoW/PoW</th>\n",
       "      <th>ProofType_PoW/nPoS</th>\n",
       "      <th>ProofType_Pos</th>\n",
       "      <th>ProofType_Proof of Authority</th>\n",
       "      <th>ProofType_Proof of Trust</th>\n",
       "      <th>ProofType_TPoS</th>\n",
       "      <th>ProofType_Zero-Knowledge Proof</th>\n",
       "      <th>ProofType_dPoW/PoW</th>\n",
       "    </tr>\n",
       "  </thead>\n",
       "  <tbody>\n",
       "    <tr>\n",
       "      <th>42</th>\n",
       "      <td>41</td>\n",
       "      <td>42</td>\n",
       "      <td>0</td>\n",
       "      <td>0</td>\n",
       "      <td>0</td>\n",
       "      <td>0</td>\n",
       "      <td>0</td>\n",
       "      <td>0</td>\n",
       "      <td>0</td>\n",
       "      <td>0</td>\n",
       "      <td>...</td>\n",
       "      <td>1</td>\n",
       "      <td>0</td>\n",
       "      <td>0</td>\n",
       "      <td>0</td>\n",
       "      <td>0</td>\n",
       "      <td>0</td>\n",
       "      <td>0</td>\n",
       "      <td>0</td>\n",
       "      <td>0</td>\n",
       "      <td>0</td>\n",
       "    </tr>\n",
       "    <tr>\n",
       "      <th>404</th>\n",
       "      <td>1055184902</td>\n",
       "      <td>532000000</td>\n",
       "      <td>0</td>\n",
       "      <td>0</td>\n",
       "      <td>0</td>\n",
       "      <td>0</td>\n",
       "      <td>0</td>\n",
       "      <td>0</td>\n",
       "      <td>0</td>\n",
       "      <td>0</td>\n",
       "      <td>...</td>\n",
       "      <td>1</td>\n",
       "      <td>0</td>\n",
       "      <td>0</td>\n",
       "      <td>0</td>\n",
       "      <td>0</td>\n",
       "      <td>0</td>\n",
       "      <td>0</td>\n",
       "      <td>0</td>\n",
       "      <td>0</td>\n",
       "      <td>0</td>\n",
       "    </tr>\n",
       "    <tr>\n",
       "      <th>1337</th>\n",
       "      <td>29279424622</td>\n",
       "      <td>314159265359</td>\n",
       "      <td>0</td>\n",
       "      <td>0</td>\n",
       "      <td>0</td>\n",
       "      <td>0</td>\n",
       "      <td>0</td>\n",
       "      <td>0</td>\n",
       "      <td>0</td>\n",
       "      <td>0</td>\n",
       "      <td>...</td>\n",
       "      <td>1</td>\n",
       "      <td>0</td>\n",
       "      <td>0</td>\n",
       "      <td>0</td>\n",
       "      <td>0</td>\n",
       "      <td>0</td>\n",
       "      <td>0</td>\n",
       "      <td>0</td>\n",
       "      <td>0</td>\n",
       "      <td>0</td>\n",
       "    </tr>\n",
       "    <tr>\n",
       "      <th>BTC</th>\n",
       "      <td>17927175</td>\n",
       "      <td>21000000</td>\n",
       "      <td>0</td>\n",
       "      <td>0</td>\n",
       "      <td>0</td>\n",
       "      <td>0</td>\n",
       "      <td>0</td>\n",
       "      <td>0</td>\n",
       "      <td>0</td>\n",
       "      <td>0</td>\n",
       "      <td>...</td>\n",
       "      <td>0</td>\n",
       "      <td>0</td>\n",
       "      <td>0</td>\n",
       "      <td>0</td>\n",
       "      <td>0</td>\n",
       "      <td>0</td>\n",
       "      <td>0</td>\n",
       "      <td>0</td>\n",
       "      <td>0</td>\n",
       "      <td>0</td>\n",
       "    </tr>\n",
       "    <tr>\n",
       "      <th>ETH</th>\n",
       "      <td>107684222</td>\n",
       "      <td>0</td>\n",
       "      <td>0</td>\n",
       "      <td>0</td>\n",
       "      <td>0</td>\n",
       "      <td>0</td>\n",
       "      <td>0</td>\n",
       "      <td>0</td>\n",
       "      <td>0</td>\n",
       "      <td>0</td>\n",
       "      <td>...</td>\n",
       "      <td>0</td>\n",
       "      <td>0</td>\n",
       "      <td>0</td>\n",
       "      <td>0</td>\n",
       "      <td>0</td>\n",
       "      <td>0</td>\n",
       "      <td>0</td>\n",
       "      <td>0</td>\n",
       "      <td>0</td>\n",
       "      <td>0</td>\n",
       "    </tr>\n",
       "  </tbody>\n",
       "</table>\n",
       "<p>5 rows × 103 columns</p>\n",
       "</div>"
      ],
      "text/plain": [
       "      TotalCoinsMined TotalCoinSupply  Algorithm_1GB AES Pattern Search  \\\n",
       "42                 41              42                                 0   \n",
       "404        1055184902       532000000                                 0   \n",
       "1337      29279424622    314159265359                                 0   \n",
       "BTC          17927175        21000000                                 0   \n",
       "ETH         107684222               0                                 0   \n",
       "\n",
       "      Algorithm_536  Algorithm_Argon2d  Algorithm_BLAKE256  Algorithm_Blake  \\\n",
       "42                0                  0                   0                0   \n",
       "404               0                  0                   0                0   \n",
       "1337              0                  0                   0                0   \n",
       "BTC               0                  0                   0                0   \n",
       "ETH               0                  0                   0                0   \n",
       "\n",
       "      Algorithm_Blake2S  Algorithm_Blake2b  Algorithm_C11  ...  \\\n",
       "42                    0                  0              0  ...   \n",
       "404                   0                  0              0  ...   \n",
       "1337                  0                  0              0  ...   \n",
       "BTC                   0                  0              0  ...   \n",
       "ETH                   0                  0              0  ...   \n",
       "\n",
       "      ProofType_PoW/PoS  ProofType_PoW/PoS   ProofType_PoW/PoW  \\\n",
       "42                    1                   0                  0   \n",
       "404                   1                   0                  0   \n",
       "1337                  1                   0                  0   \n",
       "BTC                   0                   0                  0   \n",
       "ETH                   0                   0                  0   \n",
       "\n",
       "      ProofType_PoW/nPoS  ProofType_Pos  ProofType_Proof of Authority  \\\n",
       "42                     0              0                             0   \n",
       "404                    0              0                             0   \n",
       "1337                   0              0                             0   \n",
       "BTC                    0              0                             0   \n",
       "ETH                    0              0                             0   \n",
       "\n",
       "      ProofType_Proof of Trust  ProofType_TPoS  \\\n",
       "42                           0               0   \n",
       "404                          0               0   \n",
       "1337                         0               0   \n",
       "BTC                          0               0   \n",
       "ETH                          0               0   \n",
       "\n",
       "      ProofType_Zero-Knowledge Proof  ProofType_dPoW/PoW  \n",
       "42                                 0                   0  \n",
       "404                                0                   0  \n",
       "1337                               0                   0  \n",
       "BTC                                0                   0  \n",
       "ETH                                0                   0  \n",
       "\n",
       "[5 rows x 103 columns]"
      ]
     },
     "execution_count": 394,
     "metadata": {},
     "output_type": "execute_result"
    }
   ],
   "source": [
    "# Use get_dummies() to create variables for text features.\n",
    "X = pd.get_dummies(crypto_df, columns=[\"Algorithm\", \"ProofType\"])\n",
    "X.head()"
   ]
  },
  {
   "cell_type": "code",
   "execution_count": 395,
   "metadata": {},
   "outputs": [
    {
     "name": "stdout",
     "output_type": "stream",
     "text": [
      "[[-0.11416167 -0.15072664 -0.04163054 ... -0.04163054 -0.04163054\n",
      "  -0.04163054]\n",
      " [-0.09006124 -0.142553   -0.04163054 ... -0.04163054 -0.04163054\n",
      "  -0.04163054]\n",
      " [ 0.55458069  4.67601177 -0.04163054 ... -0.04163054 -0.04163054\n",
      "  -0.04163054]\n",
      " ...\n",
      " [-0.11399502 -0.150404   -0.04163054 ... -0.04163054 -0.04163054\n",
      "  -0.04163054]\n",
      " [-0.11415874 -0.15071128 -0.04163054 ... -0.04163054 -0.04163054\n",
      "  -0.04163054]\n",
      " [-0.11367081 -0.14919024 -0.04163054 ... -0.04163054 -0.04163054\n",
      "  -0.04163054]]\n"
     ]
    }
   ],
   "source": [
    "# Standardize the data with StandardScaler().\n",
    "crypto_scaled = StandardScaler().fit_transform(X)\n",
    "print(crypto_scaled)"
   ]
  },
  {
   "cell_type": "markdown",
   "metadata": {},
   "source": [
    "### Deliverable 2: Reducing Data Dimensions Using PCA"
   ]
  },
  {
   "cell_type": "code",
   "execution_count": 396,
   "metadata": {},
   "outputs": [],
   "source": [
    "# Using PCA to reduce dimension to three principal components.\n",
    "pca = PCA(n_components=3)"
   ]
  },
  {
   "cell_type": "code",
   "execution_count": 397,
   "metadata": {},
   "outputs": [],
   "source": [
    "crypto_pca = pca.fit_transform(crypto_scaled)"
   ]
  },
  {
   "cell_type": "code",
   "execution_count": 398,
   "metadata": {},
   "outputs": [
    {
     "data": {
      "text/html": [
       "<div>\n",
       "<style scoped>\n",
       "    .dataframe tbody tr th:only-of-type {\n",
       "        vertical-align: middle;\n",
       "    }\n",
       "\n",
       "    .dataframe tbody tr th {\n",
       "        vertical-align: top;\n",
       "    }\n",
       "\n",
       "    .dataframe thead th {\n",
       "        text-align: right;\n",
       "    }\n",
       "</style>\n",
       "<table border=\"1\" class=\"dataframe\">\n",
       "  <thead>\n",
       "    <tr style=\"text-align: right;\">\n",
       "      <th></th>\n",
       "      <th>PC 1</th>\n",
       "      <th>PC 2</th>\n",
       "      <th>PC 3</th>\n",
       "    </tr>\n",
       "  </thead>\n",
       "  <tbody>\n",
       "    <tr>\n",
       "      <th>42</th>\n",
       "      <td>-0.318744</td>\n",
       "      <td>1.089829</td>\n",
       "      <td>-0.531320</td>\n",
       "    </tr>\n",
       "    <tr>\n",
       "      <th>404</th>\n",
       "      <td>-0.301420</td>\n",
       "      <td>1.089982</td>\n",
       "      <td>-0.531750</td>\n",
       "    </tr>\n",
       "    <tr>\n",
       "      <th>1337</th>\n",
       "      <td>2.398226</td>\n",
       "      <td>1.551900</td>\n",
       "      <td>-0.589173</td>\n",
       "    </tr>\n",
       "    <tr>\n",
       "      <th>BTC</th>\n",
       "      <td>-0.142971</td>\n",
       "      <td>-1.339649</td>\n",
       "      <td>0.168257</td>\n",
       "    </tr>\n",
       "    <tr>\n",
       "      <th>ETH</th>\n",
       "      <td>-0.136253</td>\n",
       "      <td>-2.043655</td>\n",
       "      <td>0.352595</td>\n",
       "    </tr>\n",
       "  </tbody>\n",
       "</table>\n",
       "</div>"
      ],
      "text/plain": [
       "          PC 1      PC 2      PC 3\n",
       "42   -0.318744  1.089829 -0.531320\n",
       "404  -0.301420  1.089982 -0.531750\n",
       "1337  2.398226  1.551900 -0.589173\n",
       "BTC  -0.142971 -1.339649  0.168257\n",
       "ETH  -0.136253 -2.043655  0.352595"
      ]
     },
     "execution_count": 398,
     "metadata": {},
     "output_type": "execute_result"
    }
   ],
   "source": [
    "# Create a DataFrame with the three principal components.\n",
    "pcs_df= pd.DataFrame(data = crypto_pca, columns=[\"PC 1\", \"PC 2\",\"PC 3\"], index=X.index)\n",
    "pcs_df.head()"
   ]
  },
  {
   "cell_type": "markdown",
   "metadata": {},
   "source": [
    "### Deliverable 3: Clustering Crytocurrencies Using K-Means\n",
    "\n",
    "#### Finding the Best Value for `k` Using the Elbow Curve"
   ]
  },
  {
   "cell_type": "code",
   "execution_count": 399,
   "metadata": {},
   "outputs": [],
   "source": [
    "inertia = []\n",
    "k = list(range(1, 11))"
   ]
  },
  {
   "cell_type": "code",
   "execution_count": 400,
   "metadata": {},
   "outputs": [],
   "source": [
    "# Looking for the best K\n",
    "for i in k:\n",
    "    km = KMeans(n_clusters=i, random_state=0)\n",
    "    km.fit(pcs_df)\n",
    "    inertia.append(km.inertia_)"
   ]
  },
  {
   "cell_type": "code",
   "execution_count": 401,
   "metadata": {},
   "outputs": [
    {
     "data": {
      "text/plain": [
       "10"
      ]
     },
     "execution_count": 401,
     "metadata": {},
     "output_type": "execute_result"
    }
   ],
   "source": [
    "len(k)"
   ]
  },
  {
   "cell_type": "code",
   "execution_count": 402,
   "metadata": {},
   "outputs": [
    {
     "data": {
      "text/plain": [
       "10"
      ]
     },
     "execution_count": 402,
     "metadata": {},
     "output_type": "execute_result"
    }
   ],
   "source": [
    "len(inertia)"
   ]
  },
  {
   "cell_type": "code",
   "execution_count": 403,
   "metadata": {},
   "outputs": [
    {
     "data": {},
     "metadata": {},
     "output_type": "display_data"
    },
    {
     "data": {
      "application/vnd.holoviews_exec.v0+json": "",
      "text/html": [
       "<div id='1760'>\n",
       "\n",
       "\n",
       "\n",
       "\n",
       "\n",
       "  <div class=\"bk-root\" id=\"6b319735-1e24-4d43-b0f1-41f7517896fa\" data-root-id=\"1760\"></div>\n",
       "</div>\n",
       "<script type=\"application/javascript\">(function(root) {\n",
       "  function embed_document(root) {\n",
       "  var docs_json = {\"35903a00-9c77-467f-822e-72c196b30cca\":{\"roots\":{\"references\":[{\"attributes\":{\"data_source\":{\"id\":\"1795\"},\"glyph\":{\"id\":\"1798\"},\"hover_glyph\":null,\"muted_glyph\":{\"id\":\"1800\"},\"nonselection_glyph\":{\"id\":\"1799\"},\"selection_glyph\":null,\"view\":{\"id\":\"1802\"}},\"id\":\"1801\",\"type\":\"GlyphRenderer\"},{\"attributes\":{\"margin\":[5,5,5,5],\"name\":\"HSpacer02907\",\"sizing_mode\":\"stretch_width\"},\"id\":\"1824\",\"type\":\"Spacer\"},{\"attributes\":{\"active_drag\":\"auto\",\"active_inspect\":\"auto\",\"active_multi\":null,\"active_scroll\":\"auto\",\"active_tap\":\"auto\",\"tools\":[{\"id\":\"1764\"},{\"id\":\"1782\"},{\"id\":\"1783\"},{\"id\":\"1784\"},{\"id\":\"1785\"},{\"id\":\"1786\"}]},\"id\":\"1788\",\"type\":\"Toolbar\"},{\"attributes\":{\"source\":{\"id\":\"1795\"}},\"id\":\"1802\",\"type\":\"CDSView\"},{\"attributes\":{},\"id\":\"1786\",\"type\":\"ResetTool\"},{\"attributes\":{},\"id\":\"1805\",\"type\":\"BasicTickFormatter\"},{\"attributes\":{\"children\":[{\"id\":\"1761\"},{\"id\":\"1765\"},{\"id\":\"1824\"}],\"margin\":[0,0,0,0],\"name\":\"Row02902\",\"tags\":[\"embedded\"]},\"id\":\"1760\",\"type\":\"Row\"},{\"attributes\":{\"ticks\":[1,2,3,4,5,6,7,8,9,10]},\"id\":\"1803\",\"type\":\"FixedTicker\"},{\"attributes\":{\"end\":10.0,\"reset_end\":10.0,\"reset_start\":1.0,\"start\":1.0,\"tags\":[[[\"k\",\"k\",null]]]},\"id\":\"1762\",\"type\":\"Range1d\"},{\"attributes\":{},\"id\":\"1779\",\"type\":\"BasicTicker\"},{\"attributes\":{\"data\":{\"inertia\":{\"__ndarray__\":\"VIoWdGPRrkAGi1q5HPakQHK46bdgvJlA2X+isSoeiEDddKiXJXOAQICZ6t4r53RAHXaCae97cED2C8JJTVNrQOnjsw7q1mdAmpzMxdqZZEA=\",\"dtype\":\"float64\",\"order\":\"little\",\"shape\":[10]},\"k\":[1,2,3,4,5,6,7,8,9,10]},\"selected\":{\"id\":\"1796\"},\"selection_policy\":{\"id\":\"1816\"}},\"id\":\"1795\",\"type\":\"ColumnDataSource\"},{\"attributes\":{\"margin\":[5,5,5,5],\"name\":\"HSpacer02906\",\"sizing_mode\":\"stretch_width\"},\"id\":\"1761\",\"type\":\"Spacer\"},{\"attributes\":{},\"id\":\"1770\",\"type\":\"LinearScale\"},{\"attributes\":{\"axis_label\":\"inertia\",\"bounds\":\"auto\",\"formatter\":{\"id\":\"1809\"},\"major_label_orientation\":\"horizontal\",\"ticker\":{\"id\":\"1779\"}},\"id\":\"1778\",\"type\":\"LinearAxis\"},{\"attributes\":{\"line_alpha\":0.2,\"line_color\":\"#1f77b3\",\"line_width\":2,\"x\":{\"field\":\"k\"},\"y\":{\"field\":\"inertia\"}},\"id\":\"1800\",\"type\":\"Line\"},{\"attributes\":{\"line_alpha\":0.1,\"line_color\":\"#1f77b3\",\"line_width\":2,\"x\":{\"field\":\"k\"},\"y\":{\"field\":\"inertia\"}},\"id\":\"1799\",\"type\":\"Line\"},{\"attributes\":{\"line_color\":\"#1f77b3\",\"line_width\":2,\"x\":{\"field\":\"k\"},\"y\":{\"field\":\"inertia\"}},\"id\":\"1798\",\"type\":\"Line\"},{\"attributes\":{\"callback\":null,\"renderers\":[{\"id\":\"1801\"}],\"tags\":[\"hv_created\"],\"tooltips\":[[\"k\",\"@{k}\"],[\"inertia\",\"@{inertia}\"]]},\"id\":\"1764\",\"type\":\"HoverTool\"},{\"attributes\":{},\"id\":\"1783\",\"type\":\"PanTool\"},{\"attributes\":{},\"id\":\"1772\",\"type\":\"LinearScale\"},{\"attributes\":{\"end\":4322.682873997555,\"reset_end\":4322.682873997555,\"reset_start\":-213.18067329487138,\"start\":-213.18067329487138,\"tags\":[[[\"inertia\",\"inertia\",null]]]},\"id\":\"1763\",\"type\":\"Range1d\"},{\"attributes\":{\"axis_label\":\"k\",\"bounds\":\"auto\",\"formatter\":{\"id\":\"1805\"},\"major_label_orientation\":\"horizontal\",\"ticker\":{\"id\":\"1803\"}},\"id\":\"1774\",\"type\":\"LinearAxis\"},{\"attributes\":{\"axis\":{\"id\":\"1774\"},\"grid_line_color\":null,\"ticker\":null},\"id\":\"1777\",\"type\":\"Grid\"},{\"attributes\":{},\"id\":\"1784\",\"type\":\"WheelZoomTool\"},{\"attributes\":{\"bottom_units\":\"screen\",\"fill_alpha\":0.5,\"fill_color\":\"lightgrey\",\"left_units\":\"screen\",\"level\":\"overlay\",\"line_alpha\":1.0,\"line_color\":\"black\",\"line_dash\":[4,4],\"line_width\":2,\"right_units\":\"screen\",\"top_units\":\"screen\"},\"id\":\"1787\",\"type\":\"BoxAnnotation\"},{\"attributes\":{\"align\":null,\"below\":[{\"id\":\"1774\"}],\"center\":[{\"id\":\"1777\"},{\"id\":\"1781\"}],\"left\":[{\"id\":\"1778\"}],\"margin\":null,\"min_border_bottom\":10,\"min_border_left\":10,\"min_border_right\":10,\"min_border_top\":10,\"plot_height\":300,\"plot_width\":700,\"renderers\":[{\"id\":\"1801\"}],\"sizing_mode\":\"fixed\",\"title\":{\"id\":\"1766\"},\"toolbar\":{\"id\":\"1788\"},\"x_range\":{\"id\":\"1762\"},\"x_scale\":{\"id\":\"1770\"},\"y_range\":{\"id\":\"1763\"},\"y_scale\":{\"id\":\"1772\"}},\"id\":\"1765\",\"subtype\":\"Figure\",\"type\":\"Plot\"},{\"attributes\":{\"overlay\":{\"id\":\"1787\"}},\"id\":\"1785\",\"type\":\"BoxZoomTool\"},{\"attributes\":{},\"id\":\"1796\",\"type\":\"Selection\"},{\"attributes\":{},\"id\":\"1816\",\"type\":\"UnionRenderers\"},{\"attributes\":{\"axis\":{\"id\":\"1778\"},\"dimension\":1,\"grid_line_color\":null,\"ticker\":null},\"id\":\"1781\",\"type\":\"Grid\"},{\"attributes\":{},\"id\":\"1782\",\"type\":\"SaveTool\"},{\"attributes\":{},\"id\":\"1809\",\"type\":\"BasicTickFormatter\"},{\"attributes\":{\"text\":\"Elbow Curve\",\"text_color\":{\"value\":\"black\"},\"text_font_size\":{\"value\":\"12pt\"}},\"id\":\"1766\",\"type\":\"Title\"}],\"root_ids\":[\"1760\"]},\"title\":\"Bokeh Application\",\"version\":\"2.1.1\"}};\n",
       "  var render_items = [{\"docid\":\"35903a00-9c77-467f-822e-72c196b30cca\",\"root_ids\":[\"1760\"],\"roots\":{\"1760\":\"6b319735-1e24-4d43-b0f1-41f7517896fa\"}}];\n",
       "  root.Bokeh.embed.embed_items_notebook(docs_json, render_items);\n",
       "  }\n",
       "if (root.Bokeh !== undefined) {\n",
       "    embed_document(root);\n",
       "  } else {\n",
       "    var attempts = 0;\n",
       "    var timer = setInterval(function(root) {\n",
       "      if (root.Bokeh !== undefined) {\n",
       "        clearInterval(timer);\n",
       "        embed_document(root);\n",
       "      } else if (document.readyState == \"complete\") {\n",
       "        attempts++;\n",
       "        if (attempts > 100) {\n",
       "          clearInterval(timer);\n",
       "          console.log(\"Bokeh: ERROR: Unable to run BokehJS code because BokehJS library is missing\");\n",
       "        }\n",
       "      }\n",
       "    }, 10, root)\n",
       "  }\n",
       "})(window);</script>"
      ],
      "text/plain": [
       ":Curve   [k]   (inertia)"
      ]
     },
     "execution_count": 403,
     "metadata": {
      "application/vnd.holoviews_exec.v0+json": {
       "id": "1760"
      }
     },
     "output_type": "execute_result"
    }
   ],
   "source": [
    "# Create an elbow curve to find the best value for K.\n",
    "elbow_data = {\"k\": k, \"inertia\": inertia}\n",
    "df_elbow = pd.DataFrame(elbow_data)\n",
    "df_elbow.hvplot.line(x=\"k\", y=\"inertia\", title=\"Elbow Curve\", xticks=k)\n"
   ]
  },
  {
   "cell_type": "markdown",
   "metadata": {},
   "source": [
    "Running K-Means with `k=4`"
   ]
  },
  {
   "cell_type": "code",
   "execution_count": 442,
   "metadata": {},
   "outputs": [
    {
     "name": "stdout",
     "output_type": "stream",
     "text": [
      "[2 2 2 0 0 0 2 0 0 0 2 0 2 2 0 2 0 0 2 2 0 0 0 0 0 2 0 0 0 2 0 2 0 0 2 2 0\n",
      " 0 0 0 0 0 2 2 0 0 0 0 0 2 2 0 2 0 0 0 0 2 0 0 2 0 2 2 2 0 0 0 2 2 2 2 2 0\n",
      " 0 0 2 2 0 2 0 2 2 0 0 0 0 2 2 0 2 0 0 2 2 0 2 2 0 0 2 2 0 2 2 0 2 0 2 0 2\n",
      " 0 2 2 0 0 2 0 0 0 2 0 0 0 0 0 2 2 0 0 0 2 0 2 0 0 2 0 2 0 2 2 0 0 2 0 0 2\n",
      " 2 0 2 0 2 2 2 0 0 0 0 2 2 2 2 2 0 0 0 2 2 2 2 2 0 2 2 2 2 2 0 2 0 2 2 0 2\n",
      " 0 2 2 0 2 0 2 0 2 0 2 2 2 2 0 2 2 2 2 2 0 0 2 2 0 0 2 2 2 2 2 0 2 2 2 2 2\n",
      " 2 2 2 0 2 2 2 2 2 2 0 0 0 2 2 2 2 0 2 0 2 2 0 2 0 0 2 0 0 2 0 2 2 2 0 2 2\n",
      " 0 2 2 2 2 2 2 2 0 2 0 2 2 2 2 0 2 0 2 0 0 0 0 2 0 2 2 0 2 0 0 0 2 0 2 0 0\n",
      " 0 2 0 2 0 2 2 2 0 2 0 0 0 0 0 2 2 0 2 2 2 0 2 0 2 0 2 0 2 2 2 2 0 2 2 0 2\n",
      " 2 2 0 0 0 0 2 2 2 2 2 0 2 0 0 0 2 0 2 0 0 2 2 0 2 0 0 2 2 0 0 2 0 0 2 2 2\n",
      " 2 0 0 0 2 0 0 2 0 0 2 0 2 0 2 0 0 2 2 3 0 0 2 2 2 0 2 2 2 2 2 2 0 0 0 0 0\n",
      " 2 0 2 2 2 0 2 0 2 2 2 0 2 0 2 2 0 2 2 0 0 2 0 2 0 2 2 0 2 2 0 0 2 2 2 2 0\n",
      " 2 0 2 2 2 2 2 0 2 2 0 0 0 2 2 2 2 2 2 2 0 0 2 0 0 0 0 0 2 0 2 2 2 0 2 2 0\n",
      " 2 2 2 2 0 2 0 2 0 0 2 0 2 0 2 2 0 2 0 0 0 0 0 0 0 2 0 2 0 2 2 0 0 2 2 2 2\n",
      " 2 0 0 0 2 2 0 2 0 2 0 2 0 2 2 2 2 0 2 2 2 0 2 0 2 0 2 2 2 0 0 2 2 2 2 2 2\n",
      " 3 0 2 0 0 2 2 0 2 2 2 2 2 2 1 0 2 2 2 0 0 2 2]\n"
     ]
    }
   ],
   "source": [
    "# Initialize the K-Means model.\n",
    "model = KMeans(n_clusters=4)\n",
    "model\n",
    "\n",
    "# Fit the model\n",
    "model.fit(pcs_df)\n",
    "\n",
    "# Predict clusters\n",
    "predictions = model.predict(pcs_df)\n",
    "print(predictions)"
   ]
  },
  {
   "cell_type": "code",
   "execution_count": 443,
   "metadata": {},
   "outputs": [
    {
     "data": {
      "text/html": [
       "<div>\n",
       "<style scoped>\n",
       "    .dataframe tbody tr th:only-of-type {\n",
       "        vertical-align: middle;\n",
       "    }\n",
       "\n",
       "    .dataframe tbody tr th {\n",
       "        vertical-align: top;\n",
       "    }\n",
       "\n",
       "    .dataframe thead th {\n",
       "        text-align: right;\n",
       "    }\n",
       "</style>\n",
       "<table border=\"1\" class=\"dataframe\">\n",
       "  <thead>\n",
       "    <tr style=\"text-align: right;\">\n",
       "      <th></th>\n",
       "      <th>Algorithm</th>\n",
       "      <th>ProofType</th>\n",
       "      <th>TotalCoinsMined</th>\n",
       "      <th>TotalCoinSupply</th>\n",
       "    </tr>\n",
       "  </thead>\n",
       "  <tbody>\n",
       "    <tr>\n",
       "      <th>42</th>\n",
       "      <td>Scrypt</td>\n",
       "      <td>PoW/PoS</td>\n",
       "      <td>41</td>\n",
       "      <td>42</td>\n",
       "    </tr>\n",
       "    <tr>\n",
       "      <th>404</th>\n",
       "      <td>Scrypt</td>\n",
       "      <td>PoW/PoS</td>\n",
       "      <td>1055184902</td>\n",
       "      <td>532000000</td>\n",
       "    </tr>\n",
       "    <tr>\n",
       "      <th>1337</th>\n",
       "      <td>X13</td>\n",
       "      <td>PoW/PoS</td>\n",
       "      <td>29279424622</td>\n",
       "      <td>314159265359</td>\n",
       "    </tr>\n",
       "    <tr>\n",
       "      <th>BTC</th>\n",
       "      <td>SHA-256</td>\n",
       "      <td>PoW</td>\n",
       "      <td>17927175</td>\n",
       "      <td>21000000</td>\n",
       "    </tr>\n",
       "    <tr>\n",
       "      <th>ETH</th>\n",
       "      <td>Ethash</td>\n",
       "      <td>PoW</td>\n",
       "      <td>107684222</td>\n",
       "      <td>0</td>\n",
       "    </tr>\n",
       "    <tr>\n",
       "      <th>...</th>\n",
       "      <td>...</td>\n",
       "      <td>...</td>\n",
       "      <td>...</td>\n",
       "      <td>...</td>\n",
       "    </tr>\n",
       "    <tr>\n",
       "      <th>GAP</th>\n",
       "      <td>Scrypt</td>\n",
       "      <td>PoW/PoS</td>\n",
       "      <td>14931046</td>\n",
       "      <td>250000000</td>\n",
       "    </tr>\n",
       "    <tr>\n",
       "      <th>BDX</th>\n",
       "      <td>CryptoNight</td>\n",
       "      <td>PoW</td>\n",
       "      <td>980222595</td>\n",
       "      <td>1400222610</td>\n",
       "    </tr>\n",
       "    <tr>\n",
       "      <th>ZEN</th>\n",
       "      <td>Equihash</td>\n",
       "      <td>PoW</td>\n",
       "      <td>7296537</td>\n",
       "      <td>21000000</td>\n",
       "    </tr>\n",
       "    <tr>\n",
       "      <th>XBC</th>\n",
       "      <td>Scrypt</td>\n",
       "      <td>PoS</td>\n",
       "      <td>128326</td>\n",
       "      <td>1000000</td>\n",
       "    </tr>\n",
       "    <tr>\n",
       "      <th>DVTC</th>\n",
       "      <td>Scrypt</td>\n",
       "      <td>PoW/PoS</td>\n",
       "      <td>21491213</td>\n",
       "      <td>100000000</td>\n",
       "    </tr>\n",
       "  </tbody>\n",
       "</table>\n",
       "<p>578 rows × 4 columns</p>\n",
       "</div>"
      ],
      "text/plain": [
       "        Algorithm ProofType  TotalCoinsMined TotalCoinSupply\n",
       "42         Scrypt   PoW/PoS               41              42\n",
       "404        Scrypt   PoW/PoS       1055184902       532000000\n",
       "1337          X13   PoW/PoS      29279424622    314159265359\n",
       "BTC       SHA-256       PoW         17927175        21000000\n",
       "ETH        Ethash       PoW        107684222               0\n",
       "...           ...       ...              ...             ...\n",
       "GAP        Scrypt   PoW/PoS         14931046       250000000\n",
       "BDX   CryptoNight       PoW        980222595      1400222610\n",
       "ZEN      Equihash       PoW          7296537        21000000\n",
       "XBC        Scrypt       PoS           128326         1000000\n",
       "DVTC       Scrypt   PoW/PoS         21491213       100000000\n",
       "\n",
       "[578 rows x 4 columns]"
      ]
     },
     "execution_count": 443,
     "metadata": {},
     "output_type": "execute_result"
    }
   ],
   "source": [
    "crypto_df"
   ]
  },
  {
   "cell_type": "code",
   "execution_count": 444,
   "metadata": {},
   "outputs": [
    {
     "data": {
      "text/html": [
       "<div>\n",
       "<style scoped>\n",
       "    .dataframe tbody tr th:only-of-type {\n",
       "        vertical-align: middle;\n",
       "    }\n",
       "\n",
       "    .dataframe tbody tr th {\n",
       "        vertical-align: top;\n",
       "    }\n",
       "\n",
       "    .dataframe thead th {\n",
       "        text-align: right;\n",
       "    }\n",
       "</style>\n",
       "<table border=\"1\" class=\"dataframe\">\n",
       "  <thead>\n",
       "    <tr style=\"text-align: right;\">\n",
       "      <th></th>\n",
       "      <th>PC 1</th>\n",
       "      <th>PC 2</th>\n",
       "      <th>PC 3</th>\n",
       "    </tr>\n",
       "  </thead>\n",
       "  <tbody>\n",
       "    <tr>\n",
       "      <th>42</th>\n",
       "      <td>-0.318744</td>\n",
       "      <td>1.089829</td>\n",
       "      <td>-0.531320</td>\n",
       "    </tr>\n",
       "    <tr>\n",
       "      <th>404</th>\n",
       "      <td>-0.301420</td>\n",
       "      <td>1.089982</td>\n",
       "      <td>-0.531750</td>\n",
       "    </tr>\n",
       "    <tr>\n",
       "      <th>1337</th>\n",
       "      <td>2.398226</td>\n",
       "      <td>1.551900</td>\n",
       "      <td>-0.589173</td>\n",
       "    </tr>\n",
       "    <tr>\n",
       "      <th>BTC</th>\n",
       "      <td>-0.142971</td>\n",
       "      <td>-1.339649</td>\n",
       "      <td>0.168257</td>\n",
       "    </tr>\n",
       "    <tr>\n",
       "      <th>ETH</th>\n",
       "      <td>-0.136253</td>\n",
       "      <td>-2.043655</td>\n",
       "      <td>0.352595</td>\n",
       "    </tr>\n",
       "    <tr>\n",
       "      <th>...</th>\n",
       "      <td>...</td>\n",
       "      <td>...</td>\n",
       "      <td>...</td>\n",
       "    </tr>\n",
       "    <tr>\n",
       "      <th>GAP</th>\n",
       "      <td>-0.316718</td>\n",
       "      <td>1.089710</td>\n",
       "      <td>-0.531337</td>\n",
       "    </tr>\n",
       "    <tr>\n",
       "      <th>BDX</th>\n",
       "      <td>0.325241</td>\n",
       "      <td>-2.366699</td>\n",
       "      <td>0.443941</td>\n",
       "    </tr>\n",
       "    <tr>\n",
       "      <th>ZEN</th>\n",
       "      <td>-0.179332</td>\n",
       "      <td>-2.103804</td>\n",
       "      <td>0.428749</td>\n",
       "    </tr>\n",
       "    <tr>\n",
       "      <th>XBC</th>\n",
       "      <td>-0.259240</td>\n",
       "      <td>0.794743</td>\n",
       "      <td>-0.224727</td>\n",
       "    </tr>\n",
       "    <tr>\n",
       "      <th>DVTC</th>\n",
       "      <td>-0.317736</td>\n",
       "      <td>1.089787</td>\n",
       "      <td>-0.531333</td>\n",
       "    </tr>\n",
       "  </tbody>\n",
       "</table>\n",
       "<p>578 rows × 3 columns</p>\n",
       "</div>"
      ],
      "text/plain": [
       "          PC 1      PC 2      PC 3\n",
       "42   -0.318744  1.089829 -0.531320\n",
       "404  -0.301420  1.089982 -0.531750\n",
       "1337  2.398226  1.551900 -0.589173\n",
       "BTC  -0.142971 -1.339649  0.168257\n",
       "ETH  -0.136253 -2.043655  0.352595\n",
       "...        ...       ...       ...\n",
       "GAP  -0.316718  1.089710 -0.531337\n",
       "BDX   0.325241 -2.366699  0.443941\n",
       "ZEN  -0.179332 -2.103804  0.428749\n",
       "XBC  -0.259240  0.794743 -0.224727\n",
       "DVTC -0.317736  1.089787 -0.531333\n",
       "\n",
       "[578 rows x 3 columns]"
      ]
     },
     "execution_count": 444,
     "metadata": {},
     "output_type": "execute_result"
    }
   ],
   "source": [
    "pcs_df"
   ]
  },
  {
   "cell_type": "code",
   "execution_count": 445,
   "metadata": {},
   "outputs": [
    {
     "name": "stdout",
     "output_type": "stream",
     "text": [
      "(578, 9)\n"
     ]
    },
    {
     "data": {
      "text/html": [
       "<div>\n",
       "<style scoped>\n",
       "    .dataframe tbody tr th:only-of-type {\n",
       "        vertical-align: middle;\n",
       "    }\n",
       "\n",
       "    .dataframe tbody tr th {\n",
       "        vertical-align: top;\n",
       "    }\n",
       "\n",
       "    .dataframe thead th {\n",
       "        text-align: right;\n",
       "    }\n",
       "</style>\n",
       "<table border=\"1\" class=\"dataframe\">\n",
       "  <thead>\n",
       "    <tr style=\"text-align: right;\">\n",
       "      <th></th>\n",
       "      <th>PC 1</th>\n",
       "      <th>PC 2</th>\n",
       "      <th>PC 3</th>\n",
       "      <th>Algorithm</th>\n",
       "      <th>ProofType</th>\n",
       "      <th>TotalCoinsMined</th>\n",
       "      <th>TotalCoinSupply</th>\n",
       "      <th>CoinName</th>\n",
       "      <th>class</th>\n",
       "    </tr>\n",
       "  </thead>\n",
       "  <tbody>\n",
       "    <tr>\n",
       "      <th>AC3</th>\n",
       "      <td>-0.226719</td>\n",
       "      <td>-0.937329</td>\n",
       "      <td>0.039231</td>\n",
       "      <td>X11</td>\n",
       "      <td>PoW</td>\n",
       "      <td>80316207</td>\n",
       "      <td>550000000</td>\n",
       "      <td>AC3</td>\n",
       "      <td>2</td>\n",
       "    </tr>\n",
       "    <tr>\n",
       "      <th>ABY</th>\n",
       "      <td>-0.128187</td>\n",
       "      <td>-1.022951</td>\n",
       "      <td>-0.005162</td>\n",
       "      <td>Scrypt</td>\n",
       "      <td>PoW</td>\n",
       "      <td>792537250</td>\n",
       "      <td>1000000000</td>\n",
       "      <td>ArtByte</td>\n",
       "      <td>1</td>\n",
       "    </tr>\n",
       "    <tr>\n",
       "      <th>ABS</th>\n",
       "      <td>-0.354777</td>\n",
       "      <td>0.650605</td>\n",
       "      <td>-0.268284</td>\n",
       "      <td>Lyra2REv2</td>\n",
       "      <td>PoW/PoS</td>\n",
       "      <td>13332617</td>\n",
       "      <td>52500000</td>\n",
       "      <td>Absolute Coin</td>\n",
       "      <td>0</td>\n",
       "    </tr>\n",
       "    <tr>\n",
       "      <th>ABJ</th>\n",
       "      <td>-0.318398</td>\n",
       "      <td>1.089818</td>\n",
       "      <td>-0.531325</td>\n",
       "      <td>Scrypt</td>\n",
       "      <td>PoW/PoS</td>\n",
       "      <td>9880502</td>\n",
       "      <td>30000000</td>\n",
       "      <td>Abjcoin</td>\n",
       "      <td>2</td>\n",
       "    </tr>\n",
       "    <tr>\n",
       "      <th>AAC</th>\n",
       "      <td>-0.436554</td>\n",
       "      <td>3.330457</td>\n",
       "      <td>6.143303</td>\n",
       "      <td>ECC 256K1</td>\n",
       "      <td>DPOS</td>\n",
       "      <td>1000000000</td>\n",
       "      <td>1000000000</td>\n",
       "      <td>Acute Angle Cloud</td>\n",
       "      <td>2</td>\n",
       "    </tr>\n",
       "    <tr>\n",
       "      <th>8BIT</th>\n",
       "      <td>-0.318726</td>\n",
       "      <td>1.089829</td>\n",
       "      <td>-0.531320</td>\n",
       "      <td>Scrypt</td>\n",
       "      <td>PoW/PoS</td>\n",
       "      <td>1467841</td>\n",
       "      <td>0</td>\n",
       "      <td>8BIT Coin</td>\n",
       "      <td>2</td>\n",
       "    </tr>\n",
       "    <tr>\n",
       "      <th>42</th>\n",
       "      <td>-0.318744</td>\n",
       "      <td>1.089829</td>\n",
       "      <td>-0.531320</td>\n",
       "      <td>Scrypt</td>\n",
       "      <td>PoW/PoS</td>\n",
       "      <td>41</td>\n",
       "      <td>42</td>\n",
       "      <td>42 Coin</td>\n",
       "      <td>0</td>\n",
       "    </tr>\n",
       "    <tr>\n",
       "      <th>404</th>\n",
       "      <td>-0.301420</td>\n",
       "      <td>1.089982</td>\n",
       "      <td>-0.531750</td>\n",
       "      <td>Scrypt</td>\n",
       "      <td>PoW/PoS</td>\n",
       "      <td>1055184902</td>\n",
       "      <td>532000000</td>\n",
       "      <td>404Coin</td>\n",
       "      <td>0</td>\n",
       "    </tr>\n",
       "    <tr>\n",
       "      <th>1CR</th>\n",
       "      <td>0.530295</td>\n",
       "      <td>-1.068544</td>\n",
       "      <td>-0.009218</td>\n",
       "      <td>Scrypt</td>\n",
       "      <td>PoW</td>\n",
       "      <td>88213</td>\n",
       "      <td>92000000000</td>\n",
       "      <td>1Credit</td>\n",
       "      <td>2</td>\n",
       "    </tr>\n",
       "    <tr>\n",
       "      <th>1337</th>\n",
       "      <td>2.398226</td>\n",
       "      <td>1.551900</td>\n",
       "      <td>-0.589173</td>\n",
       "      <td>X13</td>\n",
       "      <td>PoW/PoS</td>\n",
       "      <td>29279424622</td>\n",
       "      <td>314159265359</td>\n",
       "      <td>EliteCoin</td>\n",
       "      <td>2</td>\n",
       "    </tr>\n",
       "  </tbody>\n",
       "</table>\n",
       "</div>"
      ],
      "text/plain": [
       "          PC 1      PC 2      PC 3  Algorithm ProofType  TotalCoinsMined  \\\n",
       "AC3  -0.226719 -0.937329  0.039231        X11       PoW         80316207   \n",
       "ABY  -0.128187 -1.022951 -0.005162     Scrypt       PoW        792537250   \n",
       "ABS  -0.354777  0.650605 -0.268284  Lyra2REv2   PoW/PoS         13332617   \n",
       "ABJ  -0.318398  1.089818 -0.531325     Scrypt   PoW/PoS          9880502   \n",
       "AAC  -0.436554  3.330457  6.143303  ECC 256K1      DPOS       1000000000   \n",
       "8BIT -0.318726  1.089829 -0.531320     Scrypt   PoW/PoS          1467841   \n",
       "42   -0.318744  1.089829 -0.531320     Scrypt   PoW/PoS               41   \n",
       "404  -0.301420  1.089982 -0.531750     Scrypt   PoW/PoS       1055184902   \n",
       "1CR   0.530295 -1.068544 -0.009218     Scrypt       PoW            88213   \n",
       "1337  2.398226  1.551900 -0.589173        X13   PoW/PoS      29279424622   \n",
       "\n",
       "     TotalCoinSupply           CoinName  class  \n",
       "AC3        550000000                AC3      2  \n",
       "ABY       1000000000            ArtByte      1  \n",
       "ABS         52500000      Absolute Coin      0  \n",
       "ABJ         30000000            Abjcoin      2  \n",
       "AAC       1000000000  Acute Angle Cloud      2  \n",
       "8BIT               0          8BIT Coin      2  \n",
       "42                42            42 Coin      0  \n",
       "404        532000000            404Coin      0  \n",
       "1CR      92000000000            1Credit      2  \n",
       "1337    314159265359          EliteCoin      2  "
      ]
     },
     "execution_count": 445,
     "metadata": {},
     "output_type": "execute_result"
    }
   ],
   "source": [
    "# Create a new DataFrame including predicted clusters and cryptocurrencies features.\n",
    "\n",
    "# Concatentate the crypto_df and pcs_df DataFrames on the same columns.\n",
    "clustered_df = pd.DataFrame()\n",
    "clustered_df = pcs_df.join(crypto_df).sort_index(ascending=False)\n",
    "clustered_df.head(50)\n",
    "#  Add a new column, \"CoinName\" to the clustered_df DataFrame that holds the names of the cryptocurrencies. \n",
    "clustered_df = clustered_df.join(Crypto1_df)\n",
    "\n",
    "#  Add a new column, \"Class\" to the clustered_df DataFrame that holds the predictions.\n",
    "clustered_df[\"class\"] = model.labels_\n",
    "\n",
    "\n",
    "# Print the shape of the clustered_df\n",
    "print(clustered_df.shape)\n",
    "clustered_df.tail(10)"
   ]
  },
  {
   "cell_type": "markdown",
   "metadata": {},
   "source": [
    "### Deliverable 4: Visualizing Cryptocurrencies Results\n",
    "\n",
    "#### 3D-Scatter with Clusters"
   ]
  },
  {
   "cell_type": "code",
   "execution_count": 446,
   "metadata": {},
   "outputs": [
    {
     "data": {
      "application/vnd.plotly.v1+json": {
       "config": {
        "plotlyServerURL": "https://plot.ly"
       },
       "data": [
        {
         "customdata": [
          [
           "SHA-256"
          ],
          [
           "Lyra2RE"
          ],
          [
           "Scrypt"
          ],
          [
           "Equihash"
          ],
          [
           "Equihash"
          ],
          [
           "Scrypt"
          ],
          [
           "Scrypt"
          ],
          [
           "Scrypt"
          ],
          [
           "X11"
          ],
          [
           "Multiple"
          ],
          [
           "X13"
          ],
          [
           "X11"
          ],
          [
           "CryptoNight-V7"
          ],
          [
           "CryptoNight"
          ],
          [
           "CryptoNight"
          ],
          [
           "Keccak"
          ],
          [
           "CryptoNight"
          ],
          [
           "X16R"
          ],
          [
           "X11"
          ],
          [
           "Scrypt"
          ],
          [
           "Leased POS"
          ],
          [
           "Scrypt"
          ],
          [
           "Scrypt"
          ],
          [
           "Equihash+Scrypt"
          ],
          [
           "Scrypt"
          ],
          [
           "NIST5"
          ],
          [
           "SHA-256D"
          ],
          [
           "Scrypt"
          ],
          [
           "VeChainThor Authority"
          ],
          [
           "Scrypt"
          ],
          [
           "X11"
          ],
          [
           "XEVAN"
          ],
          [
           "Scrypt"
          ],
          [
           "SHA-256"
          ],
          [
           "Blake"
          ],
          [
           "NeoScrypt"
          ],
          [
           "SHA-512"
          ],
          [
           "SHA-256D"
          ],
          [
           "CryptoNight"
          ],
          [
           "Scrypt"
          ],
          [
           "X13"
          ],
          [
           "Dagger"
          ],
          [
           "POS 3.0"
          ],
          [
           "X11"
          ],
          [
           "PHI1612"
          ],
          [
           "SHA-256"
          ],
          [
           "Scrypt"
          ],
          [
           "Lyra2Z"
          ],
          [
           "DPoS"
          ],
          [
           "SHA-256"
          ],
          [
           "X11"
          ],
          [
           "X11"
          ],
          [
           "PoS"
          ],
          [
           "C11"
          ],
          [
           "SHA-256"
          ],
          [
           "Scrypt"
          ],
          [
           "Scrypt"
          ],
          [
           "QuBit"
          ],
          [
           "SkunkHash v2 Raptor"
          ],
          [
           "X11GOST"
          ],
          [
           "Scrypt"
          ],
          [
           "Semux BFT consensus"
          ],
          [
           "Blake2b"
          ],
          [
           "Scrypt"
          ],
          [
           "Cryptonight-GPU"
          ],
          [
           "Lyra2REv2"
          ],
          [
           "Scrypt"
          ],
          [
           "X13"
          ],
          [
           "X11"
          ],
          [
           "X11"
          ],
          [
           "Scrypt"
          ],
          [
           "Ethash"
          ],
          [
           "Scrypt"
          ],
          [
           "PoS"
          ],
          [
           "CryptoNight Heavy"
          ],
          [
           "POS 3.0"
          ],
          [
           "Scrypt"
          ],
          [
           "CryptoNight-V7"
          ],
          [
           "Scrypt"
          ],
          [
           "NIST5"
          ],
          [
           "Scrypt"
          ],
          [
           "X11"
          ],
          [
           "X11"
          ],
          [
           "Scrypt"
          ],
          [
           "Scrypt"
          ],
          [
           "X16R"
          ],
          [
           "Scrypt"
          ],
          [
           "Scrypt"
          ],
          [
           "Quark"
          ],
          [
           "Proof-of-Authority"
          ],
          [
           "X11"
          ],
          [
           "HMQ1725"
          ],
          [
           "CryptoNight"
          ],
          [
           "Scrypt"
          ],
          [
           "X11"
          ],
          [
           "Dagger"
          ],
          [
           "X11"
          ],
          [
           "X11"
          ],
          [
           "PoS"
          ],
          [
           "BLAKE256"
          ],
          [
           "X11"
          ],
          [
           "Scrypt"
          ],
          [
           "Scrypt"
          ],
          [
           "Scrypt"
          ],
          [
           "Scrypt"
          ],
          [
           "NeoScrypt"
          ],
          [
           "X13"
          ],
          [
           "X11"
          ],
          [
           "X13"
          ],
          [
           "Scrypt"
          ],
          [
           "Scrypt"
          ],
          [
           "Scrypt"
          ],
          [
           "SHA-256"
          ],
          [
           "SHA-512"
          ],
          [
           "Scrypt"
          ],
          [
           "PoS"
          ],
          [
           "Scrypt"
          ],
          [
           "PoS"
          ],
          [
           "SHA3"
          ],
          [
           "SHA-256"
          ],
          [
           "Scrypt"
          ],
          [
           "Scrypt"
          ],
          [
           "SHA-256"
          ],
          [
           "SHA-256"
          ],
          [
           "PoS"
          ],
          [
           "CryptoNight"
          ],
          [
           "X13"
          ],
          [
           "Blake2b"
          ],
          [
           "NIST5"
          ],
          [
           "DPoS"
          ],
          [
           "X11"
          ],
          [
           "Ethash"
          ],
          [
           "X11"
          ],
          [
           "Scrypt"
          ],
          [
           "Scrypt"
          ],
          [
           "Scrypt"
          ],
          [
           "Scrypt"
          ],
          [
           "Scrypt"
          ],
          [
           "Jump Consistent Hash"
          ],
          [
           "Scrypt"
          ],
          [
           "HybridScryptHash256"
          ],
          [
           "Scrypt"
          ],
          [
           "Ethash"
          ],
          [
           "PoS"
          ],
          [
           "SHA-256"
          ],
          [
           "X11"
          ],
          [
           "SHA-256"
          ],
          [
           "X11"
          ],
          [
           "Scrypt"
          ],
          [
           "CryptoNight-V7"
          ],
          [
           "QuBit"
          ],
          [
           "Scrypt"
          ],
          [
           "Scrypt"
          ],
          [
           "Scrypt"
          ],
          [
           "Blake"
          ],
          [
           "Scrypt"
          ],
          [
           "SHA-256 + Hive"
          ],
          [
           "X11"
          ],
          [
           "Scrypt"
          ],
          [
           "CryptoNight"
          ],
          [
           "X13"
          ],
          [
           "X15"
          ],
          [
           "Equihash"
          ],
          [
           "Scrypt"
          ],
          [
           "Tribus"
          ],
          [
           "NIST5"
          ],
          [
           "X11"
          ],
          [
           "Multiple"
          ],
          [
           "C11"
          ],
          [
           "Scrypt"
          ],
          [
           "X11"
          ],
          [
           "X11"
          ],
          [
           "NeoScrypt"
          ],
          [
           "Lyra2RE"
          ],
          [
           "X11"
          ],
          [
           "Scrypt"
          ],
          [
           "SHA-256"
          ],
          [
           "Scrypt"
          ],
          [
           "Scrypt"
          ],
          [
           "SHA-256"
          ],
          [
           "X15"
          ],
          [
           "X11"
          ],
          [
           "X11"
          ],
          [
           "1GB AES Pattern Search"
          ],
          [
           "Scrypt"
          ],
          [
           "Scrypt"
          ],
          [
           "Groestl"
          ],
          [
           "Scrypt"
          ],
          [
           "Scrypt"
          ],
          [
           "SHA-256"
          ],
          [
           "Scrypt"
          ],
          [
           "PHI2"
          ],
          [
           "Scrypt"
          ],
          [
           "Scrypt"
          ],
          [
           "Scrypt"
          ],
          [
           "Scrypt"
          ],
          [
           "Quark"
          ],
          [
           "Scrypt"
          ],
          [
           "Scrypt"
          ],
          [
           "Scrypt"
          ],
          [
           "Scrypt"
          ],
          [
           "Scrypt"
          ],
          [
           "Stanford Folding"
          ],
          [
           "Groestl"
          ],
          [
           "Ethash"
          ],
          [
           "SHA-256"
          ],
          [
           "Scrypt"
          ],
          [
           "Ethash"
          ],
          [
           "536"
          ],
          [
           "X11"
          ],
          [
           "Scrypt"
          ],
          [
           "DPoS"
          ],
          [
           "X11"
          ],
          [
           "Scrypt"
          ],
          [
           "Blake"
          ],
          [
           "X11"
          ],
          [
           "Ethash"
          ],
          [
           "Ethash"
          ],
          [
           "Scrypt"
          ],
          [
           "Scrypt"
          ],
          [
           "NIST5"
          ],
          [
           "Scrypt"
          ],
          [
           "Scrypt"
          ],
          [
           "Scrypt"
          ],
          [
           "SHA-256"
          ],
          [
           "QUAIT"
          ],
          [
           "X11"
          ],
          [
           "Groestl"
          ],
          [
           "X15"
          ],
          [
           "SHA-256"
          ],
          [
           "X11"
          ],
          [
           "Multiple"
          ],
          [
           "Scrypt"
          ],
          [
           "Scrypt"
          ],
          [
           "Scrypt"
          ],
          [
           "CryptoNight"
          ],
          [
           "BLAKE256"
          ],
          [
           "SHA-256"
          ],
          [
           "X11"
          ],
          [
           "X11"
          ],
          [
           "X11"
          ],
          [
           "Quark"
          ],
          [
           "X11"
          ],
          [
           "NIST5"
          ],
          [
           "Scrypt"
          ],
          [
           "Quark"
          ],
          [
           "Scrypt"
          ],
          [
           "X11"
          ],
          [
           "Equihash"
          ],
          [
           "SHA-256"
          ],
          [
           "Skein"
          ],
          [
           "Scrypt"
          ],
          [
           "X11"
          ],
          [
           "Quark"
          ],
          [
           "Ethash"
          ],
          [
           "SHA-256"
          ],
          [
           "X11"
          ],
          [
           "Cloverhash"
          ],
          [
           "PoS"
          ],
          [
           "Scrypt"
          ],
          [
           "Scrypt"
          ],
          [
           "Scrypt"
          ],
          [
           "Scrypt"
          ],
          [
           "SHA-256"
          ],
          [
           "NIST5"
          ],
          [
           "Shabal256"
          ],
          [
           "Time Travel"
          ],
          [
           "SHA-512"
          ],
          [
           "Skein"
          ],
          [
           "Equihash"
          ],
          [
           "Scrypt"
          ],
          [
           "SHA-256"
          ],
          [
           "X11"
          ],
          [
           "X11"
          ],
          [
           "HMQ1725"
          ],
          [
           "Scrypt"
          ],
          [
           "X11"
          ],
          [
           "Scrypt"
          ],
          [
           "Scrypt"
          ],
          [
           "SHA-256"
          ],
          [
           "Scrypt"
          ],
          [
           "XEVAN"
          ],
          [
           "CryptoNight"
          ],
          [
           "XEVAN"
          ],
          [
           "CryptoNight"
          ],
          [
           "CryptoNight"
          ],
          [
           "SHA-256"
          ],
          [
           "Scrypt"
          ],
          [
           "Scrypt"
          ],
          [
           "Blake"
          ],
          [
           "Proof-of-BibleHash"
          ],
          [
           "X11"
          ],
          [
           "X11"
          ],
          [
           "X11"
          ],
          [
           "PoS"
          ],
          [
           "Quark"
          ],
          [
           "Scrypt"
          ],
          [
           "Scrypt"
          ],
          [
           "X11"
          ],
          [
           "Scrypt"
          ],
          [
           "X11"
          ],
          [
           "Tribus"
          ],
          [
           "Lyra2Z"
          ],
          [
           "ScryptOG"
          ],
          [
           "IMesh"
          ],
          [
           "Ouroboros"
          ],
          [
           "SHA-256"
          ],
          [
           "Lyra2Z"
          ],
          [
           "Scrypt"
          ],
          [
           "Scrypt"
          ],
          [
           "X11"
          ],
          [
           "Scrypt"
          ],
          [
           "ECC 256K1"
          ],
          [
           "Scrypt"
          ],
          [
           "Scrypt"
          ],
          [
           "X13"
          ]
         ],
         "hovertemplate": "<b>%{hovertext}</b><br><br>class=%{marker.color}<br>PC 1=%{x}<br>PC 2=%{y}<br>PC 3=%{z}<br>Algorithm=%{customdata[0]}<extra></extra>",
         "hovertext": [
          "ZayedCoin",
          "Zoin",
          "BitZeny",
          "Zero",
          "ZCash",
          "ZCC Coin",
          "Zilbercoin",
          "MYCE",
          "VirtacoinPlus",
          "Verge",
          "Bitcoin Rhodium",
          "Enigma",
          "Monero",
          "Monero Classic",
          "LeviarCoin",
          "XDNA",
          "DigitalNote ",
          "Xchange",
          "X11 Coin",
          "BitcoinPlus",
          "Waves",
          "Vtorrent",
          "VeriCoin",
          "Vollar",
          "Velox",
          "VIP Tokens",
          "TheVig",
          "ViaCoin",
          "Vechain",
          "UltraCoin",
          "UroCoin",
          "Urals Coin",
          "GameUnits",
          "UnbreakableCoin",
          "Universal Molecule",
          "TrezarCoin",
          "TWIST",
          "Titan Coin",
          "TurtleCoin",
          "Trollcoin",
          "Triangles Coin",
          "Travelflex",
          "TokenPay",
          "TorCoin",
          "TittieCoin",
          "TigerCoin",
          "TerraNovaCoin",
          "TecraCoin",
          "Lamden Tau",
          "SysCoin",
          "SyncCoin",
          "SuperCoin",
          "Stakecoin",
          "Stipend",
          "SoonCoin",
          "SocialCoin",
          "SmartCoin",
          "SLICE",
          "Signatum",
          "SibCoin",
          "ShardCoin",
          "Semux",
          "Siacoin",
          "StableCoin",
          "Ryo",
          "Rupee",
          "RonPaulCoin",
          "RoyalCoin",
          "Reliance",
          "Regalcoin",
          "Reddcoin",
          "Reality Clash",
          "Russiacoin",
          "Radium",
          "Qwertycoin",
          "QTUM",
          "Quatloo",
          "Quantum Resistant Ledger",
          "PhoenixCoin",
          "PWR Coin",
          "PutinCoin",
          "Pushi",
          "Pura",
          "Poseidon",
          "Printerium",
          "Proton",
          "ProsperCoin",
          "PotCoin",
          "Poseidon Quark",
          "Poa Network",
          "PhantomX",
          "PlusOneCoin",
          "PlatinCoin",
          "PLNCoin",
          "PizzaCoin",
          "Pirl",
          "PinkCoin",
          "Piggy Coin",
          "Phreak",
          "Photon",
          "Pioneer Coin",
          "Parlay",
          "Pakcoin",
          "Oduwa",
          "OsmiumCoin",
          "Orbitcoin",
          "OpalCoin",
          "Onix",
          "DeepOnion",
          "Omni",
          "OmiseGO Classic",
          "OmniCron",
          "OKCash",
          "Obsidian",
          "OrangeCoin",
          "Zealium",
          "NyanCoin",
          "Nxt",
          "Nexus",
          "Neutron",
          "Nasdacoin",
          "Dnotes",
          "IncaKoin",
          "NeosCoin",
          "Nebuchadnezzar",
          "Newton Coin",
          "NavCoin",
          "Nano",
          "NamoCoin",
          "Muse",
          "MustangCoin",
          "Media Protocol Token",
          "Monkey Project",
          "MoneyCoin",
          "MonaCoin",
          "MMOCoin",
          "MintCoin",
          "XiaoMiCoin",
          "MassGrid",
          "MedicCoin",
          "MediterraneanCoin",
          "MegaCoin",
          "1717 Masonic Commemorative Token",
          "MacronCoin",
          "Theresa May Coin",
          "MarsCoin ",
          "Manna",
          "Magnet",
          "Lynx",
          "Lethean",
          "LiteCreed",
          "LottoCoin",
          "LomoCoin",
          "LuckyCoin",
          "Lithium",
          "LiteDoge",
          "LitecoinCash",
          "KushCoin",
          "Kronecoin",
          "Karbo",
          "Kore",
          "KoboCoin",
          "Komodo",
          "Klingon Empire Darsek",
          "KEYCO",
          "Jumpcoin",
          "Junson Ming Chan Coin",
          "JoinCoin",
          "Interzone",
          "IrishCoin",
          "IOCoin",
          "InsaneCoin",
          "Innova",
          "Infinex",
          "Impact",
          "Impeach",
          "ILCoin",
          "Ignition",
          "iBankCoin",
          "I0coin",
          "HTML5 Coin",
          "Hitcoin",
          "HappyCoin",
          "HOdlcoin",
          "HexCoin",
          "HoboNickels",
          "Groestlcoin",
          "GPU Coin",
          "GambleCoin",
          "GlobalToken",
          "GlobalCoin",
          "Gexan",
          "GermanCoin",
          "gCn Coin",
          "Gapcoin",
          "Gamecredits",
          "Galilel",
          "GAKHcoin",
          "Frankywillcoin",
          "Franko",
          "FrazCoin",
          "Flo",
          "Folding Coin",
          "FairCoin",
          "Expanse",
          "Eurocoin",
          "Ethereum Dark",
          "Ethereum",
          "Espers",
          "EuropeCoin",
          "EquiTrader",
          "EOS",
          "Eternity",
          "EnergyCoin",
          "Electron",
          "Elements",
          "Ellaism",
          "Elementrem",
          "E-Gulden",
          "ECC",
          "Electra",
          "eBoost",
          "EarthCoin",
          "DivotyCoin",
          "DevCoin",
          "Droidz",
          "DigitalPrice",
          "Diamond",
          "Dekado",
          "CarpeDiemCoin",
          "DigiMoney",
          "DigiByte",
          "Draftcoin",
          "iDealCash",
          "Degas Coin",
          "Dinastycoin",
          "Decred",
          "DubaiCoin",
          "Dash Platinum",
          "Dash",
          "DAS",
          "DACH Coin",
          "DACash",
          "Coinonat",
          "Crypto Wisdom Coin",
          "Crypto Sports",
          "CasinoCoin",
          "CryptCoin",
          "CrypticCoin",
          "Crown Coin",
          "Cream",
          "Credit",
          "CapriCoin",
          "Cosmo",
          "Callisto Network",
          "Clockcoin",
          "Crypto Improvement Fund",
          "ChanCoin",
          "CoffeeCoin",
          "Canada eCoin",
          "CannaCoin",
          "CryptoBullion",
          "Catcoin",
          "BitTokens",
          "Bulwark",
          "BurstCoin",
          "Bitcore",
          "Bitshares",
          "Bitcoin Planet",
          "Bithereum",
          "Bata",
          "Bitcoin SV",
          "BitSend",
          "BowsCoin",
          "Brazio",
          "BoxyCoin",
          "BolivarCoin",
          "BlueCoin",
          "Block-Logic",
          "BLAST",
          "BitstarCoin",
          "BitMoney",
          "Bikercoins",
          "Beetle Coin",
          "Beldex",
          "ByteCoin",
          "Bitcoin Cash",
          "BitcoinFast",
          "BitConnect Coin",
          "BlakeBitcoin",
          "BiblePay",
          "Azart",
          "Award",
          "ArtexCoin",
          "Atmos",
          "Allsafe",
          "ArgusCoin",
          "Argentum",
          "ARENON",
          "AquariusCoin",
          "ArcticCoin",
          "Averopay",
          "Alpenschillling",
          "Aiden",
          "Aidos Kuneen",
          "Cardano",
          "Anarchists Prime",
          "Actinium",
          "Accolade",
          "AdCoin",
          "AC3",
          "Abjcoin",
          "Acute Angle Cloud",
          "8BIT Coin",
          "1Credit",
          "EliteCoin"
         ],
         "legendgroup": "2",
         "marker": {
          "color": [
           2,
           2,
           2,
           2,
           2,
           2,
           2,
           2,
           2,
           2,
           2,
           2,
           2,
           2,
           2,
           2,
           2,
           2,
           2,
           2,
           2,
           2,
           2,
           2,
           2,
           2,
           2,
           2,
           2,
           2,
           2,
           2,
           2,
           2,
           2,
           2,
           2,
           2,
           2,
           2,
           2,
           2,
           2,
           2,
           2,
           2,
           2,
           2,
           2,
           2,
           2,
           2,
           2,
           2,
           2,
           2,
           2,
           2,
           2,
           2,
           2,
           2,
           2,
           2,
           2,
           2,
           2,
           2,
           2,
           2,
           2,
           2,
           2,
           2,
           2,
           2,
           2,
           2,
           2,
           2,
           2,
           2,
           2,
           2,
           2,
           2,
           2,
           2,
           2,
           2,
           2,
           2,
           2,
           2,
           2,
           2,
           2,
           2,
           2,
           2,
           2,
           2,
           2,
           2,
           2,
           2,
           2,
           2,
           2,
           2,
           2,
           2,
           2,
           2,
           2,
           2,
           2,
           2,
           2,
           2,
           2,
           2,
           2,
           2,
           2,
           2,
           2,
           2,
           2,
           2,
           2,
           2,
           2,
           2,
           2,
           2,
           2,
           2,
           2,
           2,
           2,
           2,
           2,
           2,
           2,
           2,
           2,
           2,
           2,
           2,
           2,
           2,
           2,
           2,
           2,
           2,
           2,
           2,
           2,
           2,
           2,
           2,
           2,
           2,
           2,
           2,
           2,
           2,
           2,
           2,
           2,
           2,
           2,
           2,
           2,
           2,
           2,
           2,
           2,
           2,
           2,
           2,
           2,
           2,
           2,
           2,
           2,
           2,
           2,
           2,
           2,
           2,
           2,
           2,
           2,
           2,
           2,
           2,
           2,
           2,
           2,
           2,
           2,
           2,
           2,
           2,
           2,
           2,
           2,
           2,
           2,
           2,
           2,
           2,
           2,
           2,
           2,
           2,
           2,
           2,
           2,
           2,
           2,
           2,
           2,
           2,
           2,
           2,
           2,
           2,
           2,
           2,
           2,
           2,
           2,
           2,
           2,
           2,
           2,
           2,
           2,
           2,
           2,
           2,
           2,
           2,
           2,
           2,
           2,
           2,
           2,
           2,
           2,
           2,
           2,
           2,
           2,
           2,
           2,
           2,
           2,
           2,
           2,
           2,
           2,
           2,
           2,
           2,
           2,
           2,
           2,
           2,
           2,
           2,
           2,
           2,
           2,
           2,
           2,
           2,
           2,
           2,
           2,
           2,
           2,
           2,
           2,
           2,
           2,
           2,
           2,
           2,
           2,
           2,
           2,
           2,
           2,
           2,
           2,
           2,
           2,
           2,
           2,
           2,
           2,
           2,
           2,
           2,
           2,
           2,
           2,
           2,
           2,
           2,
           2,
           2
          ],
          "coloraxis": "coloraxis",
          "symbol": "circle"
         },
         "mode": "markers",
         "name": "2",
         "scene": "scene",
         "showlegend": true,
         "type": "scatter3d",
         "x": [
          -0.14320229097573903,
          -0.14142685791390236,
          -0.14281258502316513,
          -0.1793660612113162,
          -0.17933080769436097,
          -0.3095159758752005,
          -0.25880791717947826,
          -0.3160988435070519,
          -0.4040120961338158,
          0.21447317118699813,
          -0.10893545987240315,
          -0.4048670368092088,
          -0.1350365419088318,
          0.30282956039261993,
          0.303067520373298,
          -0.33369456023010086,
          0.4637703514921915,
          -0.19717373258412424,
          -0.4047853470397102,
          -0.2592401707808197,
          -0.27354190214058816,
          -0.3184498596294282,
          -0.24975767318592998,
          -0.10168344951287762,
          -0.2580130452960516,
          -0.3617135697782888,
          -0.36399175187603894,
          -0.1451473384625093,
          4.683384401903204,
          -0.3173709608759679,
          -0.2317650981779377,
          -0.23533414850499634,
          -0.3186046757053994,
          -0.14273649694968904,
          -0.14082283296661113,
          -0.3449314122621816,
          -0.279255873041135,
          -0.3170185781053025,
          8.32490785478216,
          -0.304617849799948,
          -0.2820967764436158,
          -0.14428298630749242,
          -0.32432028579288075,
          -0.4048224559255163,
          -0.2860310290402939,
          -0.14245428217867695,
          -0.3186142471756562,
          -0.07848281716216673,
          3.9319556062760044,
          -0.12966688385394493,
          -0.4049141063219181,
          -0.3447742301940592,
          -0.3131515047692215,
          -0.37480062597067765,
          -0.14304046994867334,
          -0.14499394654060535,
          -0.14490910025815637,
          -0.17474589461186246,
          -0.3196293212384603,
          -0.1571792096636487,
          -0.2523201399515332,
          4.152650366422397,
          0.39376728094147945,
          -0.1434660863349381,
          -0.12851813848143526,
          -0.2953559273132964,
          -0.1454423386723732,
          -0.22255410196006062,
          -0.34487117523940064,
          -0.40462342975274224,
          0.05397969537624709,
          -0.13713048044174309,
          -0.317579884908819,
          -0.31354021821074063,
          3.235097196496151,
          -0.3227578094294737,
          -0.14478243253392364,
          -0.1336060902898909,
          -0.3170840219256283,
          -0.23541077929672216,
          -0.2937129470453839,
          -0.40470289678020377,
          -0.22698134309327508,
          -0.14540462765069043,
          -0.3184471005713623,
          -0.3112843156907538,
          -0.14538303769012054,
          -0.31282752661656066,
          -0.33070247748000997,
          -0.3881411165353601,
          -0.40397243523591364,
          -0.13408548031850023,
          0.3068998854114416,
          -0.3182439143616596,
          -0.23157925938284799,
          -0.14480175052650315,
          -0.39569284735637134,
          -0.391283466560033,
          -0.3132897021548027,
          1.1514093815041315,
          -0.23150367974590222,
          -0.25898064427601036,
          -0.1433875622958013,
          -0.3184021728802897,
          -0.1455793515576238,
          -0.35012358339328864,
          -0.2819067468554299,
          -0.22214180300547662,
          -0.2816819495862106,
          -0.14559829310828057,
          -0.31759520408453773,
          -0.1454569686059158,
          -0.3147660260737326,
          -0.282278800576674,
          -0.3172300107919479,
          -0.312926367433101,
          -0.13887923201342076,
          -0.26547319624209437,
          -0.3359564826905136,
          -0.3154899026087823,
          -0.31786597736592714,
          -0.25335526994838886,
          -0.08700171213305108,
          -0.2567815676249857,
          -0.3132537036037064,
          2.1793263183764857,
          -0.2812592032533147,
          -0.022857011205346084,
          -0.3474925281144034,
          1.1083569805624285,
          -0.4048837269569431,
          0.06298815004675305,
          -0.34520862041821976,
          -0.31382531312712864,
          -0.1439713246204954,
          -0.25596885308518064,
          0.011486115107632353,
          -0.3106650642889869,
          -0.14052361036474192,
          -0.25217727928360395,
          -0.12663396455847212,
          -0.14481702241749517,
          -0.25122776292400234,
          -0.30561245607646426,
          -0.3145818541074643,
          -0.23112833261267893,
          -0.039545670417178866,
          -0.4033705267420524,
          2.387087302358155,
          -0.12230211888549282,
          -0.3478150877417177,
          0.17386317286309627,
          -0.31139119650513125,
          -0.14521800521484585,
          -0.1412283647444116,
          0.13316060943377953,
          -0.3365098178287966,
          -0.40477345590382274,
          -0.14477161910965006,
          0.3026636617240552,
          -0.28198557247147404,
          -0.23249888766428783,
          -0.3666486889729771,
          -0.3147662462967167,
          -0.21183861047248018,
          -0.18987994292076574,
          -0.12660849518155184,
          -0.1096212001547183,
          -0.20163160255164295,
          -0.14456218466504975,
          -0.4045280820606213,
          -0.4044605108121811,
          -0.1766468861445957,
          -0.14155904833077,
          -0.40269940505451074,
          -0.31857928237140637,
          -0.10823213082824155,
          -0.3186925760724497,
          -0.3183610840065588,
          -0.14293195606754983,
          0.9427627552732516,
          -0.0700475393800725,
          -0.40390582355032,
          -0.13642856658530128,
          -0.14543024527671827,
          -0.3167277679570458,
          -0.2069783404045403,
          -0.2571104893522359,
          -0.2590297645367365,
          -0.14104315658200214,
          -0.14426140839542825,
          -0.43572405876974,
          0.11104079173902486,
          3.3968620531008513,
          -0.3167178071729004,
          -0.1441056193306988,
          -0.3946355364044712,
          -0.3186778221325665,
          -0.3167382413083875,
          -0.14551358361957636,
          -0.14534034478595464,
          -0.1424991738761742,
          -0.13371122718908393,
          -0.3811390445044831,
          -0.13736408602772293,
          -0.31618208290008554,
          -0.3186600839860541,
          -0.13625261387523438,
          0.6273875302909232,
          -0.40196064248770513,
          -0.14490784459162068,
          3.937594780382519,
          -0.40439615282278085,
          -0.31717969485655056,
          -0.08988055207713638,
          -0.1841915801310479,
          -0.1354024455471228,
          -0.13709602378857044,
          -0.14519051711117892,
          0.24227555798548225,
          0.2180403354793621,
          -0.14360468796522807,
          0.11299452737046344,
          -0.31773641786574996,
          0.24962392436846748,
          -0.4292846419899135,
          -0.2305990054902019,
          -0.3817411687644575,
          -0.17485357472085955,
          0.29193684711210066,
          -0.4046856842557268,
          0.18961934195440677,
          -0.25888398283955205,
          -0.26326171578433416,
          -0.3177013679164039,
          0.3401902412647109,
          -0.06521517547821513,
          -0.3163445326259773,
          -0.34526510689890455,
          -0.40463767363562847,
          -0.23160824599364316,
          -0.3350513932882943,
          -0.23107352221912172,
          -0.18981889980289748,
          -0.1452101784179163,
          -0.3353895991388051,
          0.8346538185475527,
          -0.23158467331513707,
          -0.06989732012905471,
          -0.14275237924358056,
          -0.42583076349075455,
          0.6227195885135451,
          -0.4008258103554133,
          -0.22167304287162828,
          -0.08671942566478226,
          -0.31241796781938636,
          -0.22542057409580749,
          -0.15000021419049886,
          -0.3114702370547338,
          -0.14360655177820578,
          -0.14545431682273993,
          -0.31872378181984923,
          -0.14536458117000145,
          -0.31632503228176123,
          -0.30356854310118536,
          0.3133067861781598,
          -0.15372363934811864,
          -0.22195857372851507,
          -0.4263460375394785,
          -0.17903227484607626,
          -0.1455096865280904,
          -0.1429701617606804,
          -0.40358285486228196,
          -0.23142446961950242,
          -0.13186796074860832,
          -0.1448027279853278,
          -0.23142317774427543,
          -0.31066543247307704,
          -0.14428042826992266,
          -0.1422181360115248,
          -0.3180841178333236,
          0.2744573352167895,
          0.3027933754480242,
          -0.40399540674851137,
          0.32524062232786294,
          3.9979964445701017,
          -0.14297012266451006,
          -0.3182445095886019,
          -0.31839774757890044,
          -0.14119905611714492,
          -0.4816489417696984,
          -0.23153300557457923,
          -0.4016324223242001,
          -0.21763055265032327,
          -0.31143164262153006,
          -0.33526849698039884,
          -0.318519622019053,
          -0.14498527838621758,
          -0.34476986794215664,
          -0.3184046306863648,
          -0.23100853309896524,
          -0.384822847127459,
          -0.07799367975793034,
          -0.1400281396949543,
          -0.14726736809359475,
          0.7025516604435301,
          -0.1427707426108802,
          -0.07975484206057314,
          -0.31830613301943855,
          -0.14446090388676708,
          -0.2267185591089981,
          -0.3183983138450677,
          -0.43655384338226627,
          -0.31872567771023325,
          0.530294822730908,
          2.3982261232320132
         ],
         "y": [
          -1.3396483140231341,
          -2.160867901137967,
          -1.0228623099007774,
          -2.103802545935739,
          -2.103804353430678,
          1.0893895881021374,
          0.7947174960977289,
          1.089729339817017,
          1.1754646193290454,
          -1.8173705132674116,
          -0.41598021282562014,
          1.175506996814925,
          -2.1906016462721816,
          -2.3663933634672056,
          -2.3664118116967487,
          0.8256560450508975,
          -2.3686303451366024,
          -1.3809921003428611,
          1.1755091787244156,
          0.7947432578352654,
          7.862379530169881,
          1.0898231780739893,
          0.5024795437532292,
          -1.9405241615843212,
          0.7946921351886046,
          1.499986030710694,
          1.8777555322255153,
          -1.0227701443557249,
          3.362393798506868,
          1.089798675244502,
          -0.9370867632820207,
          -0.45320313262241496,
          1.0898234398502364,
          -1.3396848459964956,
          -2.1990935994590486,
          0.5114315628298051,
          0.9119467906423956,
          1.8756593585958352,
          -2.842907654083353,
          1.0896148415568039,
          1.6966167680070157,
          -2.171226465397892,
          1.2162446534663012,
          1.1755047534601444,
          1.0265063339300344,
          -1.3396520886067906,
          1.0898211559687714,
          -1.8715901783015403,
          1.8200161090071545,
          -1.3398646304074364,
          1.1755091619070412,
          0.8804444206507513,
          1.4422464020807972,
          0.9063883829726238,
          -1.339651455198793,
          -1.0228031414307488,
          -1.0227832080754569,
          -1.6209154982869836,
          1.3759032564048044,
          -2.036921871368826,
          0.7943057675477053,
          1.9210202320208947,
          -2.217434694415948,
          -1.0228826705121226,
          -2.0258869627200857,
          0.35553855654127065,
          -1.0227778825083398,
          1.4015316904191615,
          0.8803963593789235,
          1.1754986044515252,
          1.1014411935296171,
          -2.043699972189243,
          1.0897602015050354,
          1.4422725032873414,
          -2.295135283174428,
          1.2162388493982235,
          -1.0228147130864913,
          -2.1906333576800554,
          1.0898090680992079,
          1.503986526363656,
          1.0891554852215277,
          1.1754975814917954,
          -0.9371919824673373,
          -1.0227767075765652,
          1.0898232640357275,
          0.43654472214806517,
          -1.0227760349156414,
          1.089707762529486,
          1.1568509812367405,
          3.894264121009334,
          1.1755021782643809,
          -2.0809091822223387,
          -2.366689060099037,
          1.089816125881824,
          -0.937099134879546,
          -2.1712835329884945,
          1.1754332294058003,
          1.1752073763853084,
          1.4422650526471015,
          -1.259321093740168,
          -0.9370953271758671,
          0.7947302762058319,
          -1.0228308243783313,
          1.0898239373463714,
          -1.0227688673756286,
          0.5115576418065669,
          1.6966227757808685,
          -0.93758604962724,
          1.6966160507344605,
          -1.0227679335161863,
          1.0898134826320909,
          -1.0227655317136666,
          0.7729277969941868,
          0.9119315098718317,
          1.089730420206475,
          1.4422400495200511,
          -1.0228029640651497,
          2.020786360129139,
          2.93019304888299,
          0.7729321229660863,
          1.0897948758573628,
          0.7945641028631257,
          0.7799623158130222,
          0.47785692347244807,
          1.4422734388753857,
          -2.4415850765654787,
          1.6966429507726775,
          -2.2306623234679384,
          1.4996227279803498,
          1.5432075440610526,
          1.1755079297436173,
          -2.0447118989536315,
          0.8804156309399913,
          1.0895091089941982,
          -1.0227931615549362,
          0.7946570251827539,
          0.803178784030207,
          1.0897896659187987,
          -2.2300394800739425,
          0.7946008045646562,
          -2.0458079473014137,
          -1.0227736558021912,
          -0.22618607668846377,
          1.4422354543171847,
          0.7729371674163328,
          -0.9370908974396596,
          -1.3437087866664048,
          1.1754526437247141,
          0.6922155175401318,
          -2.1909309785592876,
          0.4916982898479626,
          -1.0261863110620943,
          1.0893311633710079,
          -1.0227701666673503,
          -2.199048196118161,
          1.0784818921777133,
          1.9657183703517551,
          1.1755067494105806,
          -1.0228027527404744,
          -2.366392429931245,
          1.6966116022942777,
          1.7681448227039238,
          -1.7556989055612435,
          1.0895892422052986,
          -1.449388951068307,
          -0.6126007513858145,
          0.8872416338460439,
          -1.815443464317792,
          -1.2062095777737691,
          -1.0227816982598876,
          1.175505207447667,
          1.1755015009898988,
          -1.6010580267190937,
          -2.1608758554232743,
          1.1754982531317784,
          1.0898177412555206,
          -1.3403678668311312,
          1.089826512930113,
          1.0898082666680615,
          -1.3396480743196435,
          1.7396339059567598,
          1.1666546819157377,
          1.175467930377899,
          -2.29725628208304,
          -1.02277830865915,
          1.0898041853844584,
          -1.2687212050214762,
          0.7946497500476747,
          0.7947392069024521,
          -1.339696016886469,
          -1.0227766860074825,
          1.7107410718556324,
          1.0668957470704834,
          -1.0576909277742323,
          1.0897100552671464,
          -1.0227820027245047,
          1.4522559153926786,
          1.0898281961271141,
          1.0898183883758665,
          -1.0227730088888207,
          -1.0227739783023302,
          -1.022787163348261,
          -2.2528492451796085,
          0.8439194791331203,
          -2.0437017427204025,
          0.7729454275878191,
          1.0898281064317907,
          -2.043654831575651,
          1.9945059360770123,
          1.1753222187334296,
          -1.022798279426855,
          1.8205550367182042,
          1.1754817121879675,
          1.0898772808707264,
          -2.2025153214430286,
          -0.9369121907946202,
          -2.043831753785224,
          -2.043700146423943,
          -1.0227700367078134,
          0.7922076774491819,
          1.4963203839592865,
          -1.0227780190523774,
          -1.0245179967862668,
          1.0897872889969176,
          -1.3426580389656635,
          1.7720458611996392,
          -0.9371230787818214,
          0.8438975373180373,
          1.473191240550241,
          -1.3417947000209345,
          1.1754981177684862,
          -1.8213740010830537,
          0.7947424369879261,
          1.0878362411121638,
          1.0897847486945311,
          -2.366668910134457,
          0.8861307085760366,
          0.7729472676912574,
          0.8804148154410137,
          1.1755017929916798,
          -0.9370956065550659,
          1.1571600822022925,
          -0.9371015396625654,
          -0.6126186471405382,
          -1.0227728286744022,
          1.1571674378307457,
          0.7194741953358914,
          -0.9370942183016531,
          -2.105900701514107,
          -1.339657735156107,
          1.8354889459590236,
          1.0648213757134077,
          1.175485433629519,
          -0.6603406317419585,
          -2.046833588998906,
          0.7726958382204994,
          -0.937252324609702,
          -2.2040316095408246,
          1.4423144756718531,
          -1.0227780771216899,
          -1.022772545686527,
          1.0898284465381305,
          -1.0227754598807852,
          0.7729402473645984,
          1.2049043838801834,
          1.2846499374816163,
          -2.200513570893923,
          0.9112615605702091,
          1.8354728919826144,
          -2.1038022341179454,
          -1.0227683573700501,
          -1.339649264663496,
          1.1754496607146414,
          -0.9370914063599677,
          -2.0809752152608243,
          -1.0228153454154407,
          -0.9370942719702848,
          1.0900802404703538,
          -1.0228136018471612,
          -1.3396570724034604,
          1.089809687321614,
          1.786513746248295,
          -2.3663992855216076,
          1.6593219396173096,
          -2.366698965993823,
          -2.3852618230617177,
          -1.339649263445408,
          1.0898201319532357,
          1.0898189899665056,
          -2.199044210897554,
          2.040061615845418,
          -0.9370976937870853,
          1.175306292081312,
          -0.937009617217738,
          1.4422646148026212,
          1.157170026774617,
          1.0898147569442007,
          -1.0227948802484532,
          0.8804046009837713,
          1.089808605004302,
          -0.9371067794997281,
          0.663198668895563,
          -1.871640320498529,
          -2.026576137422619,
          -2.2397820234856636,
          1.0835374800073434,
          -1.339666850517745,
          -1.8715382751543934,
          1.0898058620959188,
          -1.0228046954787176,
          -0.9373290881308537,
          1.0898175193936954,
          3.3304572949864677,
          1.0898291139344656,
          -1.0685440162669708,
          1.551899777389193
         ],
         "z": [
          0.16826166995829708,
          0.2689556860167423,
          -0.004851533391486657,
          0.4287491358410898,
          0.42874876726735933,
          -0.5314243431840078,
          -0.2247303080775546,
          -0.5313560549705979,
          -0.4872311089897818,
          0.3169800953557578,
          -0.0363854637152064,
          -0.4872218224402968,
          0.38709842754073387,
          0.44437681231607534,
          0.4443758180560982,
          -0.4784177350917286,
          0.4412562952979686,
          0.16557744523463888,
          -0.48722419939948247,
          -0.22472664940236603,
          8.19522743684387,
          -0.5313250918591166,
          -0.3241504473107305,
          0.4133751831766263,
          -0.22474229838764115,
          -0.6037392402746341,
          -0.6358629158983405,
          -0.0048205397543486204,
          6.106532205281747,
          -0.531343738142755,
          0.03928738993918786,
          -0.1739497802737458,
          -0.531321638246978,
          0.1682598242839471,
          0.3309591846397436,
          -0.30213233169643633,
          0.0425079873799144,
          -0.6364286546613069,
          0.37609612551768945,
          -0.5315894397020011,
          -0.5628940974600818,
          0.434807279921655,
          -0.026660878138226735,
          -0.4872222986595209,
          -0.1652735042669556,
          0.16824558349732202,
          -0.5313208748657559,
          0.3087262373777902,
          -0.0007409895090516684,
          0.1680059662736768,
          -0.48722127098939094,
          -0.18064758375494502,
          -0.04855604009783821,
          -0.3087736207799687,
          0.16825874560933057,
          -0.004816135196791824,
          -0.004822827574620572,
          0.12335231801737194,
          -0.18760481597901657,
          0.32581771992787567,
          -0.22477922953701504,
          -0.15873333951539514,
          0.4233707939422084,
          -0.004831823540105041,
          0.27723838241606663,
          0.038306312299705034,
          -0.004811989777306948,
          -0.25630198486058664,
          -0.18063389222317858,
          -0.4872253489504016,
          -0.5425611841787777,
          0.35262597426807707,
          -0.5313297953682402,
          -0.04855345146449543,
          0.34077349534609036,
          -0.026694977666327824,
          -0.004818172753704749,
          0.3870735200742442,
          -0.5313527396750285,
          -0.6075642115380747,
          -0.5317272971416913,
          -0.48722329953719445,
          0.03920389506093742,
          -0.0048131271562523335,
          -0.531325175073371,
          -0.05433386020164649,
          -0.004813778317782226,
          -0.5314251949967512,
          -0.14292723858374248,
          2.7385294575361785,
          -0.48724098875181115,
          0.36905910748852255,
          0.4443550571685583,
          -0.5313280833784872,
          0.03928612675655052,
          0.43483270492407794,
          -0.48741255214609847,
          -0.48745870502935423,
          -0.04855736002416781,
          0.022313536681395633,
          0.03928349990261379,
          -0.22472944034879802,
          -0.004846001516113747,
          -0.5313263564383648,
          -0.004811033122928949,
          -0.30204454766542843,
          -0.5628998496662646,
          0.03918818627802568,
          -0.5629033475622883,
          -0.004810826173095412,
          -0.5313421850256154,
          -0.004814610128890748,
          -0.35827825894988874,
          0.042580297396596405,
          -0.5313306221034703,
          -0.04855963476531445,
          -0.004955055415053692,
          0.0335640498398376,
          -0.5895181127881859,
          -0.3582628523994639,
          -0.5313315869983708,
          -0.22481747820996464,
          -0.3651329563485524,
          -0.0516541517184369,
          -0.048560182469153564,
          0.41973330401894554,
          -0.5629193798308273,
          0.4359954404770534,
          -0.6039753770268481,
          -0.010419561158106905,
          -0.4872216664019725,
          0.34832278121505805,
          -0.18063083527728974,
          -0.531355042336229,
          -0.004841746882939306,
          -0.22478033269096506,
          -0.23289203217722584,
          -0.5314938891234546,
          0.2895061882981288,
          -0.2248530068623384,
          0.2888105285112982,
          -0.004827202455404033,
          0.13271984775998727,
          -0.048724650276131556,
          -0.3582846820047663,
          0.03927391600325374,
          0.16687812560028026,
          -0.4872428174246796,
          -0.44432925943414203,
          0.3868879338707438,
          -0.40316242605862807,
          -0.011249246691207427,
          -0.5313677858072162,
          -0.0048189294323111405,
          0.33095754081113016,
          -0.5388708092118202,
          24.483481428195095,
          -0.4872238887108339,
          -0.004821277634448811,
          0.444380357043403,
          -0.5628953881975345,
          -0.5564326633260952,
          0.6197189144182488,
          -0.5313528287456304,
          0.11991959024150263,
          -0.07720289009812915,
          -0.1872275463903552,
          0.32388026138797477,
          0.2177350721883343,
          -0.004831067687627278,
          -0.4872290930309437,
          -0.4872297416339839,
          0.22446139068232776,
          0.2689605899160743,
          -0.48726896354374927,
          -0.5313208526545412,
          0.1676394442907008,
          -0.5313203765098872,
          -0.5313235433601232,
          0.16825547278886152,
          -0.5763093590488328,
          -0.4927099980295383,
          -0.48723431421185065,
          0.40623954953287955,
          -0.004812162566117405,
          -0.5313596636594099,
          0.166698572720536,
          -0.22475266454832973,
          -0.22473045973213762,
          0.16822403557630652,
          -0.004839097186931303,
          -0.6259033276308497,
          -0.5355985947667061,
          -0.07691860605231167,
          -0.5313373867879257,
          -0.004841364444416621,
          -0.44949610258977407,
          -0.5313211139938185,
          -0.5313628212087241,
          -0.004811536763066114,
          -0.004815239623704745,
          -0.004876616425768064,
          0.3475433388875089,
          -0.3597978107473772,
          0.35263170320406895,
          -0.3582503122062588,
          -0.5313214954209183,
          0.3525952446166443,
          -0.7494779388231723,
          -0.48724365892155486,
          -0.004819253079195382,
          -0.0009979049137521286,
          -0.48722647255130386,
          -0.5313668739477351,
          0.33062018984104197,
          0.038165162969415925,
          0.35261823122704017,
          0.3526252333394079,
          -0.004819584812628808,
          -0.2355109436731666,
          -0.6160303274517368,
          -0.004853693983725581,
          -0.010265627345814498,
          -0.5313327158191191,
          0.16005929017509607,
          -0.641837533440368,
          0.0392695872825189,
          -0.35977888976658684,
          -0.24982889351623022,
          0.15889188309571636,
          -0.48722381867356523,
          0.31850166615700537,
          -0.22473454293250036,
          -0.5321035241175295,
          -0.531332904581691,
          0.4435941471918925,
          -0.4883502859956242,
          -0.3582470625390004,
          -0.18062935739619163,
          -0.48722578770680736,
          0.03928594160786552,
          -0.142902360553734,
          0.03927521531584605,
          -0.07719999828687718,
          -0.004818470805597464,
          -0.1428964376635441,
          -0.2604589077981284,
          0.039285074342465115,
          0.4267644672705129,
          0.16825370378376076,
          -0.5737929221301263,
          -0.5467239717096289,
          -0.48730845207667095,
          0.07701694315613009,
          0.3522301692018262,
          -0.3582761352694791,
          0.039182872388749464,
          0.47745337225054696,
          -0.04861049909559493,
          -0.004853637770407987,
          -0.0048129935695191564,
          -0.5313201300184461,
          -0.004814334973541142,
          -0.3582458271263423,
          -0.29711620437191927,
          -0.07083133410384435,
          0.4192305698696042,
          0.04137046087027469,
          -0.5737773812662625,
          0.42874148031788334,
          -0.004812737283728046,
          0.16825662508728845,
          -0.4872372818841625,
          0.03928076355171643,
          0.36902452913932726,
          -0.004817560635069723,
          0.03928141927418701,
          -0.5315633466114099,
          -0.004829839966121369,
          0.168241411574607,
          -0.5313301734616899,
          -0.950378090662937,
          0.44437904989972454,
          -0.7005434289127086,
          0.44394086923189097,
          0.36496269333607256,
          0.16825662390813279,
          -0.5313290275662197,
          -0.531325274206791,
          0.33095592242967803,
          6.7856377109087855,
          0.03928473172386979,
          -0.4872473059948336,
          0.03894792234016646,
          -0.04859945572722557,
          -0.14289980706679217,
          -0.5313214942238241,
          -0.004818307017962788,
          -0.18063816339067038,
          -0.5313226352088785,
          0.03927499193375245,
          -0.4065908275099441,
          0.3087271152385145,
          0.403989207401748,
          0.40697064155011664,
          0.10552906551264199,
          0.16825630000661485,
          0.3087427195322383,
          -0.5313242165646174,
          -0.004827870181599822,
          0.039230703690975734,
          -0.5313249097850223,
          6.143302725389719,
          -0.5313202465091427,
          -0.009218353771468582,
          -0.5891731847974571
         ]
        },
        {
         "customdata": [
          [
           "Scrypt"
          ],
          [
           "Equihash"
          ],
          [
           "SHA-256"
          ],
          [
           "SHA-256"
          ],
          [
           "Equihash"
          ],
          [
           "Scrypt"
          ],
          [
           "Equihash"
          ],
          [
           "Scrypt"
          ],
          [
           "Lyra2Z"
          ],
          [
           "Scrypt"
          ],
          [
           "CryptoNight"
          ],
          [
           "Scrypt"
          ],
          [
           "X13"
          ],
          [
           "X11"
          ],
          [
           "Multiple"
          ],
          [
           "X11"
          ],
          [
           "SHA-256"
          ],
          [
           "PoS"
          ],
          [
           "Multiple"
          ],
          [
           "X16R"
          ],
          [
           "X11"
          ],
          [
           "SHA-256"
          ],
          [
           "Scrypt"
          ],
          [
           "SHA-256"
          ],
          [
           "Scrypt"
          ],
          [
           "X11"
          ],
          [
           "X11"
          ],
          [
           "Scrypt"
          ],
          [
           "PoS"
          ],
          [
           "Multiple"
          ],
          [
           "M7 POW"
          ],
          [
           "CryptoNight"
          ],
          [
           "XEVAN"
          ],
          [
           "Scrypt"
          ],
          [
           "CryptoNight-V7"
          ],
          [
           "Scrypt"
          ],
          [
           "Scrypt"
          ],
          [
           "Quark"
          ],
          [
           "NIST5"
          ],
          [
           "Lyra2REv2"
          ],
          [
           "X11"
          ],
          [
           "NeoScrypt"
          ],
          [
           "Quark"
          ],
          [
           "Scrypt"
          ],
          [
           "Scrypt"
          ],
          [
           "SHA-256"
          ],
          [
           "SHA-256"
          ],
          [
           "Scrypt"
          ],
          [
           "Multiple"
          ],
          [
           "NeoScrypt"
          ],
          [
           "SHA-256"
          ],
          [
           "X11"
          ],
          [
           "CryptoNight"
          ],
          [
           "Scrypt"
          ],
          [
           "X16R"
          ],
          [
           "X11"
          ],
          [
           "SHA-256"
          ],
          [
           "Scrypt"
          ],
          [
           "X13"
          ],
          [
           "Multiple"
          ],
          [
           "PoS"
          ],
          [
           "SHA-256"
          ],
          [
           "Blake2S"
          ],
          [
           "Scrypt"
          ],
          [
           "SHA-256"
          ],
          [
           "CryptoNight"
          ],
          [
           "X11"
          ],
          [
           "X13"
          ],
          [
           "Scrypt"
          ],
          [
           "X11"
          ],
          [
           "X11"
          ],
          [
           "NeoScrypt"
          ],
          [
           "NeoScrypt"
          ],
          [
           "Scrypt"
          ],
          [
           "Scrypt"
          ],
          [
           "Dagger"
          ],
          [
           "Scrypt"
          ],
          [
           "Keccak"
          ],
          [
           "Scrypt"
          ],
          [
           "Counterparty"
          ],
          [
           "Scrypt"
          ],
          [
           "Scrypt"
          ],
          [
           "PHI1612"
          ],
          [
           "Lyra2REv2"
          ],
          [
           "Scrypt"
          ],
          [
           "Scrypt"
          ],
          [
           "Scrypt"
          ],
          [
           "Scrypt"
          ],
          [
           "Scrypt"
          ],
          [
           "Groestl"
          ],
          [
           "SHA-256"
          ],
          [
           "Scrypt"
          ],
          [
           "NeoScrypt"
          ],
          [
           "X11"
          ],
          [
           "Quark"
          ],
          [
           "Scrypt"
          ],
          [
           "Scrypt"
          ],
          [
           "SHA-256"
          ],
          [
           "SHA-256"
          ],
          [
           "Scrypt"
          ],
          [
           "Scrypt"
          ],
          [
           "Scrypt"
          ],
          [
           "CryptoNight"
          ],
          [
           "Equihash"
          ],
          [
           "X11"
          ],
          [
           "PoS"
          ],
          [
           "X11"
          ],
          [
           "DPoS"
          ],
          [
           "VBFT"
          ],
          [
           "Scrypt"
          ],
          [
           "Scrypt"
          ],
          [
           "SHA-256"
          ],
          [
           "Scrypt"
          ],
          [
           "CryptoNight"
          ],
          [
           "Scrypt"
          ],
          [
           "SHA-256"
          ],
          [
           "SkunkHash"
          ],
          [
           "X13"
          ],
          [
           "Scrypt"
          ],
          [
           "Scrypt"
          ],
          [
           "Scrypt"
          ],
          [
           "X11"
          ],
          [
           "Scrypt"
          ],
          [
           "Scrypt"
          ],
          [
           "SHA3"
          ],
          [
           "PHI1612"
          ],
          [
           "Scrypt"
          ],
          [
           "Scrypt"
          ],
          [
           "Scrypt"
          ],
          [
           "Scrypt"
          ],
          [
           "DPoS"
          ],
          [
           "CryptoNight Heavy"
          ],
          [
           "Skein"
          ],
          [
           "POS 3.0"
          ],
          [
           "Scrypt"
          ],
          [
           "Scrypt"
          ],
          [
           "Scrypt"
          ],
          [
           "X11"
          ],
          [
           "Lyra2Z"
          ],
          [
           "SHA-256D"
          ],
          [
           "X11"
          ],
          [
           "Lyra2REv2"
          ],
          [
           "X11"
          ],
          [
           "Quark"
          ],
          [
           "Scrypt"
          ],
          [
           "Scrypt"
          ],
          [
           "PoS"
          ],
          [
           "POS 2.0"
          ],
          [
           "SHA-512"
          ],
          [
           "SHA-256"
          ],
          [
           "X11"
          ],
          [
           "SHA-256"
          ],
          [
           "X11"
          ],
          [
           "Scrypt"
          ],
          [
           "Scrypt"
          ],
          [
           "Scrypt"
          ],
          [
           "X11"
          ],
          [
           "Lyra2RE"
          ],
          [
           "Scrypt"
          ],
          [
           "Quark"
          ],
          [
           "X11"
          ],
          [
           "NeoScrypt"
          ],
          [
           "Scrypt"
          ],
          [
           "Scrypt"
          ],
          [
           "NeoScrypt"
          ],
          [
           "X14"
          ],
          [
           "Scrypt"
          ],
          [
           "Lyra2Z"
          ],
          [
           "Quark"
          ],
          [
           "Scrypt"
          ],
          [
           "Scrypt"
          ],
          [
           "NeoScrypt"
          ],
          [
           "X11"
          ],
          [
           "X11"
          ],
          [
           "NeoScrypt"
          ],
          [
           "NeoScrypt"
          ],
          [
           "Scrypt"
          ],
          [
           "Scrypt"
          ],
          [
           "CryptoNight"
          ],
          [
           "PoS"
          ],
          [
           "Scrypt"
          ],
          [
           "Scrypt"
          ],
          [
           "X13"
          ],
          [
           "SHA3-256"
          ],
          [
           "PoS"
          ],
          [
           "X11"
          ],
          [
           "Ethash"
          ],
          [
           "Scrypt"
          ],
          [
           "Scrypt"
          ],
          [
           "SHA-256"
          ],
          [
           "X13"
          ],
          [
           "Scrypt"
          ],
          [
           "XEVAN"
          ],
          [
           "X15"
          ],
          [
           "SHA-256"
          ],
          [
           "Scrypt"
          ],
          [
           "Argon2d"
          ],
          [
           "Quark"
          ],
          [
           "Scrypt"
          ],
          [
           "NIST5"
          ],
          [
           "SHA-256"
          ],
          [
           "Scrypt"
          ],
          [
           "Scrypt"
          ],
          [
           "PoS"
          ],
          [
           "Scrypt"
          ],
          [
           "Dagger-Hashimoto"
          ],
          [
           "Ethash"
          ],
          [
           "QuBit"
          ],
          [
           "Lyra2RE"
          ],
          [
           "CryptoNight-V7"
          ],
          [
           "Scrypt"
          ],
          [
           "SHA-256"
          ],
          [
           "X11"
          ],
          [
           "Multiple"
          ],
          [
           "X13"
          ],
          [
           "SHA-256D"
          ],
          [
           "CryptoNight"
          ],
          [
           "Scrypt"
          ],
          [
           "Scrypt"
          ],
          [
           "Scrypt"
          ],
          [
           "Scrypt"
          ],
          [
           "Quark"
          ],
          [
           "SHA-256"
          ],
          [
           "Scrypt"
          ],
          [
           "SHA-256D"
          ],
          [
           "XEVAN"
          ],
          [
           "TRC10"
          ],
          [
           "Equihash"
          ],
          [
           "Equihash"
          ],
          [
           "Quark"
          ],
          [
           "Equihash"
          ],
          [
           "Scrypt"
          ],
          [
           "SHA-256"
          ],
          [
           "SHA-256"
          ],
          [
           "Scrypt"
          ],
          [
           "NIST5"
          ],
          [
           "X11"
          ],
          [
           "X13"
          ],
          [
           "Scrypt"
          ],
          [
           "Scrypt"
          ],
          [
           "Scrypt"
          ],
          [
           "Blake"
          ],
          [
           "CryptoNight"
          ],
          [
           "Green Protocol"
          ],
          [
           "Scrypt"
          ],
          [
           "Equihash"
          ],
          [
           "X13"
          ],
          [
           "Skein"
          ],
          [
           "X11"
          ],
          [
           "Scrypt"
          ],
          [
           "SHA-512"
          ],
          [
           "DPoS"
          ],
          [
           "Quark"
          ],
          [
           "PHI1612"
          ],
          [
           "X11"
          ],
          [
           "Scrypt"
          ],
          [
           "Lyra2REv2"
          ],
          [
           "Scrypt"
          ],
          [
           "Scrypt"
          ]
         ],
         "hovertemplate": "<b>%{hovertext}</b><br><br>class=%{marker.color}<br>PC 1=%{x}<br>PC 2=%{y}<br>PC 3=%{z}<br>Algorithm=%{customdata[0]}<extra></extra>",
         "hovertext": [
          "ZoneCoin",
          "ChainZilla",
          "ZetaCoin",
          "ZEPHYR",
          "Horizen",
          "ZeitCoin",
          "ZClassic",
          "YoCoin",
          "ZCoin",
          "WhiteCoin",
          "UltraNote",
          "Xt3ch",
          "StealthCoin",
          "Stakenet",
          "SHIELD",
          "Ratecoin",
          "PayCoin",
          "Opair",
          "MyriadCoin",
          "Motion",
          "Monoeci",
          "JouleCoin",
          "Xios",
          "Infinity Economics",
          "HiCoin",
          "GoldReserve",
          "XenixCoin",
          "CoinonatX",
          "Creatio",
          "Crypti",
          "Cryptonite",
          "Cannabis Industry Coin",
          "Bitcoin Incognito",
          "WomenCoin",
          "Webchain",
          "WorldCoin",
          "Wild Beast Coin",
          "Digiwage",
          "Virta Unique Coin",
          "Vertcoin",
          "VaultCoin",
          "VIVO Coin",
          "Vitae",
          "Unified Society USDEX",
          "UnitaryStatus Dollar",
          "Ultimate Secure Cash",
          "Unobtanium",
          "Unify",
          "Unitus",
          "UFO Coin",
          "UnitedBitcoin",
          "Ucoin",
          "BitTube",
          "ThunderStake",
          "Trivechain",
          "TruckCoin",
          "TerraCoin",
          "TPCash",
          "Tokyo Coin",
          "TeslaCoin",
          "TeamUP",
          "TigerCash",
          "TajCoin",
          "SexCoin",
          "SwingCoin",
          "Sumokoin",
          "Sucre",
          "Sativa Coin",
          "ShareChain",
          "Squall Coin",
          "Spreadcoin",
          "SimpleBank",
          "SparksPay",
          "Song Coin",
          "Sojourn Coin",
          "SoilCoin",
          "SmileyCoin",
          "SmartCash",
          "SolarCoin",
          "StorjCoin",
          "Swisscoin",
          "Shilling",
          "Seraph",
          "Scribe Network",
          "Swiscoin",
          "SafeExchangeCoin",
          "Revolution VR",
          "RootCoin",
          "RenosCoin",
          "Riecoin",
          "Revenu",
          "RubyCoin",
          "Rapture",
          "Condensate",
          "QuarkCoin",
          "PesetaCoin",
          "PesoBit",
          "ProCurrency",
          "Project Pai",
          "PopularCoin",
          "Peony Coin",
          "PandaCoin",
          "PluraCoin",
          "PirateCash",
          "PAXEX",
          "Particl",
          "PacCoin",
          "Oxycoin",
          "Ontology",
          "NewYorkCoin",
          "NobleCoin",
          "Namecoin",
          "Gulden",
          "Niobio Cash",
          "Nautilus Coin",
          "MazaCoin",
          "MUNcoin",
          "MudraCoin",
          "MasterCoin",
          "Mercoin",
          "MoonCoin",
          "MindCoin",
          "MinCoin",
          "My Big Coin",
          "MaxCoin",
          "LUXCoin",
          "LiteCoin Ultra",
          "Listerclassic Coin",
          "Litecoin",
          "Litebar ",
          "Lisk",
          "Loki",
          "Lizus Payment",
          "Let it Ride",
          "Linx",
          "Linda",
          "Litecoin Plus",
          "Lutetium Coin",
          "LAPO",
          "LanaCoin",
          "Kurrent",
          "KREDS",
          "BetKings",
          "Kalkulus",
          "KiloCoin",
          "KrugerCoin",
          "Ketan",
          "KekCoin",
          "Kcash",
          "IXcoin",
          "IslaCoin",
          "Internet of People",
          "Insane Coin",
          "Independent Money System",
          "Infinite Coin",
          "HyperCoin",
          "HyperStake",
          "HexxCoin",
          "HollyWoodCoin",
          "HerbCoin",
          "Halloween Coin",
          "GunCoin",
          "GrowthCoin",
          "GreenCoin",
          "GoaCoin",
          "GanjaCoin V2",
          "GoldCoin",
          "GINcoin",
          "Giant",
          "Genstake",
          "GrandCoin",
          "GoByte",
          "GoldBlocks",
          "FuturoCoin",
          "FeatherCoin",
          "FriendshipCoin",
          "FirstCoin",
          "Francs",
          "FREDEnergy",
          "FreeCoin",
          "FlutterCoin",
          "BitFlip",
          "FindCoin",
          "Fiii",
          "Exclusive Coin",
          "EUNO",
          "Ethereum Classic",
          "Emerald",
          "Einsteinium",
          "Emercoin",
          "EmberCoin",
          "EmaratCoin",
          "Ellerium",
          "EverGreenCoin",
          "EDRCoin",
          "EB3coin",
          "Dynamic",
          "Dystem",
          "DopeCoin",
          "Denarius",
          "DollarCoin",
          "Diggits",
          "Digitalcoin ",
          "Deviant Coin",
          "Deimos",
          "DubaiCoin",
          "DaxxCoin",
          "CypherPunkCoin",
          "Crypto",
          "Citadel",
          "CarterCoin",
          "Credence Coin",
          "Creditbit ",
          "Circuits of Value",
          "Paycon",
          "Cognitio",
          "BitCoal",
          "Cash & Back Coin",
          " ClubCoin",
          "OpenChat",
          "Crypto Escudo",
          "Carebit",
          "BitcoinWSpectrum",
          "BeaverCoin",
          "BuzzCoin",
          "Bettex coin",
          "BitTorrent",
          "Bitrolium",
          "Bitcoin Gold",
          "Bitcloud 2.0",
          "BitcoinZ",
          "BitCurrency",
          "BitcoinDark",
          "Bitcoin",
          "BitBar",
          "Bitspace",
          "BitSoar Coin",
          "BritCoin",
          "Briacoin",
          "BillaryCoin",
          "BlackholeCoin",
          "BlakeCoin",
          "Bitcoin Nova",
          "Bitcoin Green",
          "BenjiRolls",
          "Beam",
          "Bitcoin Diamond",
          "BashCoin",
          "Axe",
          "Aurora Coin",
          "Arionum",
          "ARK",
          "Alqo",
          "Argoneum",
          "Adzcoin",
          "AudioCoin",
          "Absolute Coin",
          "42 Coin",
          "404Coin"
         ],
         "legendgroup": "0",
         "marker": {
          "color": [
           0,
           0,
           0,
           0,
           0,
           0,
           0,
           0,
           0,
           0,
           0,
           0,
           0,
           0,
           0,
           0,
           0,
           0,
           0,
           0,
           0,
           0,
           0,
           0,
           0,
           0,
           0,
           0,
           0,
           0,
           0,
           0,
           0,
           0,
           0,
           0,
           0,
           0,
           0,
           0,
           0,
           0,
           0,
           0,
           0,
           0,
           0,
           0,
           0,
           0,
           0,
           0,
           0,
           0,
           0,
           0,
           0,
           0,
           0,
           0,
           0,
           0,
           0,
           0,
           0,
           0,
           0,
           0,
           0,
           0,
           0,
           0,
           0,
           0,
           0,
           0,
           0,
           0,
           0,
           0,
           0,
           0,
           0,
           0,
           0,
           0,
           0,
           0,
           0,
           0,
           0,
           0,
           0,
           0,
           0,
           0,
           0,
           0,
           0,
           0,
           0,
           0,
           0,
           0,
           0,
           0,
           0,
           0,
           0,
           0,
           0,
           0,
           0,
           0,
           0,
           0,
           0,
           0,
           0,
           0,
           0,
           0,
           0,
           0,
           0,
           0,
           0,
           0,
           0,
           0,
           0,
           0,
           0,
           0,
           0,
           0,
           0,
           0,
           0,
           0,
           0,
           0,
           0,
           0,
           0,
           0,
           0,
           0,
           0,
           0,
           0,
           0,
           0,
           0,
           0,
           0,
           0,
           0,
           0,
           0,
           0,
           0,
           0,
           0,
           0,
           0,
           0,
           0,
           0,
           0,
           0,
           0,
           0,
           0,
           0,
           0,
           0,
           0,
           0,
           0,
           0,
           0,
           0,
           0,
           0,
           0,
           0,
           0,
           0,
           0,
           0,
           0,
           0,
           0,
           0,
           0,
           0,
           0,
           0,
           0,
           0,
           0,
           0,
           0,
           0,
           0,
           0,
           0,
           0,
           0,
           0,
           0,
           0,
           0,
           0,
           0,
           0,
           0,
           0,
           0,
           0,
           0,
           0,
           0,
           0,
           0,
           0,
           0,
           0,
           0,
           0,
           0,
           0,
           0,
           0,
           0,
           0,
           0,
           0,
           0,
           0,
           0,
           0,
           0,
           0,
           0,
           0,
           0,
           0,
           0,
           0,
           0,
           0,
           0,
           0,
           0,
           0,
           0,
           0
          ],
          "coloraxis": "coloraxis",
          "symbol": "diamond"
         },
         "mode": "markers",
         "name": "0",
         "scene": "scene",
         "showlegend": true,
         "type": "scatter3d",
         "x": [
          -0.3185572299321999,
          -0.37544590051429955,
          -0.13994173985084246,
          2.599756850421099,
          -0.17933190771438243,
          0.9381424715986949,
          -0.17935330555064957,
          -0.14436572649482035,
          -0.08029188247962314,
          -0.31333625459382675,
          1.172120560626818,
          -0.2588288811632663,
          -0.28167868762874576,
          -0.3972586917745313,
          -0.0987104478823013,
          -0.4026523609766653,
          -0.2567473482682845,
          -0.31216998042003247,
          -0.07352576839188624,
          -0.19776692307825394,
          -0.40468447260982854,
          -0.14252425680345954,
          -0.31856272605276253,
          -0.07644279976206673,
          -0.05857124188685807,
          -0.4044019367569473,
          -0.4048368270998683,
          -0.31814141272914576,
          -0.3132537036037064,
          -0.22205121588998264,
          -0.10312665382828388,
          0.30265745673011557,
          -0.47949531686079094,
          0.4810488327959917,
          -0.12220027448890768,
          -0.14213996292691528,
          -0.14558903935451462,
          -0.33428371583053496,
          -0.36175391320218825,
          -0.18093113845920433,
          -0.22404733374405814,
          -0.1768072176863717,
          -0.3339379228816883,
          -0.31405400286736324,
          -0.29301717671497807,
          -0.2553902138654616,
          -0.14334881361126062,
          -0.14523848803011835,
          -0.10885628294125962,
          -0.09904358485705743,
          -0.14294865484113392,
          -0.34523780308341073,
          0.31085528458968736,
          -0.17302571255884294,
          -0.37009020291154876,
          -0.401829992522108,
          -0.1427530344445395,
          -0.31132884857714277,
          -0.21379876069753323,
          -0.2215675096928426,
          -0.3112169903056813,
          -0.2369307059118805,
          -0.4135606543597252,
          -0.14213458176633811,
          -0.3161373626511848,
          0.30325753511645615,
          -0.23158121291976153,
          -0.28193574948058236,
          0.05499922318180817,
          -0.4745000506824707,
          -0.2314917524753774,
          -0.3500076673329072,
          -0.17680449170751053,
          -0.14365202946977026,
          -0.06846323198186133,
          -0.14608931946117137,
          0.5978654757992098,
          -0.09808263579424921,
          0.5758155645978904,
          -0.32762561445263966,
          -0.11412225963373096,
          -0.14524888431632071,
          -0.3827980237105104,
          -0.18188186045597815,
          -0.18352714514316487,
          0.07529496578771146,
          -0.1413978521246165,
          -0.31871967599672363,
          -0.2585378739352959,
          -0.20743458035651527,
          -0.3148353720272117,
          -0.2589035200395711,
          -0.17684731969954548,
          -0.39969385627742116,
          -0.21675921596509923,
          -0.1426398300430038,
          -0.3183181224981685,
          0.2952956545040241,
          -0.10122512933318084,
          -0.05847507255787529,
          -0.1352221441386028,
          0.4095381368573575,
          0.3169585702041199,
          -0.29227470118923393,
          -0.3446269860843171,
          -0.31347346250921554,
          0.5097255033502885,
          3.9388895662093124,
          -0.3087219905080225,
          1.6726049915585854,
          -0.005326217337178441,
          -0.14301156065100984,
          -0.12799125237033415,
          0.3066621025612756,
          -0.25892456233955957,
          -0.27819490146771736,
          -0.13433783298836852,
          -0.22107132860339776,
          -0.14559823232348607,
          -0.3176876075493634,
          2.675555369297587,
          -0.23146115450076624,
          -0.14546339597840202,
          -0.23947326040870118,
          -0.38502111346151013,
          -0.38250400688151076,
          -0.3175352761815493,
          -0.317833274469245,
          -0.14419203594188829,
          -0.14558670065014848,
          3.9273201163264013,
          0.6154426938038657,
          -0.4266223357281974,
          -0.3240271523046007,
          -0.144447302297302,
          0.16359406326351558,
          -0.3186831104504328,
          -0.33223886832348026,
          0.6219597807570953,
          -0.29624521372142804,
          -0.22932517621876045,
          -0.16593208528187203,
          -0.3452146463100933,
          -0.3351499091185673,
          -0.06964702234882068,
          -0.14173513374142005,
          -0.311993511172604,
          -0.32445889406845846,
          -0.23293950059959162,
          -0.1429307879884065,
          -0.4048948830952688,
          -0.31630048562085944,
          -0.40439143268506494,
          -0.31852023750191755,
          1.6718608819361438,
          -0.31862188712963274,
          -0.3240778945544457,
          -0.14171961337049976,
          -0.2585660065013319,
          -0.3941619221432925,
          -0.390528773522167,
          -0.1695734629424098,
          -0.24080316420890255,
          -0.013525993305369882,
          -0.1767728209799976,
          -0.4292635026144233,
          -0.14455022948596785,
          -0.08037936061795413,
          -0.3948945099855689,
          -0.31787128623366034,
          -0.12393279026431885,
          -0.1767507669407873,
          -0.4043489070853856,
          -0.23064143931655398,
          -0.17193696664509958,
          -0.3497359410219018,
          -0.21762630987478365,
          -0.1453801813678866,
          0.3855908853899887,
          -0.31265187395516786,
          -0.21727957640263168,
          -0.14515854597670516,
          -0.2223128740490416,
          -0.6034036965032349,
          -0.3135827104541269,
          -0.4041555590153373,
          -0.13463762949327462,
          -0.14512767642464536,
          -0.14062536702792844,
          -0.3085926277641114,
          0.8963034689765468,
          -0.31785259171446467,
          -0.40975200177447946,
          -0.23502977988236234,
          -0.3162785987079184,
          -0.1154085834042722,
          -0.14617496955720435,
          -0.3352680943756347,
          -0.14265570855546017,
          -0.36330928216859215,
          -0.1431592628273143,
          -0.25724305030154276,
          -0.14483159344766092,
          -0.3127302628265969,
          -0.13484192265243639,
          -0.14507560633645353,
          -0.057531144308222294,
          -0.17556398484912314,
          -0.1411588685098872,
          -0.1337566190809713,
          -0.3175343144732713,
          -0.31625964389437866,
          -0.4270099614785973,
          -0.08815380100895436,
          -0.28143914028244954,
          -0.3650855532248849,
          0.3026397866196211,
          -0.3157905312897704,
          -0.3162513848543462,
          -0.29868335185223005,
          -0.12834411688328864,
          -0.3917615801377111,
          -0.2555200684489517,
          -0.14554636644291588,
          0.030702640226586083,
          -0.3502493129433287,
          35.43825467460068,
          -0.1781574568870781,
          -0.1792059630695093,
          -0.39314778471137496,
          0.04096429684538992,
          -0.2570928381090193,
          -0.3163088690481658,
          -0.14297099249390866,
          -0.31874012538558766,
          -0.36289314494219094,
          -0.2693866846950714,
          -0.2816086375166487,
          -0.31871154817782876,
          -0.31832136326852184,
          -0.31842765714436355,
          -0.08989072510410002,
          0.31599697285020006,
          -0.316575748923771,
          -0.14509190445463094,
          -0.17719448604537483,
          -0.27822313414388467,
          -0.4264899885561787,
          -0.2315626832529267,
          -0.31839057162226636,
          -0.16485921551821925,
          3.926913422860896,
          -0.39375253802596555,
          -0.2092689284653176,
          -0.23058977633175218,
          -0.22913385033552947,
          -0.35477736216365924,
          -0.3187443393069941,
          -0.30142001597087564
         ],
         "y": [
          1.0898191063593279,
          -1.7491512412698331,
          -1.3396630053689396,
          0.7546041892432729,
          -2.103804387703111,
          0.7601298253430505,
          -2.103805054378173,
          -1.0228513849448098,
          -1.871509530575418,
          1.0897790883105565,
          -2.401045730366629,
          0.7947248340554828,
          1.6966298812375749,
          0.6233770696875826,
          -1.8155809596771706,
          1.1755251451230206,
          0.4778641645702273,
          1.4422679744482454,
          -1.8157697641821782,
          -1.3809539726178501,
          1.175509410445012,
          -1.3396528071250808,
          1.089818935121149,
          0.47695266272800213,
          0.7937249943221569,
          1.1754960612837513,
          1.1755087710524117,
          1.0898122640135777,
          1.4422734388753857,
          0.0021077967742926694,
          -2.1836605423328703,
          -2.3664006143708436,
          1.5060792524145574,
          1.0965854144982259,
          -2.1914730309290693,
          -1.022852556230978,
          -1.0227691065267097,
          1.1571244299727224,
          1.4999629798115863,
          -1.4619921088208243,
          -0.937572772200196,
          -1.601049945668124,
          1.1571497328648401,
          1.0898061256325042,
          1.089467748797238,
          0.4777701743416518,
          -1.3396459878627454,
          -1.0227702794543152,
          -1.8154175983092318,
          -1.6015133727827768,
          -1.3396479887179567,
          0.8804154481843729,
          -2.366856410575293,
          1.0812921987763895,
          0.7316237498765481,
          1.1756052518705014,
          -1.3396577555696725,
          1.0893331058949283,
          1.4012251177064001,
          0.0020502207110130065,
          1.4421327584218475,
          0.477764191410358,
          1.814533436963966,
          -1.022841185902164,
          0.7729322915992737,
          -2.366431237119224,
          -0.937095418126018,
          1.6966146075189859,
          -1.0237822818310258,
          1.0221027553119149,
          -0.9370927761723844,
          0.5115487363164927,
          -1.6010455019466656,
          -1.0228595795411854,
          -1.0279921341291487,
          -2.1712318913037056,
          -1.0359272397386439,
          -1.2883602134207621,
          -1.0715572002100056,
          0.9915708864160774,
          1.0887938334193938,
          -1.022778393393087,
          1.322077537180015,
          -1.4619844620390248,
          0.44644318781728887,
          0.723313996727061,
          -1.0227891736108408,
          1.0898293009249946,
          0.7947408556012674,
          -1.2687201639541272,
          0.7728401133396252,
          0.7947544730549402,
          -1.6010468363037433,
          1.1753085732097612,
          -0.6603583333614977,
          -1.0227961848644398,
          1.0898418118022817,
          0.44058792305928357,
          -1.3398589693351193,
          -1.023685383317831,
          0.786345183399929,
          0.7919596176838708,
          -2.3666662554461633,
          -0.28633215997889333,
          0.8803763617105884,
          1.4422748489251986,
          -0.9866312465572752,
          1.8205953773120491,
          1.3544720926028022,
          -0.9661191978278634,
          -1.029294118030974,
          -1.3396505544952082,
          -1.0234393786689435,
          -2.3665046813554724,
          0.7947420632524129,
          0.7723860284835864,
          -2.161964697296607,
          1.4014344112296333,
          -1.0227679338235534,
          1.089788809740432,
          -1.213833666679968,
          -0.9370889169958313,
          -1.0227705474581517,
          0.560162205659349,
          2.285734838840797,
          1.3220663566027482,
          1.0897572325526972,
          1.0897770066635613,
          -1.022784695136904,
          -1.0227681052392485,
          1.8201187421982388,
          -2.2428516985484244,
          1.8354868040003829,
          1.2162476114361132,
          -1.022804271705005,
          1.0685331068082147,
          1.089827534307892,
          0.8803576872304725,
          0.19572958605999233,
          1.8744860560607486,
          -0.9371763786416935,
          -1.462262883960912,
          0.8804247796240888,
          1.157170089195344,
          -1.027665783998843,
          -1.0228399432957642,
          1.4421746733099894,
          1.2565808912171128,
          0.670826790305015,
          -1.339648037926747,
          1.1755097615560177,
          0.772941012145041,
          1.1755036532011847,
          1.0898201048040372,
          -1.0319601156062317,
          1.0898323476535638,
          0.8810892396260852,
          -2.1608690311663827,
          0.7947461005995458,
          1.4522452712838358,
          1.1748676572168848,
          -1.6011681873993922,
          0.7938654810750302,
          -1.0259172665282805,
          -1.6010525063230732,
          1.710473164377239,
          -1.022787315994971,
          -1.8715043375918385,
          1.4522579337290469,
          1.0898448365421964,
          -1.0231244943989999,
          -1.6010516739102156,
          1.1754904488357298,
          -0.9371244008581979,
          -1.6011226849016071,
          0.5115287479845086,
          0.6133083218927546,
          -1.022775219458465,
          -2.3696713065644683,
          1.4422703956428415,
          0.5745434998399358,
          -1.02278284344514,
          1.4015304706175697,
          3.030723529830408,
          1.442277717576425,
          1.1754964728250281,
          -2.043757072476589,
          -1.0227760699470407,
          -1.022830337001141,
          0.7724699503418566,
          1.7327138223872092,
          1.0897952929032693,
          1.6594622306712365,
          1.7683011279357608,
          0.7729409675928126,
          -1.0247327495700074,
          -2.2181407173552454,
          1.1571656805279062,
          -1.0228210989748217,
          1.4999944315960707,
          -1.339647628917914,
          0.7947335604606851,
          -1.0227785891635228,
          1.442240347672069,
          -1.0231588232184305,
          -2.177554960357718,
          -2.0484668210445376,
          -1.6208683403565498,
          -2.160892089325131,
          -2.1906961647882954,
          1.0898008504192787,
          0.7729393787574231,
          0.4370113294245564,
          -1.8156443459071399,
          1.6966010213674783,
          1.8777886515601143,
          -2.3663949899511887,
          1.089768004253461,
          1.089789969064868,
          1.0897270913995474,
          -1.0229563763442133,
          1.4522139928982576,
          0.47783864575879414,
          -1.0227683087737698,
          1.8755960512527343,
          1.3643849010102655,
          1.643776597724824,
          -2.1038033930772206,
          -2.1038004637477656,
          1.452170804044522,
          -2.112181307621991,
          0.7948108870060593,
          0.7729400244843265,
          -1.3396492905459783,
          1.0898283005674114,
          1.4999783382444833,
          0.8799018784512496,
          1.6966102697805021,
          1.0898273747616976,
          1.0898111992998325,
          1.0898276559542217,
          -2.202515638395794,
          -2.366696215156483,
          1.3380631438685382,
          -1.0227775128763152,
          -2.1039134530372285,
          1.6965849854581943,
          1.8354887480389126,
          -0.9370957125702571,
          1.0898273727732417,
          -0.9057920835855924,
          1.8201314381766063,
          1.4522552079574773,
          -0.7905297935512108,
          -0.937111167795492,
          1.0849925708755133,
          0.6506049781631912,
          1.0898285324796924,
          1.0899818130176409
         ],
         "z": [
          -0.53132167985793,
          0.63373253189811,
          0.1681911282657056,
          -0.04270905648415536,
          0.42874880044438685,
          -0.24364686831343496,
          0.4287494458113738,
          -0.004818870096895154,
          0.30874804504348774,
          -0.5314306921426836,
          0.43291754113581626,
          -0.22473158618201974,
          -0.5629067280204212,
          -0.28420975957468203,
          0.3236653257926425,
          -0.4872764609131113,
          -0.051656659995012275,
          -0.0485834897179813,
          0.32313846593958384,
          0.16558180285990834,
          -0.48722654586246766,
          0.16824734453750637,
          -0.5313215140928157,
          -0.05553384221766809,
          -0.22904082598349795,
          -0.4872297715352471,
          -0.4872229327212087,
          -0.5313294881697952,
          -0.048560182469153564,
          0.10392733504350898,
          0.4568197628281084,
          0.44438245457470604,
          -0.6424271227148265,
          -0.551099966896024,
          0.38701520586137494,
          -0.004869141779916654,
          -0.004810755920659266,
          -0.14291127294020683,
          -0.6037328133569829,
          0.25820900952697795,
          0.039228290671241166,
          0.22446310025674565,
          -0.1429251756184171,
          -0.5314208542389085,
          -0.5318177504354917,
          -0.0516650136656695,
          0.16826444168977311,
          -0.004818437261925373,
          0.323856704909918,
          0.22280771592066825,
          0.1682558315882921,
          -0.18063012878834359,
          0.44430522930774624,
          -0.5325885269379509,
          -0.3609412604618487,
          -0.4873142892236894,
          0.16825372354487408,
          -0.5313696662447494,
          -0.2564275463420058,
          0.10393011342634503,
          -0.04857280884079177,
          -0.052082836976769756,
          -0.5227489436220863,
          -0.004871982230972579,
          -0.35824818755657145,
          0.44437614634308553,
          0.03928528258427354,
          -0.5628972382211013,
          -0.00912431680835141,
          -0.42920014381157123,
          0.03928261915709473,
          -0.3020450513788532,
          0.22446197601128492,
          -0.004833120601605113,
          -0.005313805845243119,
          0.4348496026219253,
          -0.018550512921080904,
          0.047011814030307804,
          -0.009531880850953911,
          0.021184162737566195,
          -0.5357197153301994,
          -0.004816261391898839,
          -0.47113639058567525,
          0.25822877432175745,
          -0.11153112886782482,
          -0.24413025477630007,
          -0.0049011491401093656,
          -0.531320427523135,
          -0.22474202572945054,
          0.16670868599218625,
          -0.35825572197407163,
          -0.22473697658992728,
          0.22446326772002792,
          -0.48729188017530123,
          0.07690957179777844,
          -0.004871265115496584,
          -0.531332538531385,
          -0.05528329947576964,
          0.16735864183302035,
          -0.006570245729733228,
          -0.2255356799414367,
          -0.23925052075478676,
          0.4441211518617904,
          0.20882641435871793,
          -0.18063465754590113,
          -0.04855552838162405,
          0.0342908958052854,
          -0.001036956153217449,
          -0.06515006726287527,
          -0.059648644919944385,
          -0.0064365208700308705,
          0.16825787369377312,
          -0.005050200277219107,
          0.44431637942991475,
          -0.22473353194148366,
          -0.3589793476181533,
          0.3213656859807678,
          -0.25631240578036596,
          -0.00481082748016369,
          -0.53133418795707,
          -0.0232081659588706,
          0.039281001624464594,
          -0.004813265067137469,
          -0.22188400118134044,
          -0.6574753009306528,
          -0.47114039544505654,
          -0.531330098755756,
          -0.531328057871822,
          -0.004838758086124826,
          -0.004811048409037001,
          -0.0006602438211870808,
          0.38777215716087354,
          -0.5737744318223437,
          -0.026668242949597205,
          -0.0048282804107794555,
          -0.5371836216866294,
          -0.531320835668176,
          -0.18091155293607672,
          -0.2267996060696839,
          -0.6366199666036853,
          0.039253398050447454,
          0.25793308252847647,
          -0.18063288553580661,
          -0.1429025153649946,
          -0.005364938012278342,
          -0.004881351584147325,
          -0.04856519277702415,
          0.1280280332214559,
          0.2513007395293838,
          0.16825543755914438,
          -0.48722185094298587,
          -0.358246567463094,
          -0.48723182505691587,
          -0.5313227587245133,
          -0.043891566079130986,
          -0.5313233768730481,
          -0.18127179321290932,
          0.2689626052476546,
          -0.22474264066978306,
          -0.4495043147285461,
          -0.4873946311215259,
          0.22432707403689675,
          -0.22493554733387977,
          -0.007057569873764442,
          0.22446293119623362,
          -0.6093570646037175,
          -0.004829996217501463,
          0.3087487903987021,
          -0.4494907032751205,
          -0.5313434102130853,
          -0.005217653770791547,
          0.22446223130361673,
          -0.48722963421576243,
          0.03927086710307304,
          0.22436987609637946,
          -0.3020464443593366,
          -0.33304906453001343,
          -0.004814038137043268,
          0.4432807688769488,
          -0.04857312373882135,
          -0.24387156425727724,
          -0.0048172493162190275,
          -0.2563071720351028,
          17.096414492718853,
          -0.04855373292539353,
          -0.4872354656680595,
          0.3525830070764531,
          -0.004819569725654916,
          -0.004908853199100324,
          -0.3583090150459647,
          -0.5982875030251801,
          -0.5313319907147769,
          -0.7004462232402757,
          -0.5564125484473975,
          -0.35824705390934075,
          -0.005026780585139977,
          0.5517149518676568,
          -0.14289877718061875,
          -0.004864948420269245,
          -0.6037050066925599,
          0.16826052891619048,
          -0.22476968984893536,
          -0.004825692129165751,
          -0.04856415998396251,
          -0.004961678028990367,
          0.2598078754934711,
          0.35195768957340445,
          0.1233596247860362,
          0.26895538194239493,
          0.3870919537990936,
          -0.5313405480501274,
          -0.3582471045793771,
          -0.2583814575485531,
          0.32344071585498513,
          -0.5629052692866261,
          -0.6358459910401995,
          0.44438151130445624,
          -0.5313723006451283,
          -0.5313670846981026,
          -0.5317510592987565,
          -0.005157654354836003,
          -0.44955135393210294,
          -0.05167843343513359,
          -0.004811915824591977,
          -0.6443109883763671,
          -0.39385505473257093,
          -0.9399375410299502,
          0.4287218884574601,
          0.42874500190536613,
          -0.4495095454680048,
          0.42574803603315703,
          -0.22479158745467653,
          -0.35824614094421486,
          0.1682566501425239,
          -0.5313197239259463,
          -0.6037106106924085,
          -0.18223008868117496,
          -0.5629036306143552,
          -0.5313201516468409,
          -0.5313251465862868,
          -0.5313266666224505,
          0.3306204966634553,
          0.44415015400852403,
          -0.17358108704265984,
          -0.004820037228972152,
          0.42872632874740463,
          -0.562974477834001,
          -0.5737779024496059,
          0.03928493212815934,
          -0.5313274412130617,
          0.26246109872607415,
          -0.0006540421198061782,
          -0.44951598818749827,
          0.05536636443054315,
          0.039266530183842636,
          -0.5321988199919606,
          -0.26828409393696717,
          -0.5313196836609001,
          -0.5317497987076587
         ]
        },
        {
         "customdata": [
          [
           "Exosis"
          ],
          [
           "DPoS"
          ]
         ],
         "hovertemplate": "<b>%{hovertext}</b><br><br>class=%{marker.color}<br>PC 1=%{x}<br>PC 2=%{y}<br>PC 3=%{z}<br>Algorithm=%{customdata[0]}<extra></extra>",
         "hovertext": [
          "Exosis",
          "ALAX"
         ],
         "legendgroup": "3",
         "marker": {
          "color": [
           3,
           3
          ],
          "coloraxis": "coloraxis",
          "symbol": "square"
         },
         "mode": "markers",
         "name": "3",
         "scene": "scene",
         "showlegend": true,
         "type": "scatter3d",
         "x": [
          -0.1402849208849634,
          3.944680359703004
         ],
         "y": [
          -2.240543875351164,
          1.8200493313202188
         ],
         "z": [
          0.27528353558624435,
          -0.0010379372350728853
         ]
        },
        {
         "customdata": [
          [
           "Scrypt"
          ]
         ],
         "hovertemplate": "<b>%{hovertext}</b><br><br>class=%{marker.color}<br>PC 1=%{x}<br>PC 2=%{y}<br>PC 3=%{z}<br>Algorithm=%{customdata[0]}<extra></extra>",
         "hovertext": [
          "ArtByte"
         ],
         "legendgroup": "1",
         "marker": {
          "color": [
           1
          ],
          "coloraxis": "coloraxis",
          "symbol": "x"
         },
         "mode": "markers",
         "name": "1",
         "scene": "scene",
         "showlegend": true,
         "type": "scatter3d",
         "x": [
          -0.12818739463966075
         ],
         "y": [
          -1.0229514934761392
         ],
         "z": [
          -0.005162381158094674
         ]
        }
       ],
       "layout": {
        "coloraxis": {
         "colorbar": {
          "title": {
           "text": "class"
          }
         },
         "colorscale": [
          [
           0,
           "#0d0887"
          ],
          [
           0.1111111111111111,
           "#46039f"
          ],
          [
           0.2222222222222222,
           "#7201a8"
          ],
          [
           0.3333333333333333,
           "#9c179e"
          ],
          [
           0.4444444444444444,
           "#bd3786"
          ],
          [
           0.5555555555555556,
           "#d8576b"
          ],
          [
           0.6666666666666666,
           "#ed7953"
          ],
          [
           0.7777777777777778,
           "#fb9f3a"
          ],
          [
           0.8888888888888888,
           "#fdca26"
          ],
          [
           1,
           "#f0f921"
          ]
         ]
        },
        "legend": {
         "title": {
          "text": "class"
         },
         "tracegroupgap": 0,
         "x": 0,
         "y": 1
        },
        "margin": {
         "t": 60
        },
        "scene": {
         "domain": {
          "x": [
           0,
           1
          ],
          "y": [
           0,
           1
          ]
         },
         "xaxis": {
          "title": {
           "text": "PC 1"
          }
         },
         "yaxis": {
          "title": {
           "text": "PC 2"
          }
         },
         "zaxis": {
          "title": {
           "text": "PC 3"
          }
         }
        },
        "template": {
         "data": {
          "bar": [
           {
            "error_x": {
             "color": "#2a3f5f"
            },
            "error_y": {
             "color": "#2a3f5f"
            },
            "marker": {
             "line": {
              "color": "#E5ECF6",
              "width": 0.5
             }
            },
            "type": "bar"
           }
          ],
          "barpolar": [
           {
            "marker": {
             "line": {
              "color": "#E5ECF6",
              "width": 0.5
             }
            },
            "type": "barpolar"
           }
          ],
          "carpet": [
           {
            "aaxis": {
             "endlinecolor": "#2a3f5f",
             "gridcolor": "white",
             "linecolor": "white",
             "minorgridcolor": "white",
             "startlinecolor": "#2a3f5f"
            },
            "baxis": {
             "endlinecolor": "#2a3f5f",
             "gridcolor": "white",
             "linecolor": "white",
             "minorgridcolor": "white",
             "startlinecolor": "#2a3f5f"
            },
            "type": "carpet"
           }
          ],
          "choropleth": [
           {
            "colorbar": {
             "outlinewidth": 0,
             "ticks": ""
            },
            "type": "choropleth"
           }
          ],
          "contour": [
           {
            "colorbar": {
             "outlinewidth": 0,
             "ticks": ""
            },
            "colorscale": [
             [
              0,
              "#0d0887"
             ],
             [
              0.1111111111111111,
              "#46039f"
             ],
             [
              0.2222222222222222,
              "#7201a8"
             ],
             [
              0.3333333333333333,
              "#9c179e"
             ],
             [
              0.4444444444444444,
              "#bd3786"
             ],
             [
              0.5555555555555556,
              "#d8576b"
             ],
             [
              0.6666666666666666,
              "#ed7953"
             ],
             [
              0.7777777777777778,
              "#fb9f3a"
             ],
             [
              0.8888888888888888,
              "#fdca26"
             ],
             [
              1,
              "#f0f921"
             ]
            ],
            "type": "contour"
           }
          ],
          "contourcarpet": [
           {
            "colorbar": {
             "outlinewidth": 0,
             "ticks": ""
            },
            "type": "contourcarpet"
           }
          ],
          "heatmap": [
           {
            "colorbar": {
             "outlinewidth": 0,
             "ticks": ""
            },
            "colorscale": [
             [
              0,
              "#0d0887"
             ],
             [
              0.1111111111111111,
              "#46039f"
             ],
             [
              0.2222222222222222,
              "#7201a8"
             ],
             [
              0.3333333333333333,
              "#9c179e"
             ],
             [
              0.4444444444444444,
              "#bd3786"
             ],
             [
              0.5555555555555556,
              "#d8576b"
             ],
             [
              0.6666666666666666,
              "#ed7953"
             ],
             [
              0.7777777777777778,
              "#fb9f3a"
             ],
             [
              0.8888888888888888,
              "#fdca26"
             ],
             [
              1,
              "#f0f921"
             ]
            ],
            "type": "heatmap"
           }
          ],
          "heatmapgl": [
           {
            "colorbar": {
             "outlinewidth": 0,
             "ticks": ""
            },
            "colorscale": [
             [
              0,
              "#0d0887"
             ],
             [
              0.1111111111111111,
              "#46039f"
             ],
             [
              0.2222222222222222,
              "#7201a8"
             ],
             [
              0.3333333333333333,
              "#9c179e"
             ],
             [
              0.4444444444444444,
              "#bd3786"
             ],
             [
              0.5555555555555556,
              "#d8576b"
             ],
             [
              0.6666666666666666,
              "#ed7953"
             ],
             [
              0.7777777777777778,
              "#fb9f3a"
             ],
             [
              0.8888888888888888,
              "#fdca26"
             ],
             [
              1,
              "#f0f921"
             ]
            ],
            "type": "heatmapgl"
           }
          ],
          "histogram": [
           {
            "marker": {
             "colorbar": {
              "outlinewidth": 0,
              "ticks": ""
             }
            },
            "type": "histogram"
           }
          ],
          "histogram2d": [
           {
            "colorbar": {
             "outlinewidth": 0,
             "ticks": ""
            },
            "colorscale": [
             [
              0,
              "#0d0887"
             ],
             [
              0.1111111111111111,
              "#46039f"
             ],
             [
              0.2222222222222222,
              "#7201a8"
             ],
             [
              0.3333333333333333,
              "#9c179e"
             ],
             [
              0.4444444444444444,
              "#bd3786"
             ],
             [
              0.5555555555555556,
              "#d8576b"
             ],
             [
              0.6666666666666666,
              "#ed7953"
             ],
             [
              0.7777777777777778,
              "#fb9f3a"
             ],
             [
              0.8888888888888888,
              "#fdca26"
             ],
             [
              1,
              "#f0f921"
             ]
            ],
            "type": "histogram2d"
           }
          ],
          "histogram2dcontour": [
           {
            "colorbar": {
             "outlinewidth": 0,
             "ticks": ""
            },
            "colorscale": [
             [
              0,
              "#0d0887"
             ],
             [
              0.1111111111111111,
              "#46039f"
             ],
             [
              0.2222222222222222,
              "#7201a8"
             ],
             [
              0.3333333333333333,
              "#9c179e"
             ],
             [
              0.4444444444444444,
              "#bd3786"
             ],
             [
              0.5555555555555556,
              "#d8576b"
             ],
             [
              0.6666666666666666,
              "#ed7953"
             ],
             [
              0.7777777777777778,
              "#fb9f3a"
             ],
             [
              0.8888888888888888,
              "#fdca26"
             ],
             [
              1,
              "#f0f921"
             ]
            ],
            "type": "histogram2dcontour"
           }
          ],
          "mesh3d": [
           {
            "colorbar": {
             "outlinewidth": 0,
             "ticks": ""
            },
            "type": "mesh3d"
           }
          ],
          "parcoords": [
           {
            "line": {
             "colorbar": {
              "outlinewidth": 0,
              "ticks": ""
             }
            },
            "type": "parcoords"
           }
          ],
          "pie": [
           {
            "automargin": true,
            "type": "pie"
           }
          ],
          "scatter": [
           {
            "marker": {
             "colorbar": {
              "outlinewidth": 0,
              "ticks": ""
             }
            },
            "type": "scatter"
           }
          ],
          "scatter3d": [
           {
            "line": {
             "colorbar": {
              "outlinewidth": 0,
              "ticks": ""
             }
            },
            "marker": {
             "colorbar": {
              "outlinewidth": 0,
              "ticks": ""
             }
            },
            "type": "scatter3d"
           }
          ],
          "scattercarpet": [
           {
            "marker": {
             "colorbar": {
              "outlinewidth": 0,
              "ticks": ""
             }
            },
            "type": "scattercarpet"
           }
          ],
          "scattergeo": [
           {
            "marker": {
             "colorbar": {
              "outlinewidth": 0,
              "ticks": ""
             }
            },
            "type": "scattergeo"
           }
          ],
          "scattergl": [
           {
            "marker": {
             "colorbar": {
              "outlinewidth": 0,
              "ticks": ""
             }
            },
            "type": "scattergl"
           }
          ],
          "scattermapbox": [
           {
            "marker": {
             "colorbar": {
              "outlinewidth": 0,
              "ticks": ""
             }
            },
            "type": "scattermapbox"
           }
          ],
          "scatterpolar": [
           {
            "marker": {
             "colorbar": {
              "outlinewidth": 0,
              "ticks": ""
             }
            },
            "type": "scatterpolar"
           }
          ],
          "scatterpolargl": [
           {
            "marker": {
             "colorbar": {
              "outlinewidth": 0,
              "ticks": ""
             }
            },
            "type": "scatterpolargl"
           }
          ],
          "scatterternary": [
           {
            "marker": {
             "colorbar": {
              "outlinewidth": 0,
              "ticks": ""
             }
            },
            "type": "scatterternary"
           }
          ],
          "surface": [
           {
            "colorbar": {
             "outlinewidth": 0,
             "ticks": ""
            },
            "colorscale": [
             [
              0,
              "#0d0887"
             ],
             [
              0.1111111111111111,
              "#46039f"
             ],
             [
              0.2222222222222222,
              "#7201a8"
             ],
             [
              0.3333333333333333,
              "#9c179e"
             ],
             [
              0.4444444444444444,
              "#bd3786"
             ],
             [
              0.5555555555555556,
              "#d8576b"
             ],
             [
              0.6666666666666666,
              "#ed7953"
             ],
             [
              0.7777777777777778,
              "#fb9f3a"
             ],
             [
              0.8888888888888888,
              "#fdca26"
             ],
             [
              1,
              "#f0f921"
             ]
            ],
            "type": "surface"
           }
          ],
          "table": [
           {
            "cells": {
             "fill": {
              "color": "#EBF0F8"
             },
             "line": {
              "color": "white"
             }
            },
            "header": {
             "fill": {
              "color": "#C8D4E3"
             },
             "line": {
              "color": "white"
             }
            },
            "type": "table"
           }
          ]
         },
         "layout": {
          "annotationdefaults": {
           "arrowcolor": "#2a3f5f",
           "arrowhead": 0,
           "arrowwidth": 1
          },
          "coloraxis": {
           "colorbar": {
            "outlinewidth": 0,
            "ticks": ""
           }
          },
          "colorscale": {
           "diverging": [
            [
             0,
             "#8e0152"
            ],
            [
             0.1,
             "#c51b7d"
            ],
            [
             0.2,
             "#de77ae"
            ],
            [
             0.3,
             "#f1b6da"
            ],
            [
             0.4,
             "#fde0ef"
            ],
            [
             0.5,
             "#f7f7f7"
            ],
            [
             0.6,
             "#e6f5d0"
            ],
            [
             0.7,
             "#b8e186"
            ],
            [
             0.8,
             "#7fbc41"
            ],
            [
             0.9,
             "#4d9221"
            ],
            [
             1,
             "#276419"
            ]
           ],
           "sequential": [
            [
             0,
             "#0d0887"
            ],
            [
             0.1111111111111111,
             "#46039f"
            ],
            [
             0.2222222222222222,
             "#7201a8"
            ],
            [
             0.3333333333333333,
             "#9c179e"
            ],
            [
             0.4444444444444444,
             "#bd3786"
            ],
            [
             0.5555555555555556,
             "#d8576b"
            ],
            [
             0.6666666666666666,
             "#ed7953"
            ],
            [
             0.7777777777777778,
             "#fb9f3a"
            ],
            [
             0.8888888888888888,
             "#fdca26"
            ],
            [
             1,
             "#f0f921"
            ]
           ],
           "sequentialminus": [
            [
             0,
             "#0d0887"
            ],
            [
             0.1111111111111111,
             "#46039f"
            ],
            [
             0.2222222222222222,
             "#7201a8"
            ],
            [
             0.3333333333333333,
             "#9c179e"
            ],
            [
             0.4444444444444444,
             "#bd3786"
            ],
            [
             0.5555555555555556,
             "#d8576b"
            ],
            [
             0.6666666666666666,
             "#ed7953"
            ],
            [
             0.7777777777777778,
             "#fb9f3a"
            ],
            [
             0.8888888888888888,
             "#fdca26"
            ],
            [
             1,
             "#f0f921"
            ]
           ]
          },
          "colorway": [
           "#636efa",
           "#EF553B",
           "#00cc96",
           "#ab63fa",
           "#FFA15A",
           "#19d3f3",
           "#FF6692",
           "#B6E880",
           "#FF97FF",
           "#FECB52"
          ],
          "font": {
           "color": "#2a3f5f"
          },
          "geo": {
           "bgcolor": "white",
           "lakecolor": "white",
           "landcolor": "#E5ECF6",
           "showlakes": true,
           "showland": true,
           "subunitcolor": "white"
          },
          "hoverlabel": {
           "align": "left"
          },
          "hovermode": "closest",
          "mapbox": {
           "style": "light"
          },
          "paper_bgcolor": "white",
          "plot_bgcolor": "#E5ECF6",
          "polar": {
           "angularaxis": {
            "gridcolor": "white",
            "linecolor": "white",
            "ticks": ""
           },
           "bgcolor": "#E5ECF6",
           "radialaxis": {
            "gridcolor": "white",
            "linecolor": "white",
            "ticks": ""
           }
          },
          "scene": {
           "xaxis": {
            "backgroundcolor": "#E5ECF6",
            "gridcolor": "white",
            "gridwidth": 2,
            "linecolor": "white",
            "showbackground": true,
            "ticks": "",
            "zerolinecolor": "white"
           },
           "yaxis": {
            "backgroundcolor": "#E5ECF6",
            "gridcolor": "white",
            "gridwidth": 2,
            "linecolor": "white",
            "showbackground": true,
            "ticks": "",
            "zerolinecolor": "white"
           },
           "zaxis": {
            "backgroundcolor": "#E5ECF6",
            "gridcolor": "white",
            "gridwidth": 2,
            "linecolor": "white",
            "showbackground": true,
            "ticks": "",
            "zerolinecolor": "white"
           }
          },
          "shapedefaults": {
           "line": {
            "color": "#2a3f5f"
           }
          },
          "ternary": {
           "aaxis": {
            "gridcolor": "white",
            "linecolor": "white",
            "ticks": ""
           },
           "baxis": {
            "gridcolor": "white",
            "linecolor": "white",
            "ticks": ""
           },
           "bgcolor": "#E5ECF6",
           "caxis": {
            "gridcolor": "white",
            "linecolor": "white",
            "ticks": ""
           }
          },
          "title": {
           "x": 0.05
          },
          "xaxis": {
           "automargin": true,
           "gridcolor": "white",
           "linecolor": "white",
           "ticks": "",
           "title": {
            "standoff": 15
           },
           "zerolinecolor": "white",
           "zerolinewidth": 2
          },
          "yaxis": {
           "automargin": true,
           "gridcolor": "white",
           "linecolor": "white",
           "ticks": "",
           "title": {
            "standoff": 15
           },
           "zerolinecolor": "white",
           "zerolinewidth": 2
          }
         }
        },
        "width": 800
       }
      },
      "text/html": [
       "<div>                            <div id=\"c5f4a16d-3045-4792-af93-42d35b96eb18\" class=\"plotly-graph-div\" style=\"height:525px; width:800px;\"></div>            <script type=\"text/javascript\">                require([\"plotly\"], function(Plotly) {                    window.PLOTLYENV=window.PLOTLYENV || {};                                    if (document.getElementById(\"c5f4a16d-3045-4792-af93-42d35b96eb18\")) {                    Plotly.newPlot(                        \"c5f4a16d-3045-4792-af93-42d35b96eb18\",                        [{\"customdata\": [[\"SHA-256\"], [\"Lyra2RE\"], [\"Scrypt\"], [\"Equihash\"], [\"Equihash\"], [\"Scrypt\"], [\"Scrypt\"], [\"Scrypt\"], [\"X11\"], [\"Multiple\"], [\"X13\"], [\"X11\"], [\"CryptoNight-V7\"], [\"CryptoNight\"], [\"CryptoNight\"], [\"Keccak\"], [\"CryptoNight\"], [\"X16R\"], [\"X11\"], [\"Scrypt\"], [\"Leased POS\"], [\"Scrypt\"], [\"Scrypt\"], [\"Equihash+Scrypt\"], [\"Scrypt\"], [\"NIST5\"], [\"SHA-256D\"], [\"Scrypt\"], [\"VeChainThor Authority\"], [\"Scrypt\"], [\"X11\"], [\"XEVAN\"], [\"Scrypt\"], [\"SHA-256\"], [\"Blake\"], [\"NeoScrypt\"], [\"SHA-512\"], [\"SHA-256D\"], [\"CryptoNight\"], [\"Scrypt\"], [\"X13\"], [\"Dagger\"], [\"POS 3.0\"], [\"X11\"], [\"PHI1612\"], [\"SHA-256\"], [\"Scrypt\"], [\"Lyra2Z\"], [\"DPoS\"], [\"SHA-256\"], [\"X11\"], [\"X11\"], [\"PoS\"], [\"C11\"], [\"SHA-256\"], [\"Scrypt\"], [\"Scrypt\"], [\"QuBit\"], [\"SkunkHash v2 Raptor\"], [\"X11GOST\"], [\"Scrypt\"], [\"Semux BFT consensus\"], [\"Blake2b\"], [\"Scrypt\"], [\"Cryptonight-GPU\"], [\"Lyra2REv2\"], [\"Scrypt\"], [\"X13\"], [\"X11\"], [\"X11\"], [\"Scrypt\"], [\"Ethash\"], [\"Scrypt\"], [\"PoS\"], [\"CryptoNight Heavy\"], [\"POS 3.0\"], [\"Scrypt\"], [\"CryptoNight-V7\"], [\"Scrypt\"], [\"NIST5\"], [\"Scrypt\"], [\"X11\"], [\"X11\"], [\"Scrypt\"], [\"Scrypt\"], [\"X16R\"], [\"Scrypt\"], [\"Scrypt\"], [\"Quark\"], [\"Proof-of-Authority\"], [\"X11\"], [\"HMQ1725\"], [\"CryptoNight\"], [\"Scrypt\"], [\"X11\"], [\"Dagger\"], [\"X11\"], [\"X11\"], [\"PoS\"], [\"BLAKE256\"], [\"X11\"], [\"Scrypt\"], [\"Scrypt\"], [\"Scrypt\"], [\"Scrypt\"], [\"NeoScrypt\"], [\"X13\"], [\"X11\"], [\"X13\"], [\"Scrypt\"], [\"Scrypt\"], [\"Scrypt\"], [\"SHA-256\"], [\"SHA-512\"], [\"Scrypt\"], [\"PoS\"], [\"Scrypt\"], [\"PoS\"], [\"SHA3\"], [\"SHA-256\"], [\"Scrypt\"], [\"Scrypt\"], [\"SHA-256\"], [\"SHA-256\"], [\"PoS\"], [\"CryptoNight\"], [\"X13\"], [\"Blake2b\"], [\"NIST5\"], [\"DPoS\"], [\"X11\"], [\"Ethash\"], [\"X11\"], [\"Scrypt\"], [\"Scrypt\"], [\"Scrypt\"], [\"Scrypt\"], [\"Scrypt\"], [\"Jump Consistent Hash\"], [\"Scrypt\"], [\"HybridScryptHash256\"], [\"Scrypt\"], [\"Ethash\"], [\"PoS\"], [\"SHA-256\"], [\"X11\"], [\"SHA-256\"], [\"X11\"], [\"Scrypt\"], [\"CryptoNight-V7\"], [\"QuBit\"], [\"Scrypt\"], [\"Scrypt\"], [\"Scrypt\"], [\"Blake\"], [\"Scrypt\"], [\"SHA-256 + Hive\"], [\"X11\"], [\"Scrypt\"], [\"CryptoNight\"], [\"X13\"], [\"X15\"], [\"Equihash\"], [\"Scrypt\"], [\"Tribus\"], [\"NIST5\"], [\"X11\"], [\"Multiple\"], [\"C11\"], [\"Scrypt\"], [\"X11\"], [\"X11\"], [\"NeoScrypt\"], [\"Lyra2RE\"], [\"X11\"], [\"Scrypt\"], [\"SHA-256\"], [\"Scrypt\"], [\"Scrypt\"], [\"SHA-256\"], [\"X15\"], [\"X11\"], [\"X11\"], [\"1GB AES Pattern Search\"], [\"Scrypt\"], [\"Scrypt\"], [\"Groestl\"], [\"Scrypt\"], [\"Scrypt\"], [\"SHA-256\"], [\"Scrypt\"], [\"PHI2\"], [\"Scrypt\"], [\"Scrypt\"], [\"Scrypt\"], [\"Scrypt\"], [\"Quark\"], [\"Scrypt\"], [\"Scrypt\"], [\"Scrypt\"], [\"Scrypt\"], [\"Scrypt\"], [\"Stanford Folding\"], [\"Groestl\"], [\"Ethash\"], [\"SHA-256\"], [\"Scrypt\"], [\"Ethash\"], [\"536\"], [\"X11\"], [\"Scrypt\"], [\"DPoS\"], [\"X11\"], [\"Scrypt\"], [\"Blake\"], [\"X11\"], [\"Ethash\"], [\"Ethash\"], [\"Scrypt\"], [\"Scrypt\"], [\"NIST5\"], [\"Scrypt\"], [\"Scrypt\"], [\"Scrypt\"], [\"SHA-256\"], [\"QUAIT\"], [\"X11\"], [\"Groestl\"], [\"X15\"], [\"SHA-256\"], [\"X11\"], [\"Multiple\"], [\"Scrypt\"], [\"Scrypt\"], [\"Scrypt\"], [\"CryptoNight\"], [\"BLAKE256\"], [\"SHA-256\"], [\"X11\"], [\"X11\"], [\"X11\"], [\"Quark\"], [\"X11\"], [\"NIST5\"], [\"Scrypt\"], [\"Quark\"], [\"Scrypt\"], [\"X11\"], [\"Equihash\"], [\"SHA-256\"], [\"Skein\"], [\"Scrypt\"], [\"X11\"], [\"Quark\"], [\"Ethash\"], [\"SHA-256\"], [\"X11\"], [\"Cloverhash\"], [\"PoS\"], [\"Scrypt\"], [\"Scrypt\"], [\"Scrypt\"], [\"Scrypt\"], [\"SHA-256\"], [\"NIST5\"], [\"Shabal256\"], [\"Time Travel\"], [\"SHA-512\"], [\"Skein\"], [\"Equihash\"], [\"Scrypt\"], [\"SHA-256\"], [\"X11\"], [\"X11\"], [\"HMQ1725\"], [\"Scrypt\"], [\"X11\"], [\"Scrypt\"], [\"Scrypt\"], [\"SHA-256\"], [\"Scrypt\"], [\"XEVAN\"], [\"CryptoNight\"], [\"XEVAN\"], [\"CryptoNight\"], [\"CryptoNight\"], [\"SHA-256\"], [\"Scrypt\"], [\"Scrypt\"], [\"Blake\"], [\"Proof-of-BibleHash\"], [\"X11\"], [\"X11\"], [\"X11\"], [\"PoS\"], [\"Quark\"], [\"Scrypt\"], [\"Scrypt\"], [\"X11\"], [\"Scrypt\"], [\"X11\"], [\"Tribus\"], [\"Lyra2Z\"], [\"ScryptOG\"], [\"IMesh\"], [\"Ouroboros\"], [\"SHA-256\"], [\"Lyra2Z\"], [\"Scrypt\"], [\"Scrypt\"], [\"X11\"], [\"Scrypt\"], [\"ECC 256K1\"], [\"Scrypt\"], [\"Scrypt\"], [\"X13\"]], \"hovertemplate\": \"<b>%{hovertext}</b><br><br>class=%{marker.color}<br>PC 1=%{x}<br>PC 2=%{y}<br>PC 3=%{z}<br>Algorithm=%{customdata[0]}<extra></extra>\", \"hovertext\": [\"ZayedCoin\", \"Zoin\", \"BitZeny\", \"Zero\", \"ZCash\", \"ZCC Coin\", \"Zilbercoin\", \"MYCE\", \"VirtacoinPlus\", \"Verge\", \"Bitcoin Rhodium\", \"Enigma\", \"Monero\", \"Monero Classic\", \"LeviarCoin\", \"XDNA\", \"DigitalNote \", \"Xchange\", \"X11 Coin\", \"BitcoinPlus\", \"Waves\", \"Vtorrent\", \"VeriCoin\", \"Vollar\", \"Velox\", \"VIP Tokens\", \"TheVig\", \"ViaCoin\", \"Vechain\", \"UltraCoin\", \"UroCoin\", \"Urals Coin\", \"GameUnits\", \"UnbreakableCoin\", \"Universal Molecule\", \"TrezarCoin\", \"TWIST\", \"Titan Coin\", \"TurtleCoin\", \"Trollcoin\", \"Triangles Coin\", \"Travelflex\", \"TokenPay\", \"TorCoin\", \"TittieCoin\", \"TigerCoin\", \"TerraNovaCoin\", \"TecraCoin\", \"Lamden Tau\", \"SysCoin\", \"SyncCoin\", \"SuperCoin\", \"Stakecoin\", \"Stipend\", \"SoonCoin\", \"SocialCoin\", \"SmartCoin\", \"SLICE\", \"Signatum\", \"SibCoin\", \"ShardCoin\", \"Semux\", \"Siacoin\", \"StableCoin\", \"Ryo\", \"Rupee\", \"RonPaulCoin\", \"RoyalCoin\", \"Reliance\", \"Regalcoin\", \"Reddcoin\", \"Reality Clash\", \"Russiacoin\", \"Radium\", \"Qwertycoin\", \"QTUM\", \"Quatloo\", \"Quantum Resistant Ledger\", \"PhoenixCoin\", \"PWR Coin\", \"PutinCoin\", \"Pushi\", \"Pura\", \"Poseidon\", \"Printerium\", \"Proton\", \"ProsperCoin\", \"PotCoin\", \"Poseidon Quark\", \"Poa Network\", \"PhantomX\", \"PlusOneCoin\", \"PlatinCoin\", \"PLNCoin\", \"PizzaCoin\", \"Pirl\", \"PinkCoin\", \"Piggy Coin\", \"Phreak\", \"Photon\", \"Pioneer Coin\", \"Parlay\", \"Pakcoin\", \"Oduwa\", \"OsmiumCoin\", \"Orbitcoin\", \"OpalCoin\", \"Onix\", \"DeepOnion\", \"Omni\", \"OmiseGO Classic\", \"OmniCron\", \"OKCash\", \"Obsidian\", \"OrangeCoin\", \"Zealium\", \"NyanCoin\", \"Nxt\", \"Nexus\", \"Neutron\", \"Nasdacoin\", \"Dnotes\", \"IncaKoin\", \"NeosCoin\", \"Nebuchadnezzar\", \"Newton Coin\", \"NavCoin\", \"Nano\", \"NamoCoin\", \"Muse\", \"MustangCoin\", \"Media Protocol Token\", \"Monkey Project\", \"MoneyCoin\", \"MonaCoin\", \"MMOCoin\", \"MintCoin\", \"XiaoMiCoin\", \"MassGrid\", \"MedicCoin\", \"MediterraneanCoin\", \"MegaCoin\", \"1717 Masonic Commemorative Token\", \"MacronCoin\", \"Theresa May Coin\", \"MarsCoin \", \"Manna\", \"Magnet\", \"Lynx\", \"Lethean\", \"LiteCreed\", \"LottoCoin\", \"LomoCoin\", \"LuckyCoin\", \"Lithium\", \"LiteDoge\", \"LitecoinCash\", \"KushCoin\", \"Kronecoin\", \"Karbo\", \"Kore\", \"KoboCoin\", \"Komodo\", \"Klingon Empire Darsek\", \"KEYCO\", \"Jumpcoin\", \"Junson Ming Chan Coin\", \"JoinCoin\", \"Interzone\", \"IrishCoin\", \"IOCoin\", \"InsaneCoin\", \"Innova\", \"Infinex\", \"Impact\", \"Impeach\", \"ILCoin\", \"Ignition\", \"iBankCoin\", \"I0coin\", \"HTML5 Coin\", \"Hitcoin\", \"HappyCoin\", \"HOdlcoin\", \"HexCoin\", \"HoboNickels\", \"Groestlcoin\", \"GPU Coin\", \"GambleCoin\", \"GlobalToken\", \"GlobalCoin\", \"Gexan\", \"GermanCoin\", \"gCn Coin\", \"Gapcoin\", \"Gamecredits\", \"Galilel\", \"GAKHcoin\", \"Frankywillcoin\", \"Franko\", \"FrazCoin\", \"Flo\", \"Folding Coin\", \"FairCoin\", \"Expanse\", \"Eurocoin\", \"Ethereum Dark\", \"Ethereum\", \"Espers\", \"EuropeCoin\", \"EquiTrader\", \"EOS\", \"Eternity\", \"EnergyCoin\", \"Electron\", \"Elements\", \"Ellaism\", \"Elementrem\", \"E-Gulden\", \"ECC\", \"Electra\", \"eBoost\", \"EarthCoin\", \"DivotyCoin\", \"DevCoin\", \"Droidz\", \"DigitalPrice\", \"Diamond\", \"Dekado\", \"CarpeDiemCoin\", \"DigiMoney\", \"DigiByte\", \"Draftcoin\", \"iDealCash\", \"Degas Coin\", \"Dinastycoin\", \"Decred\", \"DubaiCoin\", \"Dash Platinum\", \"Dash\", \"DAS\", \"DACH Coin\", \"DACash\", \"Coinonat\", \"Crypto Wisdom Coin\", \"Crypto Sports\", \"CasinoCoin\", \"CryptCoin\", \"CrypticCoin\", \"Crown Coin\", \"Cream\", \"Credit\", \"CapriCoin\", \"Cosmo\", \"Callisto Network\", \"Clockcoin\", \"Crypto Improvement Fund\", \"ChanCoin\", \"CoffeeCoin\", \"Canada eCoin\", \"CannaCoin\", \"CryptoBullion\", \"Catcoin\", \"BitTokens\", \"Bulwark\", \"BurstCoin\", \"Bitcore\", \"Bitshares\", \"Bitcoin Planet\", \"Bithereum\", \"Bata\", \"Bitcoin SV\", \"BitSend\", \"BowsCoin\", \"Brazio\", \"BoxyCoin\", \"BolivarCoin\", \"BlueCoin\", \"Block-Logic\", \"BLAST\", \"BitstarCoin\", \"BitMoney\", \"Bikercoins\", \"Beetle Coin\", \"Beldex\", \"ByteCoin\", \"Bitcoin Cash\", \"BitcoinFast\", \"BitConnect Coin\", \"BlakeBitcoin\", \"BiblePay\", \"Azart\", \"Award\", \"ArtexCoin\", \"Atmos\", \"Allsafe\", \"ArgusCoin\", \"Argentum\", \"ARENON\", \"AquariusCoin\", \"ArcticCoin\", \"Averopay\", \"Alpenschillling\", \"Aiden\", \"Aidos Kuneen\", \"Cardano\", \"Anarchists Prime\", \"Actinium\", \"Accolade\", \"AdCoin\", \"AC3\", \"Abjcoin\", \"Acute Angle Cloud\", \"8BIT Coin\", \"1Credit\", \"EliteCoin\"], \"legendgroup\": \"2\", \"marker\": {\"color\": [2, 2, 2, 2, 2, 2, 2, 2, 2, 2, 2, 2, 2, 2, 2, 2, 2, 2, 2, 2, 2, 2, 2, 2, 2, 2, 2, 2, 2, 2, 2, 2, 2, 2, 2, 2, 2, 2, 2, 2, 2, 2, 2, 2, 2, 2, 2, 2, 2, 2, 2, 2, 2, 2, 2, 2, 2, 2, 2, 2, 2, 2, 2, 2, 2, 2, 2, 2, 2, 2, 2, 2, 2, 2, 2, 2, 2, 2, 2, 2, 2, 2, 2, 2, 2, 2, 2, 2, 2, 2, 2, 2, 2, 2, 2, 2, 2, 2, 2, 2, 2, 2, 2, 2, 2, 2, 2, 2, 2, 2, 2, 2, 2, 2, 2, 2, 2, 2, 2, 2, 2, 2, 2, 2, 2, 2, 2, 2, 2, 2, 2, 2, 2, 2, 2, 2, 2, 2, 2, 2, 2, 2, 2, 2, 2, 2, 2, 2, 2, 2, 2, 2, 2, 2, 2, 2, 2, 2, 2, 2, 2, 2, 2, 2, 2, 2, 2, 2, 2, 2, 2, 2, 2, 2, 2, 2, 2, 2, 2, 2, 2, 2, 2, 2, 2, 2, 2, 2, 2, 2, 2, 2, 2, 2, 2, 2, 2, 2, 2, 2, 2, 2, 2, 2, 2, 2, 2, 2, 2, 2, 2, 2, 2, 2, 2, 2, 2, 2, 2, 2, 2, 2, 2, 2, 2, 2, 2, 2, 2, 2, 2, 2, 2, 2, 2, 2, 2, 2, 2, 2, 2, 2, 2, 2, 2, 2, 2, 2, 2, 2, 2, 2, 2, 2, 2, 2, 2, 2, 2, 2, 2, 2, 2, 2, 2, 2, 2, 2, 2, 2, 2, 2, 2, 2, 2, 2, 2, 2, 2, 2, 2, 2, 2, 2, 2, 2, 2, 2, 2, 2, 2, 2, 2, 2, 2, 2, 2, 2, 2, 2, 2, 2, 2, 2, 2, 2, 2, 2, 2, 2, 2, 2, 2, 2, 2, 2], \"coloraxis\": \"coloraxis\", \"symbol\": \"circle\"}, \"mode\": \"markers\", \"name\": \"2\", \"scene\": \"scene\", \"showlegend\": true, \"type\": \"scatter3d\", \"x\": [-0.14320229097573903, -0.14142685791390236, -0.14281258502316513, -0.1793660612113162, -0.17933080769436097, -0.3095159758752005, -0.25880791717947826, -0.3160988435070519, -0.4040120961338158, 0.21447317118699813, -0.10893545987240315, -0.4048670368092088, -0.1350365419088318, 0.30282956039261993, 0.303067520373298, -0.33369456023010086, 0.4637703514921915, -0.19717373258412424, -0.4047853470397102, -0.2592401707808197, -0.27354190214058816, -0.3184498596294282, -0.24975767318592998, -0.10168344951287762, -0.2580130452960516, -0.3617135697782888, -0.36399175187603894, -0.1451473384625093, 4.683384401903204, -0.3173709608759679, -0.2317650981779377, -0.23533414850499634, -0.3186046757053994, -0.14273649694968904, -0.14082283296661113, -0.3449314122621816, -0.279255873041135, -0.3170185781053025, 8.32490785478216, -0.304617849799948, -0.2820967764436158, -0.14428298630749242, -0.32432028579288075, -0.4048224559255163, -0.2860310290402939, -0.14245428217867695, -0.3186142471756562, -0.07848281716216673, 3.9319556062760044, -0.12966688385394493, -0.4049141063219181, -0.3447742301940592, -0.3131515047692215, -0.37480062597067765, -0.14304046994867334, -0.14499394654060535, -0.14490910025815637, -0.17474589461186246, -0.3196293212384603, -0.1571792096636487, -0.2523201399515332, 4.152650366422397, 0.39376728094147945, -0.1434660863349381, -0.12851813848143526, -0.2953559273132964, -0.1454423386723732, -0.22255410196006062, -0.34487117523940064, -0.40462342975274224, 0.05397969537624709, -0.13713048044174309, -0.317579884908819, -0.31354021821074063, 3.235097196496151, -0.3227578094294737, -0.14478243253392364, -0.1336060902898909, -0.3170840219256283, -0.23541077929672216, -0.2937129470453839, -0.40470289678020377, -0.22698134309327508, -0.14540462765069043, -0.3184471005713623, -0.3112843156907538, -0.14538303769012054, -0.31282752661656066, -0.33070247748000997, -0.3881411165353601, -0.40397243523591364, -0.13408548031850023, 0.3068998854114416, -0.3182439143616596, -0.23157925938284799, -0.14480175052650315, -0.39569284735637134, -0.391283466560033, -0.3132897021548027, 1.1514093815041315, -0.23150367974590222, -0.25898064427601036, -0.1433875622958013, -0.3184021728802897, -0.1455793515576238, -0.35012358339328864, -0.2819067468554299, -0.22214180300547662, -0.2816819495862106, -0.14559829310828057, -0.31759520408453773, -0.1454569686059158, -0.3147660260737326, -0.282278800576674, -0.3172300107919479, -0.312926367433101, -0.13887923201342076, -0.26547319624209437, -0.3359564826905136, -0.3154899026087823, -0.31786597736592714, -0.25335526994838886, -0.08700171213305108, -0.2567815676249857, -0.3132537036037064, 2.1793263183764857, -0.2812592032533147, -0.022857011205346084, -0.3474925281144034, 1.1083569805624285, -0.4048837269569431, 0.06298815004675305, -0.34520862041821976, -0.31382531312712864, -0.1439713246204954, -0.25596885308518064, 0.011486115107632353, -0.3106650642889869, -0.14052361036474192, -0.25217727928360395, -0.12663396455847212, -0.14481702241749517, -0.25122776292400234, -0.30561245607646426, -0.3145818541074643, -0.23112833261267893, -0.039545670417178866, -0.4033705267420524, 2.387087302358155, -0.12230211888549282, -0.3478150877417177, 0.17386317286309627, -0.31139119650513125, -0.14521800521484585, -0.1412283647444116, 0.13316060943377953, -0.3365098178287966, -0.40477345590382274, -0.14477161910965006, 0.3026636617240552, -0.28198557247147404, -0.23249888766428783, -0.3666486889729771, -0.3147662462967167, -0.21183861047248018, -0.18987994292076574, -0.12660849518155184, -0.1096212001547183, -0.20163160255164295, -0.14456218466504975, -0.4045280820606213, -0.4044605108121811, -0.1766468861445957, -0.14155904833077, -0.40269940505451074, -0.31857928237140637, -0.10823213082824155, -0.3186925760724497, -0.3183610840065588, -0.14293195606754983, 0.9427627552732516, -0.0700475393800725, -0.40390582355032, -0.13642856658530128, -0.14543024527671827, -0.3167277679570458, -0.2069783404045403, -0.2571104893522359, -0.2590297645367365, -0.14104315658200214, -0.14426140839542825, -0.43572405876974, 0.11104079173902486, 3.3968620531008513, -0.3167178071729004, -0.1441056193306988, -0.3946355364044712, -0.3186778221325665, -0.3167382413083875, -0.14551358361957636, -0.14534034478595464, -0.1424991738761742, -0.13371122718908393, -0.3811390445044831, -0.13736408602772293, -0.31618208290008554, -0.3186600839860541, -0.13625261387523438, 0.6273875302909232, -0.40196064248770513, -0.14490784459162068, 3.937594780382519, -0.40439615282278085, -0.31717969485655056, -0.08988055207713638, -0.1841915801310479, -0.1354024455471228, -0.13709602378857044, -0.14519051711117892, 0.24227555798548225, 0.2180403354793621, -0.14360468796522807, 0.11299452737046344, -0.31773641786574996, 0.24962392436846748, -0.4292846419899135, -0.2305990054902019, -0.3817411687644575, -0.17485357472085955, 0.29193684711210066, -0.4046856842557268, 0.18961934195440677, -0.25888398283955205, -0.26326171578433416, -0.3177013679164039, 0.3401902412647109, -0.06521517547821513, -0.3163445326259773, -0.34526510689890455, -0.40463767363562847, -0.23160824599364316, -0.3350513932882943, -0.23107352221912172, -0.18981889980289748, -0.1452101784179163, -0.3353895991388051, 0.8346538185475527, -0.23158467331513707, -0.06989732012905471, -0.14275237924358056, -0.42583076349075455, 0.6227195885135451, -0.4008258103554133, -0.22167304287162828, -0.08671942566478226, -0.31241796781938636, -0.22542057409580749, -0.15000021419049886, -0.3114702370547338, -0.14360655177820578, -0.14545431682273993, -0.31872378181984923, -0.14536458117000145, -0.31632503228176123, -0.30356854310118536, 0.3133067861781598, -0.15372363934811864, -0.22195857372851507, -0.4263460375394785, -0.17903227484607626, -0.1455096865280904, -0.1429701617606804, -0.40358285486228196, -0.23142446961950242, -0.13186796074860832, -0.1448027279853278, -0.23142317774427543, -0.31066543247307704, -0.14428042826992266, -0.1422181360115248, -0.3180841178333236, 0.2744573352167895, 0.3027933754480242, -0.40399540674851137, 0.32524062232786294, 3.9979964445701017, -0.14297012266451006, -0.3182445095886019, -0.31839774757890044, -0.14119905611714492, -0.4816489417696984, -0.23153300557457923, -0.4016324223242001, -0.21763055265032327, -0.31143164262153006, -0.33526849698039884, -0.318519622019053, -0.14498527838621758, -0.34476986794215664, -0.3184046306863648, -0.23100853309896524, -0.384822847127459, -0.07799367975793034, -0.1400281396949543, -0.14726736809359475, 0.7025516604435301, -0.1427707426108802, -0.07975484206057314, -0.31830613301943855, -0.14446090388676708, -0.2267185591089981, -0.3183983138450677, -0.43655384338226627, -0.31872567771023325, 0.530294822730908, 2.3982261232320132], \"y\": [-1.3396483140231341, -2.160867901137967, -1.0228623099007774, -2.103802545935739, -2.103804353430678, 1.0893895881021374, 0.7947174960977289, 1.089729339817017, 1.1754646193290454, -1.8173705132674116, -0.41598021282562014, 1.175506996814925, -2.1906016462721816, -2.3663933634672056, -2.3664118116967487, 0.8256560450508975, -2.3686303451366024, -1.3809921003428611, 1.1755091787244156, 0.7947432578352654, 7.862379530169881, 1.0898231780739893, 0.5024795437532292, -1.9405241615843212, 0.7946921351886046, 1.499986030710694, 1.8777555322255153, -1.0227701443557249, 3.362393798506868, 1.089798675244502, -0.9370867632820207, -0.45320313262241496, 1.0898234398502364, -1.3396848459964956, -2.1990935994590486, 0.5114315628298051, 0.9119467906423956, 1.8756593585958352, -2.842907654083353, 1.0896148415568039, 1.6966167680070157, -2.171226465397892, 1.2162446534663012, 1.1755047534601444, 1.0265063339300344, -1.3396520886067906, 1.0898211559687714, -1.8715901783015403, 1.8200161090071545, -1.3398646304074364, 1.1755091619070412, 0.8804444206507513, 1.4422464020807972, 0.9063883829726238, -1.339651455198793, -1.0228031414307488, -1.0227832080754569, -1.6209154982869836, 1.3759032564048044, -2.036921871368826, 0.7943057675477053, 1.9210202320208947, -2.217434694415948, -1.0228826705121226, -2.0258869627200857, 0.35553855654127065, -1.0227778825083398, 1.4015316904191615, 0.8803963593789235, 1.1754986044515252, 1.1014411935296171, -2.043699972189243, 1.0897602015050354, 1.4422725032873414, -2.295135283174428, 1.2162388493982235, -1.0228147130864913, -2.1906333576800554, 1.0898090680992079, 1.503986526363656, 1.0891554852215277, 1.1754975814917954, -0.9371919824673373, -1.0227767075765652, 1.0898232640357275, 0.43654472214806517, -1.0227760349156414, 1.089707762529486, 1.1568509812367405, 3.894264121009334, 1.1755021782643809, -2.0809091822223387, -2.366689060099037, 1.089816125881824, -0.937099134879546, -2.1712835329884945, 1.1754332294058003, 1.1752073763853084, 1.4422650526471015, -1.259321093740168, -0.9370953271758671, 0.7947302762058319, -1.0228308243783313, 1.0898239373463714, -1.0227688673756286, 0.5115576418065669, 1.6966227757808685, -0.93758604962724, 1.6966160507344605, -1.0227679335161863, 1.0898134826320909, -1.0227655317136666, 0.7729277969941868, 0.9119315098718317, 1.089730420206475, 1.4422400495200511, -1.0228029640651497, 2.020786360129139, 2.93019304888299, 0.7729321229660863, 1.0897948758573628, 0.7945641028631257, 0.7799623158130222, 0.47785692347244807, 1.4422734388753857, -2.4415850765654787, 1.6966429507726775, -2.2306623234679384, 1.4996227279803498, 1.5432075440610526, 1.1755079297436173, -2.0447118989536315, 0.8804156309399913, 1.0895091089941982, -1.0227931615549362, 0.7946570251827539, 0.803178784030207, 1.0897896659187987, -2.2300394800739425, 0.7946008045646562, -2.0458079473014137, -1.0227736558021912, -0.22618607668846377, 1.4422354543171847, 0.7729371674163328, -0.9370908974396596, -1.3437087866664048, 1.1754526437247141, 0.6922155175401318, -2.1909309785592876, 0.4916982898479626, -1.0261863110620943, 1.0893311633710079, -1.0227701666673503, -2.199048196118161, 1.0784818921777133, 1.9657183703517551, 1.1755067494105806, -1.0228027527404744, -2.366392429931245, 1.6966116022942777, 1.7681448227039238, -1.7556989055612435, 1.0895892422052986, -1.449388951068307, -0.6126007513858145, 0.8872416338460439, -1.815443464317792, -1.2062095777737691, -1.0227816982598876, 1.175505207447667, 1.1755015009898988, -1.6010580267190937, -2.1608758554232743, 1.1754982531317784, 1.0898177412555206, -1.3403678668311312, 1.089826512930113, 1.0898082666680615, -1.3396480743196435, 1.7396339059567598, 1.1666546819157377, 1.175467930377899, -2.29725628208304, -1.02277830865915, 1.0898041853844584, -1.2687212050214762, 0.7946497500476747, 0.7947392069024521, -1.339696016886469, -1.0227766860074825, 1.7107410718556324, 1.0668957470704834, -1.0576909277742323, 1.0897100552671464, -1.0227820027245047, 1.4522559153926786, 1.0898281961271141, 1.0898183883758665, -1.0227730088888207, -1.0227739783023302, -1.022787163348261, -2.2528492451796085, 0.8439194791331203, -2.0437017427204025, 0.7729454275878191, 1.0898281064317907, -2.043654831575651, 1.9945059360770123, 1.1753222187334296, -1.022798279426855, 1.8205550367182042, 1.1754817121879675, 1.0898772808707264, -2.2025153214430286, -0.9369121907946202, -2.043831753785224, -2.043700146423943, -1.0227700367078134, 0.7922076774491819, 1.4963203839592865, -1.0227780190523774, -1.0245179967862668, 1.0897872889969176, -1.3426580389656635, 1.7720458611996392, -0.9371230787818214, 0.8438975373180373, 1.473191240550241, -1.3417947000209345, 1.1754981177684862, -1.8213740010830537, 0.7947424369879261, 1.0878362411121638, 1.0897847486945311, -2.366668910134457, 0.8861307085760366, 0.7729472676912574, 0.8804148154410137, 1.1755017929916798, -0.9370956065550659, 1.1571600822022925, -0.9371015396625654, -0.6126186471405382, -1.0227728286744022, 1.1571674378307457, 0.7194741953358914, -0.9370942183016531, -2.105900701514107, -1.339657735156107, 1.8354889459590236, 1.0648213757134077, 1.175485433629519, -0.6603406317419585, -2.046833588998906, 0.7726958382204994, -0.937252324609702, -2.2040316095408246, 1.4423144756718531, -1.0227780771216899, -1.022772545686527, 1.0898284465381305, -1.0227754598807852, 0.7729402473645984, 1.2049043838801834, 1.2846499374816163, -2.200513570893923, 0.9112615605702091, 1.8354728919826144, -2.1038022341179454, -1.0227683573700501, -1.339649264663496, 1.1754496607146414, -0.9370914063599677, -2.0809752152608243, -1.0228153454154407, -0.9370942719702848, 1.0900802404703538, -1.0228136018471612, -1.3396570724034604, 1.089809687321614, 1.786513746248295, -2.3663992855216076, 1.6593219396173096, -2.366698965993823, -2.3852618230617177, -1.339649263445408, 1.0898201319532357, 1.0898189899665056, -2.199044210897554, 2.040061615845418, -0.9370976937870853, 1.175306292081312, -0.937009617217738, 1.4422646148026212, 1.157170026774617, 1.0898147569442007, -1.0227948802484532, 0.8804046009837713, 1.089808605004302, -0.9371067794997281, 0.663198668895563, -1.871640320498529, -2.026576137422619, -2.2397820234856636, 1.0835374800073434, -1.339666850517745, -1.8715382751543934, 1.0898058620959188, -1.0228046954787176, -0.9373290881308537, 1.0898175193936954, 3.3304572949864677, 1.0898291139344656, -1.0685440162669708, 1.551899777389193], \"z\": [0.16826166995829708, 0.2689556860167423, -0.004851533391486657, 0.4287491358410898, 0.42874876726735933, -0.5314243431840078, -0.2247303080775546, -0.5313560549705979, -0.4872311089897818, 0.3169800953557578, -0.0363854637152064, -0.4872218224402968, 0.38709842754073387, 0.44437681231607534, 0.4443758180560982, -0.4784177350917286, 0.4412562952979686, 0.16557744523463888, -0.48722419939948247, -0.22472664940236603, 8.19522743684387, -0.5313250918591166, -0.3241504473107305, 0.4133751831766263, -0.22474229838764115, -0.6037392402746341, -0.6358629158983405, -0.0048205397543486204, 6.106532205281747, -0.531343738142755, 0.03928738993918786, -0.1739497802737458, -0.531321638246978, 0.1682598242839471, 0.3309591846397436, -0.30213233169643633, 0.0425079873799144, -0.6364286546613069, 0.37609612551768945, -0.5315894397020011, -0.5628940974600818, 0.434807279921655, -0.026660878138226735, -0.4872222986595209, -0.1652735042669556, 0.16824558349732202, -0.5313208748657559, 0.3087262373777902, -0.0007409895090516684, 0.1680059662736768, -0.48722127098939094, -0.18064758375494502, -0.04855604009783821, -0.3087736207799687, 0.16825874560933057, -0.004816135196791824, -0.004822827574620572, 0.12335231801737194, -0.18760481597901657, 0.32581771992787567, -0.22477922953701504, -0.15873333951539514, 0.4233707939422084, -0.004831823540105041, 0.27723838241606663, 0.038306312299705034, -0.004811989777306948, -0.25630198486058664, -0.18063389222317858, -0.4872253489504016, -0.5425611841787777, 0.35262597426807707, -0.5313297953682402, -0.04855345146449543, 0.34077349534609036, -0.026694977666327824, -0.004818172753704749, 0.3870735200742442, -0.5313527396750285, -0.6075642115380747, -0.5317272971416913, -0.48722329953719445, 0.03920389506093742, -0.0048131271562523335, -0.531325175073371, -0.05433386020164649, -0.004813778317782226, -0.5314251949967512, -0.14292723858374248, 2.7385294575361785, -0.48724098875181115, 0.36905910748852255, 0.4443550571685583, -0.5313280833784872, 0.03928612675655052, 0.43483270492407794, -0.48741255214609847, -0.48745870502935423, -0.04855736002416781, 0.022313536681395633, 0.03928349990261379, -0.22472944034879802, -0.004846001516113747, -0.5313263564383648, -0.004811033122928949, -0.30204454766542843, -0.5628998496662646, 0.03918818627802568, -0.5629033475622883, -0.004810826173095412, -0.5313421850256154, -0.004814610128890748, -0.35827825894988874, 0.042580297396596405, -0.5313306221034703, -0.04855963476531445, -0.004955055415053692, 0.0335640498398376, -0.5895181127881859, -0.3582628523994639, -0.5313315869983708, -0.22481747820996464, -0.3651329563485524, -0.0516541517184369, -0.048560182469153564, 0.41973330401894554, -0.5629193798308273, 0.4359954404770534, -0.6039753770268481, -0.010419561158106905, -0.4872216664019725, 0.34832278121505805, -0.18063083527728974, -0.531355042336229, -0.004841746882939306, -0.22478033269096506, -0.23289203217722584, -0.5314938891234546, 0.2895061882981288, -0.2248530068623384, 0.2888105285112982, -0.004827202455404033, 0.13271984775998727, -0.048724650276131556, -0.3582846820047663, 0.03927391600325374, 0.16687812560028026, -0.4872428174246796, -0.44432925943414203, 0.3868879338707438, -0.40316242605862807, -0.011249246691207427, -0.5313677858072162, -0.0048189294323111405, 0.33095754081113016, -0.5388708092118202, 24.483481428195095, -0.4872238887108339, -0.004821277634448811, 0.444380357043403, -0.5628953881975345, -0.5564326633260952, 0.6197189144182488, -0.5313528287456304, 0.11991959024150263, -0.07720289009812915, -0.1872275463903552, 0.32388026138797477, 0.2177350721883343, -0.004831067687627278, -0.4872290930309437, -0.4872297416339839, 0.22446139068232776, 0.2689605899160743, -0.48726896354374927, -0.5313208526545412, 0.1676394442907008, -0.5313203765098872, -0.5313235433601232, 0.16825547278886152, -0.5763093590488328, -0.4927099980295383, -0.48723431421185065, 0.40623954953287955, -0.004812162566117405, -0.5313596636594099, 0.166698572720536, -0.22475266454832973, -0.22473045973213762, 0.16822403557630652, -0.004839097186931303, -0.6259033276308497, -0.5355985947667061, -0.07691860605231167, -0.5313373867879257, -0.004841364444416621, -0.44949610258977407, -0.5313211139938185, -0.5313628212087241, -0.004811536763066114, -0.004815239623704745, -0.004876616425768064, 0.3475433388875089, -0.3597978107473772, 0.35263170320406895, -0.3582503122062588, -0.5313214954209183, 0.3525952446166443, -0.7494779388231723, -0.48724365892155486, -0.004819253079195382, -0.0009979049137521286, -0.48722647255130386, -0.5313668739477351, 0.33062018984104197, 0.038165162969415925, 0.35261823122704017, 0.3526252333394079, -0.004819584812628808, -0.2355109436731666, -0.6160303274517368, -0.004853693983725581, -0.010265627345814498, -0.5313327158191191, 0.16005929017509607, -0.641837533440368, 0.0392695872825189, -0.35977888976658684, -0.24982889351623022, 0.15889188309571636, -0.48722381867356523, 0.31850166615700537, -0.22473454293250036, -0.5321035241175295, -0.531332904581691, 0.4435941471918925, -0.4883502859956242, -0.3582470625390004, -0.18062935739619163, -0.48722578770680736, 0.03928594160786552, -0.142902360553734, 0.03927521531584605, -0.07719999828687718, -0.004818470805597464, -0.1428964376635441, -0.2604589077981284, 0.039285074342465115, 0.4267644672705129, 0.16825370378376076, -0.5737929221301263, -0.5467239717096289, -0.48730845207667095, 0.07701694315613009, 0.3522301692018262, -0.3582761352694791, 0.039182872388749464, 0.47745337225054696, -0.04861049909559493, -0.004853637770407987, -0.0048129935695191564, -0.5313201300184461, -0.004814334973541142, -0.3582458271263423, -0.29711620437191927, -0.07083133410384435, 0.4192305698696042, 0.04137046087027469, -0.5737773812662625, 0.42874148031788334, -0.004812737283728046, 0.16825662508728845, -0.4872372818841625, 0.03928076355171643, 0.36902452913932726, -0.004817560635069723, 0.03928141927418701, -0.5315633466114099, -0.004829839966121369, 0.168241411574607, -0.5313301734616899, -0.950378090662937, 0.44437904989972454, -0.7005434289127086, 0.44394086923189097, 0.36496269333607256, 0.16825662390813279, -0.5313290275662197, -0.531325274206791, 0.33095592242967803, 6.7856377109087855, 0.03928473172386979, -0.4872473059948336, 0.03894792234016646, -0.04859945572722557, -0.14289980706679217, -0.5313214942238241, -0.004818307017962788, -0.18063816339067038, -0.5313226352088785, 0.03927499193375245, -0.4065908275099441, 0.3087271152385145, 0.403989207401748, 0.40697064155011664, 0.10552906551264199, 0.16825630000661485, 0.3087427195322383, -0.5313242165646174, -0.004827870181599822, 0.039230703690975734, -0.5313249097850223, 6.143302725389719, -0.5313202465091427, -0.009218353771468582, -0.5891731847974571]}, {\"customdata\": [[\"Scrypt\"], [\"Equihash\"], [\"SHA-256\"], [\"SHA-256\"], [\"Equihash\"], [\"Scrypt\"], [\"Equihash\"], [\"Scrypt\"], [\"Lyra2Z\"], [\"Scrypt\"], [\"CryptoNight\"], [\"Scrypt\"], [\"X13\"], [\"X11\"], [\"Multiple\"], [\"X11\"], [\"SHA-256\"], [\"PoS\"], [\"Multiple\"], [\"X16R\"], [\"X11\"], [\"SHA-256\"], [\"Scrypt\"], [\"SHA-256\"], [\"Scrypt\"], [\"X11\"], [\"X11\"], [\"Scrypt\"], [\"PoS\"], [\"Multiple\"], [\"M7 POW\"], [\"CryptoNight\"], [\"XEVAN\"], [\"Scrypt\"], [\"CryptoNight-V7\"], [\"Scrypt\"], [\"Scrypt\"], [\"Quark\"], [\"NIST5\"], [\"Lyra2REv2\"], [\"X11\"], [\"NeoScrypt\"], [\"Quark\"], [\"Scrypt\"], [\"Scrypt\"], [\"SHA-256\"], [\"SHA-256\"], [\"Scrypt\"], [\"Multiple\"], [\"NeoScrypt\"], [\"SHA-256\"], [\"X11\"], [\"CryptoNight\"], [\"Scrypt\"], [\"X16R\"], [\"X11\"], [\"SHA-256\"], [\"Scrypt\"], [\"X13\"], [\"Multiple\"], [\"PoS\"], [\"SHA-256\"], [\"Blake2S\"], [\"Scrypt\"], [\"SHA-256\"], [\"CryptoNight\"], [\"X11\"], [\"X13\"], [\"Scrypt\"], [\"X11\"], [\"X11\"], [\"NeoScrypt\"], [\"NeoScrypt\"], [\"Scrypt\"], [\"Scrypt\"], [\"Dagger\"], [\"Scrypt\"], [\"Keccak\"], [\"Scrypt\"], [\"Counterparty\"], [\"Scrypt\"], [\"Scrypt\"], [\"PHI1612\"], [\"Lyra2REv2\"], [\"Scrypt\"], [\"Scrypt\"], [\"Scrypt\"], [\"Scrypt\"], [\"Scrypt\"], [\"Groestl\"], [\"SHA-256\"], [\"Scrypt\"], [\"NeoScrypt\"], [\"X11\"], [\"Quark\"], [\"Scrypt\"], [\"Scrypt\"], [\"SHA-256\"], [\"SHA-256\"], [\"Scrypt\"], [\"Scrypt\"], [\"Scrypt\"], [\"CryptoNight\"], [\"Equihash\"], [\"X11\"], [\"PoS\"], [\"X11\"], [\"DPoS\"], [\"VBFT\"], [\"Scrypt\"], [\"Scrypt\"], [\"SHA-256\"], [\"Scrypt\"], [\"CryptoNight\"], [\"Scrypt\"], [\"SHA-256\"], [\"SkunkHash\"], [\"X13\"], [\"Scrypt\"], [\"Scrypt\"], [\"Scrypt\"], [\"X11\"], [\"Scrypt\"], [\"Scrypt\"], [\"SHA3\"], [\"PHI1612\"], [\"Scrypt\"], [\"Scrypt\"], [\"Scrypt\"], [\"Scrypt\"], [\"DPoS\"], [\"CryptoNight Heavy\"], [\"Skein\"], [\"POS 3.0\"], [\"Scrypt\"], [\"Scrypt\"], [\"Scrypt\"], [\"X11\"], [\"Lyra2Z\"], [\"SHA-256D\"], [\"X11\"], [\"Lyra2REv2\"], [\"X11\"], [\"Quark\"], [\"Scrypt\"], [\"Scrypt\"], [\"PoS\"], [\"POS 2.0\"], [\"SHA-512\"], [\"SHA-256\"], [\"X11\"], [\"SHA-256\"], [\"X11\"], [\"Scrypt\"], [\"Scrypt\"], [\"Scrypt\"], [\"X11\"], [\"Lyra2RE\"], [\"Scrypt\"], [\"Quark\"], [\"X11\"], [\"NeoScrypt\"], [\"Scrypt\"], [\"Scrypt\"], [\"NeoScrypt\"], [\"X14\"], [\"Scrypt\"], [\"Lyra2Z\"], [\"Quark\"], [\"Scrypt\"], [\"Scrypt\"], [\"NeoScrypt\"], [\"X11\"], [\"X11\"], [\"NeoScrypt\"], [\"NeoScrypt\"], [\"Scrypt\"], [\"Scrypt\"], [\"CryptoNight\"], [\"PoS\"], [\"Scrypt\"], [\"Scrypt\"], [\"X13\"], [\"SHA3-256\"], [\"PoS\"], [\"X11\"], [\"Ethash\"], [\"Scrypt\"], [\"Scrypt\"], [\"SHA-256\"], [\"X13\"], [\"Scrypt\"], [\"XEVAN\"], [\"X15\"], [\"SHA-256\"], [\"Scrypt\"], [\"Argon2d\"], [\"Quark\"], [\"Scrypt\"], [\"NIST5\"], [\"SHA-256\"], [\"Scrypt\"], [\"Scrypt\"], [\"PoS\"], [\"Scrypt\"], [\"Dagger-Hashimoto\"], [\"Ethash\"], [\"QuBit\"], [\"Lyra2RE\"], [\"CryptoNight-V7\"], [\"Scrypt\"], [\"SHA-256\"], [\"X11\"], [\"Multiple\"], [\"X13\"], [\"SHA-256D\"], [\"CryptoNight\"], [\"Scrypt\"], [\"Scrypt\"], [\"Scrypt\"], [\"Scrypt\"], [\"Quark\"], [\"SHA-256\"], [\"Scrypt\"], [\"SHA-256D\"], [\"XEVAN\"], [\"TRC10\"], [\"Equihash\"], [\"Equihash\"], [\"Quark\"], [\"Equihash\"], [\"Scrypt\"], [\"SHA-256\"], [\"SHA-256\"], [\"Scrypt\"], [\"NIST5\"], [\"X11\"], [\"X13\"], [\"Scrypt\"], [\"Scrypt\"], [\"Scrypt\"], [\"Blake\"], [\"CryptoNight\"], [\"Green Protocol\"], [\"Scrypt\"], [\"Equihash\"], [\"X13\"], [\"Skein\"], [\"X11\"], [\"Scrypt\"], [\"SHA-512\"], [\"DPoS\"], [\"Quark\"], [\"PHI1612\"], [\"X11\"], [\"Scrypt\"], [\"Lyra2REv2\"], [\"Scrypt\"], [\"Scrypt\"]], \"hovertemplate\": \"<b>%{hovertext}</b><br><br>class=%{marker.color}<br>PC 1=%{x}<br>PC 2=%{y}<br>PC 3=%{z}<br>Algorithm=%{customdata[0]}<extra></extra>\", \"hovertext\": [\"ZoneCoin\", \"ChainZilla\", \"ZetaCoin\", \"ZEPHYR\", \"Horizen\", \"ZeitCoin\", \"ZClassic\", \"YoCoin\", \"ZCoin\", \"WhiteCoin\", \"UltraNote\", \"Xt3ch\", \"StealthCoin\", \"Stakenet\", \"SHIELD\", \"Ratecoin\", \"PayCoin\", \"Opair\", \"MyriadCoin\", \"Motion\", \"Monoeci\", \"JouleCoin\", \"Xios\", \"Infinity Economics\", \"HiCoin\", \"GoldReserve\", \"XenixCoin\", \"CoinonatX\", \"Creatio\", \"Crypti\", \"Cryptonite\", \"Cannabis Industry Coin\", \"Bitcoin Incognito\", \"WomenCoin\", \"Webchain\", \"WorldCoin\", \"Wild Beast Coin\", \"Digiwage\", \"Virta Unique Coin\", \"Vertcoin\", \"VaultCoin\", \"VIVO Coin\", \"Vitae\", \"Unified Society USDEX\", \"UnitaryStatus Dollar\", \"Ultimate Secure Cash\", \"Unobtanium\", \"Unify\", \"Unitus\", \"UFO Coin\", \"UnitedBitcoin\", \"Ucoin\", \"BitTube\", \"ThunderStake\", \"Trivechain\", \"TruckCoin\", \"TerraCoin\", \"TPCash\", \"Tokyo Coin\", \"TeslaCoin\", \"TeamUP\", \"TigerCash\", \"TajCoin\", \"SexCoin\", \"SwingCoin\", \"Sumokoin\", \"Sucre\", \"Sativa Coin\", \"ShareChain\", \"Squall Coin\", \"Spreadcoin\", \"SimpleBank\", \"SparksPay\", \"Song Coin\", \"Sojourn Coin\", \"SoilCoin\", \"SmileyCoin\", \"SmartCash\", \"SolarCoin\", \"StorjCoin\", \"Swisscoin\", \"Shilling\", \"Seraph\", \"Scribe Network\", \"Swiscoin\", \"SafeExchangeCoin\", \"Revolution VR\", \"RootCoin\", \"RenosCoin\", \"Riecoin\", \"Revenu\", \"RubyCoin\", \"Rapture\", \"Condensate\", \"QuarkCoin\", \"PesetaCoin\", \"PesoBit\", \"ProCurrency\", \"Project Pai\", \"PopularCoin\", \"Peony Coin\", \"PandaCoin\", \"PluraCoin\", \"PirateCash\", \"PAXEX\", \"Particl\", \"PacCoin\", \"Oxycoin\", \"Ontology\", \"NewYorkCoin\", \"NobleCoin\", \"Namecoin\", \"Gulden\", \"Niobio Cash\", \"Nautilus Coin\", \"MazaCoin\", \"MUNcoin\", \"MudraCoin\", \"MasterCoin\", \"Mercoin\", \"MoonCoin\", \"MindCoin\", \"MinCoin\", \"My Big Coin\", \"MaxCoin\", \"LUXCoin\", \"LiteCoin Ultra\", \"Listerclassic Coin\", \"Litecoin\", \"Litebar \", \"Lisk\", \"Loki\", \"Lizus Payment\", \"Let it Ride\", \"Linx\", \"Linda\", \"Litecoin Plus\", \"Lutetium Coin\", \"LAPO\", \"LanaCoin\", \"Kurrent\", \"KREDS\", \"BetKings\", \"Kalkulus\", \"KiloCoin\", \"KrugerCoin\", \"Ketan\", \"KekCoin\", \"Kcash\", \"IXcoin\", \"IslaCoin\", \"Internet of People\", \"Insane Coin\", \"Independent Money System\", \"Infinite Coin\", \"HyperCoin\", \"HyperStake\", \"HexxCoin\", \"HollyWoodCoin\", \"HerbCoin\", \"Halloween Coin\", \"GunCoin\", \"GrowthCoin\", \"GreenCoin\", \"GoaCoin\", \"GanjaCoin V2\", \"GoldCoin\", \"GINcoin\", \"Giant\", \"Genstake\", \"GrandCoin\", \"GoByte\", \"GoldBlocks\", \"FuturoCoin\", \"FeatherCoin\", \"FriendshipCoin\", \"FirstCoin\", \"Francs\", \"FREDEnergy\", \"FreeCoin\", \"FlutterCoin\", \"BitFlip\", \"FindCoin\", \"Fiii\", \"Exclusive Coin\", \"EUNO\", \"Ethereum Classic\", \"Emerald\", \"Einsteinium\", \"Emercoin\", \"EmberCoin\", \"EmaratCoin\", \"Ellerium\", \"EverGreenCoin\", \"EDRCoin\", \"EB3coin\", \"Dynamic\", \"Dystem\", \"DopeCoin\", \"Denarius\", \"DollarCoin\", \"Diggits\", \"Digitalcoin \", \"Deviant Coin\", \"Deimos\", \"DubaiCoin\", \"DaxxCoin\", \"CypherPunkCoin\", \"Crypto\", \"Citadel\", \"CarterCoin\", \"Credence Coin\", \"Creditbit \", \"Circuits of Value\", \"Paycon\", \"Cognitio\", \"BitCoal\", \"Cash & Back Coin\", \" ClubCoin\", \"OpenChat\", \"Crypto Escudo\", \"Carebit\", \"BitcoinWSpectrum\", \"BeaverCoin\", \"BuzzCoin\", \"Bettex coin\", \"BitTorrent\", \"Bitrolium\", \"Bitcoin Gold\", \"Bitcloud 2.0\", \"BitcoinZ\", \"BitCurrency\", \"BitcoinDark\", \"Bitcoin\", \"BitBar\", \"Bitspace\", \"BitSoar Coin\", \"BritCoin\", \"Briacoin\", \"BillaryCoin\", \"BlackholeCoin\", \"BlakeCoin\", \"Bitcoin Nova\", \"Bitcoin Green\", \"BenjiRolls\", \"Beam\", \"Bitcoin Diamond\", \"BashCoin\", \"Axe\", \"Aurora Coin\", \"Arionum\", \"ARK\", \"Alqo\", \"Argoneum\", \"Adzcoin\", \"AudioCoin\", \"Absolute Coin\", \"42 Coin\", \"404Coin\"], \"legendgroup\": \"0\", \"marker\": {\"color\": [0, 0, 0, 0, 0, 0, 0, 0, 0, 0, 0, 0, 0, 0, 0, 0, 0, 0, 0, 0, 0, 0, 0, 0, 0, 0, 0, 0, 0, 0, 0, 0, 0, 0, 0, 0, 0, 0, 0, 0, 0, 0, 0, 0, 0, 0, 0, 0, 0, 0, 0, 0, 0, 0, 0, 0, 0, 0, 0, 0, 0, 0, 0, 0, 0, 0, 0, 0, 0, 0, 0, 0, 0, 0, 0, 0, 0, 0, 0, 0, 0, 0, 0, 0, 0, 0, 0, 0, 0, 0, 0, 0, 0, 0, 0, 0, 0, 0, 0, 0, 0, 0, 0, 0, 0, 0, 0, 0, 0, 0, 0, 0, 0, 0, 0, 0, 0, 0, 0, 0, 0, 0, 0, 0, 0, 0, 0, 0, 0, 0, 0, 0, 0, 0, 0, 0, 0, 0, 0, 0, 0, 0, 0, 0, 0, 0, 0, 0, 0, 0, 0, 0, 0, 0, 0, 0, 0, 0, 0, 0, 0, 0, 0, 0, 0, 0, 0, 0, 0, 0, 0, 0, 0, 0, 0, 0, 0, 0, 0, 0, 0, 0, 0, 0, 0, 0, 0, 0, 0, 0, 0, 0, 0, 0, 0, 0, 0, 0, 0, 0, 0, 0, 0, 0, 0, 0, 0, 0, 0, 0, 0, 0, 0, 0, 0, 0, 0, 0, 0, 0, 0, 0, 0, 0, 0, 0, 0, 0, 0, 0, 0, 0, 0, 0, 0, 0, 0, 0, 0, 0, 0, 0, 0, 0, 0, 0, 0, 0, 0, 0, 0, 0, 0, 0, 0, 0, 0, 0, 0], \"coloraxis\": \"coloraxis\", \"symbol\": \"diamond\"}, \"mode\": \"markers\", \"name\": \"0\", \"scene\": \"scene\", \"showlegend\": true, \"type\": \"scatter3d\", \"x\": [-0.3185572299321999, -0.37544590051429955, -0.13994173985084246, 2.599756850421099, -0.17933190771438243, 0.9381424715986949, -0.17935330555064957, -0.14436572649482035, -0.08029188247962314, -0.31333625459382675, 1.172120560626818, -0.2588288811632663, -0.28167868762874576, -0.3972586917745313, -0.0987104478823013, -0.4026523609766653, -0.2567473482682845, -0.31216998042003247, -0.07352576839188624, -0.19776692307825394, -0.40468447260982854, -0.14252425680345954, -0.31856272605276253, -0.07644279976206673, -0.05857124188685807, -0.4044019367569473, -0.4048368270998683, -0.31814141272914576, -0.3132537036037064, -0.22205121588998264, -0.10312665382828388, 0.30265745673011557, -0.47949531686079094, 0.4810488327959917, -0.12220027448890768, -0.14213996292691528, -0.14558903935451462, -0.33428371583053496, -0.36175391320218825, -0.18093113845920433, -0.22404733374405814, -0.1768072176863717, -0.3339379228816883, -0.31405400286736324, -0.29301717671497807, -0.2553902138654616, -0.14334881361126062, -0.14523848803011835, -0.10885628294125962, -0.09904358485705743, -0.14294865484113392, -0.34523780308341073, 0.31085528458968736, -0.17302571255884294, -0.37009020291154876, -0.401829992522108, -0.1427530344445395, -0.31132884857714277, -0.21379876069753323, -0.2215675096928426, -0.3112169903056813, -0.2369307059118805, -0.4135606543597252, -0.14213458176633811, -0.3161373626511848, 0.30325753511645615, -0.23158121291976153, -0.28193574948058236, 0.05499922318180817, -0.4745000506824707, -0.2314917524753774, -0.3500076673329072, -0.17680449170751053, -0.14365202946977026, -0.06846323198186133, -0.14608931946117137, 0.5978654757992098, -0.09808263579424921, 0.5758155645978904, -0.32762561445263966, -0.11412225963373096, -0.14524888431632071, -0.3827980237105104, -0.18188186045597815, -0.18352714514316487, 0.07529496578771146, -0.1413978521246165, -0.31871967599672363, -0.2585378739352959, -0.20743458035651527, -0.3148353720272117, -0.2589035200395711, -0.17684731969954548, -0.39969385627742116, -0.21675921596509923, -0.1426398300430038, -0.3183181224981685, 0.2952956545040241, -0.10122512933318084, -0.05847507255787529, -0.1352221441386028, 0.4095381368573575, 0.3169585702041199, -0.29227470118923393, -0.3446269860843171, -0.31347346250921554, 0.5097255033502885, 3.9388895662093124, -0.3087219905080225, 1.6726049915585854, -0.005326217337178441, -0.14301156065100984, -0.12799125237033415, 0.3066621025612756, -0.25892456233955957, -0.27819490146771736, -0.13433783298836852, -0.22107132860339776, -0.14559823232348607, -0.3176876075493634, 2.675555369297587, -0.23146115450076624, -0.14546339597840202, -0.23947326040870118, -0.38502111346151013, -0.38250400688151076, -0.3175352761815493, -0.317833274469245, -0.14419203594188829, -0.14558670065014848, 3.9273201163264013, 0.6154426938038657, -0.4266223357281974, -0.3240271523046007, -0.144447302297302, 0.16359406326351558, -0.3186831104504328, -0.33223886832348026, 0.6219597807570953, -0.29624521372142804, -0.22932517621876045, -0.16593208528187203, -0.3452146463100933, -0.3351499091185673, -0.06964702234882068, -0.14173513374142005, -0.311993511172604, -0.32445889406845846, -0.23293950059959162, -0.1429307879884065, -0.4048948830952688, -0.31630048562085944, -0.40439143268506494, -0.31852023750191755, 1.6718608819361438, -0.31862188712963274, -0.3240778945544457, -0.14171961337049976, -0.2585660065013319, -0.3941619221432925, -0.390528773522167, -0.1695734629424098, -0.24080316420890255, -0.013525993305369882, -0.1767728209799976, -0.4292635026144233, -0.14455022948596785, -0.08037936061795413, -0.3948945099855689, -0.31787128623366034, -0.12393279026431885, -0.1767507669407873, -0.4043489070853856, -0.23064143931655398, -0.17193696664509958, -0.3497359410219018, -0.21762630987478365, -0.1453801813678866, 0.3855908853899887, -0.31265187395516786, -0.21727957640263168, -0.14515854597670516, -0.2223128740490416, -0.6034036965032349, -0.3135827104541269, -0.4041555590153373, -0.13463762949327462, -0.14512767642464536, -0.14062536702792844, -0.3085926277641114, 0.8963034689765468, -0.31785259171446467, -0.40975200177447946, -0.23502977988236234, -0.3162785987079184, -0.1154085834042722, -0.14617496955720435, -0.3352680943756347, -0.14265570855546017, -0.36330928216859215, -0.1431592628273143, -0.25724305030154276, -0.14483159344766092, -0.3127302628265969, -0.13484192265243639, -0.14507560633645353, -0.057531144308222294, -0.17556398484912314, -0.1411588685098872, -0.1337566190809713, -0.3175343144732713, -0.31625964389437866, -0.4270099614785973, -0.08815380100895436, -0.28143914028244954, -0.3650855532248849, 0.3026397866196211, -0.3157905312897704, -0.3162513848543462, -0.29868335185223005, -0.12834411688328864, -0.3917615801377111, -0.2555200684489517, -0.14554636644291588, 0.030702640226586083, -0.3502493129433287, 35.43825467460068, -0.1781574568870781, -0.1792059630695093, -0.39314778471137496, 0.04096429684538992, -0.2570928381090193, -0.3163088690481658, -0.14297099249390866, -0.31874012538558766, -0.36289314494219094, -0.2693866846950714, -0.2816086375166487, -0.31871154817782876, -0.31832136326852184, -0.31842765714436355, -0.08989072510410002, 0.31599697285020006, -0.316575748923771, -0.14509190445463094, -0.17719448604537483, -0.27822313414388467, -0.4264899885561787, -0.2315626832529267, -0.31839057162226636, -0.16485921551821925, 3.926913422860896, -0.39375253802596555, -0.2092689284653176, -0.23058977633175218, -0.22913385033552947, -0.35477736216365924, -0.3187443393069941, -0.30142001597087564], \"y\": [1.0898191063593279, -1.7491512412698331, -1.3396630053689396, 0.7546041892432729, -2.103804387703111, 0.7601298253430505, -2.103805054378173, -1.0228513849448098, -1.871509530575418, 1.0897790883105565, -2.401045730366629, 0.7947248340554828, 1.6966298812375749, 0.6233770696875826, -1.8155809596771706, 1.1755251451230206, 0.4778641645702273, 1.4422679744482454, -1.8157697641821782, -1.3809539726178501, 1.175509410445012, -1.3396528071250808, 1.089818935121149, 0.47695266272800213, 0.7937249943221569, 1.1754960612837513, 1.1755087710524117, 1.0898122640135777, 1.4422734388753857, 0.0021077967742926694, -2.1836605423328703, -2.3664006143708436, 1.5060792524145574, 1.0965854144982259, -2.1914730309290693, -1.022852556230978, -1.0227691065267097, 1.1571244299727224, 1.4999629798115863, -1.4619921088208243, -0.937572772200196, -1.601049945668124, 1.1571497328648401, 1.0898061256325042, 1.089467748797238, 0.4777701743416518, -1.3396459878627454, -1.0227702794543152, -1.8154175983092318, -1.6015133727827768, -1.3396479887179567, 0.8804154481843729, -2.366856410575293, 1.0812921987763895, 0.7316237498765481, 1.1756052518705014, -1.3396577555696725, 1.0893331058949283, 1.4012251177064001, 0.0020502207110130065, 1.4421327584218475, 0.477764191410358, 1.814533436963966, -1.022841185902164, 0.7729322915992737, -2.366431237119224, -0.937095418126018, 1.6966146075189859, -1.0237822818310258, 1.0221027553119149, -0.9370927761723844, 0.5115487363164927, -1.6010455019466656, -1.0228595795411854, -1.0279921341291487, -2.1712318913037056, -1.0359272397386439, -1.2883602134207621, -1.0715572002100056, 0.9915708864160774, 1.0887938334193938, -1.022778393393087, 1.322077537180015, -1.4619844620390248, 0.44644318781728887, 0.723313996727061, -1.0227891736108408, 1.0898293009249946, 0.7947408556012674, -1.2687201639541272, 0.7728401133396252, 0.7947544730549402, -1.6010468363037433, 1.1753085732097612, -0.6603583333614977, -1.0227961848644398, 1.0898418118022817, 0.44058792305928357, -1.3398589693351193, -1.023685383317831, 0.786345183399929, 0.7919596176838708, -2.3666662554461633, -0.28633215997889333, 0.8803763617105884, 1.4422748489251986, -0.9866312465572752, 1.8205953773120491, 1.3544720926028022, -0.9661191978278634, -1.029294118030974, -1.3396505544952082, -1.0234393786689435, -2.3665046813554724, 0.7947420632524129, 0.7723860284835864, -2.161964697296607, 1.4014344112296333, -1.0227679338235534, 1.089788809740432, -1.213833666679968, -0.9370889169958313, -1.0227705474581517, 0.560162205659349, 2.285734838840797, 1.3220663566027482, 1.0897572325526972, 1.0897770066635613, -1.022784695136904, -1.0227681052392485, 1.8201187421982388, -2.2428516985484244, 1.8354868040003829, 1.2162476114361132, -1.022804271705005, 1.0685331068082147, 1.089827534307892, 0.8803576872304725, 0.19572958605999233, 1.8744860560607486, -0.9371763786416935, -1.462262883960912, 0.8804247796240888, 1.157170089195344, -1.027665783998843, -1.0228399432957642, 1.4421746733099894, 1.2565808912171128, 0.670826790305015, -1.339648037926747, 1.1755097615560177, 0.772941012145041, 1.1755036532011847, 1.0898201048040372, -1.0319601156062317, 1.0898323476535638, 0.8810892396260852, -2.1608690311663827, 0.7947461005995458, 1.4522452712838358, 1.1748676572168848, -1.6011681873993922, 0.7938654810750302, -1.0259172665282805, -1.6010525063230732, 1.710473164377239, -1.022787315994971, -1.8715043375918385, 1.4522579337290469, 1.0898448365421964, -1.0231244943989999, -1.6010516739102156, 1.1754904488357298, -0.9371244008581979, -1.6011226849016071, 0.5115287479845086, 0.6133083218927546, -1.022775219458465, -2.3696713065644683, 1.4422703956428415, 0.5745434998399358, -1.02278284344514, 1.4015304706175697, 3.030723529830408, 1.442277717576425, 1.1754964728250281, -2.043757072476589, -1.0227760699470407, -1.022830337001141, 0.7724699503418566, 1.7327138223872092, 1.0897952929032693, 1.6594622306712365, 1.7683011279357608, 0.7729409675928126, -1.0247327495700074, -2.2181407173552454, 1.1571656805279062, -1.0228210989748217, 1.4999944315960707, -1.339647628917914, 0.7947335604606851, -1.0227785891635228, 1.442240347672069, -1.0231588232184305, -2.177554960357718, -2.0484668210445376, -1.6208683403565498, -2.160892089325131, -2.1906961647882954, 1.0898008504192787, 0.7729393787574231, 0.4370113294245564, -1.8156443459071399, 1.6966010213674783, 1.8777886515601143, -2.3663949899511887, 1.089768004253461, 1.089789969064868, 1.0897270913995474, -1.0229563763442133, 1.4522139928982576, 0.47783864575879414, -1.0227683087737698, 1.8755960512527343, 1.3643849010102655, 1.643776597724824, -2.1038033930772206, -2.1038004637477656, 1.452170804044522, -2.112181307621991, 0.7948108870060593, 0.7729400244843265, -1.3396492905459783, 1.0898283005674114, 1.4999783382444833, 0.8799018784512496, 1.6966102697805021, 1.0898273747616976, 1.0898111992998325, 1.0898276559542217, -2.202515638395794, -2.366696215156483, 1.3380631438685382, -1.0227775128763152, -2.1039134530372285, 1.6965849854581943, 1.8354887480389126, -0.9370957125702571, 1.0898273727732417, -0.9057920835855924, 1.8201314381766063, 1.4522552079574773, -0.7905297935512108, -0.937111167795492, 1.0849925708755133, 0.6506049781631912, 1.0898285324796924, 1.0899818130176409], \"z\": [-0.53132167985793, 0.63373253189811, 0.1681911282657056, -0.04270905648415536, 0.42874880044438685, -0.24364686831343496, 0.4287494458113738, -0.004818870096895154, 0.30874804504348774, -0.5314306921426836, 0.43291754113581626, -0.22473158618201974, -0.5629067280204212, -0.28420975957468203, 0.3236653257926425, -0.4872764609131113, -0.051656659995012275, -0.0485834897179813, 0.32313846593958384, 0.16558180285990834, -0.48722654586246766, 0.16824734453750637, -0.5313215140928157, -0.05553384221766809, -0.22904082598349795, -0.4872297715352471, -0.4872229327212087, -0.5313294881697952, -0.048560182469153564, 0.10392733504350898, 0.4568197628281084, 0.44438245457470604, -0.6424271227148265, -0.551099966896024, 0.38701520586137494, -0.004869141779916654, -0.004810755920659266, -0.14291127294020683, -0.6037328133569829, 0.25820900952697795, 0.039228290671241166, 0.22446310025674565, -0.1429251756184171, -0.5314208542389085, -0.5318177504354917, -0.0516650136656695, 0.16826444168977311, -0.004818437261925373, 0.323856704909918, 0.22280771592066825, 0.1682558315882921, -0.18063012878834359, 0.44430522930774624, -0.5325885269379509, -0.3609412604618487, -0.4873142892236894, 0.16825372354487408, -0.5313696662447494, -0.2564275463420058, 0.10393011342634503, -0.04857280884079177, -0.052082836976769756, -0.5227489436220863, -0.004871982230972579, -0.35824818755657145, 0.44437614634308553, 0.03928528258427354, -0.5628972382211013, -0.00912431680835141, -0.42920014381157123, 0.03928261915709473, -0.3020450513788532, 0.22446197601128492, -0.004833120601605113, -0.005313805845243119, 0.4348496026219253, -0.018550512921080904, 0.047011814030307804, -0.009531880850953911, 0.021184162737566195, -0.5357197153301994, -0.004816261391898839, -0.47113639058567525, 0.25822877432175745, -0.11153112886782482, -0.24413025477630007, -0.0049011491401093656, -0.531320427523135, -0.22474202572945054, 0.16670868599218625, -0.35825572197407163, -0.22473697658992728, 0.22446326772002792, -0.48729188017530123, 0.07690957179777844, -0.004871265115496584, -0.531332538531385, -0.05528329947576964, 0.16735864183302035, -0.006570245729733228, -0.2255356799414367, -0.23925052075478676, 0.4441211518617904, 0.20882641435871793, -0.18063465754590113, -0.04855552838162405, 0.0342908958052854, -0.001036956153217449, -0.06515006726287527, -0.059648644919944385, -0.0064365208700308705, 0.16825787369377312, -0.005050200277219107, 0.44431637942991475, -0.22473353194148366, -0.3589793476181533, 0.3213656859807678, -0.25631240578036596, -0.00481082748016369, -0.53133418795707, -0.0232081659588706, 0.039281001624464594, -0.004813265067137469, -0.22188400118134044, -0.6574753009306528, -0.47114039544505654, -0.531330098755756, -0.531328057871822, -0.004838758086124826, -0.004811048409037001, -0.0006602438211870808, 0.38777215716087354, -0.5737744318223437, -0.026668242949597205, -0.0048282804107794555, -0.5371836216866294, -0.531320835668176, -0.18091155293607672, -0.2267996060696839, -0.6366199666036853, 0.039253398050447454, 0.25793308252847647, -0.18063288553580661, -0.1429025153649946, -0.005364938012278342, -0.004881351584147325, -0.04856519277702415, 0.1280280332214559, 0.2513007395293838, 0.16825543755914438, -0.48722185094298587, -0.358246567463094, -0.48723182505691587, -0.5313227587245133, -0.043891566079130986, -0.5313233768730481, -0.18127179321290932, 0.2689626052476546, -0.22474264066978306, -0.4495043147285461, -0.4873946311215259, 0.22432707403689675, -0.22493554733387977, -0.007057569873764442, 0.22446293119623362, -0.6093570646037175, -0.004829996217501463, 0.3087487903987021, -0.4494907032751205, -0.5313434102130853, -0.005217653770791547, 0.22446223130361673, -0.48722963421576243, 0.03927086710307304, 0.22436987609637946, -0.3020464443593366, -0.33304906453001343, -0.004814038137043268, 0.4432807688769488, -0.04857312373882135, -0.24387156425727724, -0.0048172493162190275, -0.2563071720351028, 17.096414492718853, -0.04855373292539353, -0.4872354656680595, 0.3525830070764531, -0.004819569725654916, -0.004908853199100324, -0.3583090150459647, -0.5982875030251801, -0.5313319907147769, -0.7004462232402757, -0.5564125484473975, -0.35824705390934075, -0.005026780585139977, 0.5517149518676568, -0.14289877718061875, -0.004864948420269245, -0.6037050066925599, 0.16826052891619048, -0.22476968984893536, -0.004825692129165751, -0.04856415998396251, -0.004961678028990367, 0.2598078754934711, 0.35195768957340445, 0.1233596247860362, 0.26895538194239493, 0.3870919537990936, -0.5313405480501274, -0.3582471045793771, -0.2583814575485531, 0.32344071585498513, -0.5629052692866261, -0.6358459910401995, 0.44438151130445624, -0.5313723006451283, -0.5313670846981026, -0.5317510592987565, -0.005157654354836003, -0.44955135393210294, -0.05167843343513359, -0.004811915824591977, -0.6443109883763671, -0.39385505473257093, -0.9399375410299502, 0.4287218884574601, 0.42874500190536613, -0.4495095454680048, 0.42574803603315703, -0.22479158745467653, -0.35824614094421486, 0.1682566501425239, -0.5313197239259463, -0.6037106106924085, -0.18223008868117496, -0.5629036306143552, -0.5313201516468409, -0.5313251465862868, -0.5313266666224505, 0.3306204966634553, 0.44415015400852403, -0.17358108704265984, -0.004820037228972152, 0.42872632874740463, -0.562974477834001, -0.5737779024496059, 0.03928493212815934, -0.5313274412130617, 0.26246109872607415, -0.0006540421198061782, -0.44951598818749827, 0.05536636443054315, 0.039266530183842636, -0.5321988199919606, -0.26828409393696717, -0.5313196836609001, -0.5317497987076587]}, {\"customdata\": [[\"Exosis\"], [\"DPoS\"]], \"hovertemplate\": \"<b>%{hovertext}</b><br><br>class=%{marker.color}<br>PC 1=%{x}<br>PC 2=%{y}<br>PC 3=%{z}<br>Algorithm=%{customdata[0]}<extra></extra>\", \"hovertext\": [\"Exosis\", \"ALAX\"], \"legendgroup\": \"3\", \"marker\": {\"color\": [3, 3], \"coloraxis\": \"coloraxis\", \"symbol\": \"square\"}, \"mode\": \"markers\", \"name\": \"3\", \"scene\": \"scene\", \"showlegend\": true, \"type\": \"scatter3d\", \"x\": [-0.1402849208849634, 3.944680359703004], \"y\": [-2.240543875351164, 1.8200493313202188], \"z\": [0.27528353558624435, -0.0010379372350728853]}, {\"customdata\": [[\"Scrypt\"]], \"hovertemplate\": \"<b>%{hovertext}</b><br><br>class=%{marker.color}<br>PC 1=%{x}<br>PC 2=%{y}<br>PC 3=%{z}<br>Algorithm=%{customdata[0]}<extra></extra>\", \"hovertext\": [\"ArtByte\"], \"legendgroup\": \"1\", \"marker\": {\"color\": [1], \"coloraxis\": \"coloraxis\", \"symbol\": \"x\"}, \"mode\": \"markers\", \"name\": \"1\", \"scene\": \"scene\", \"showlegend\": true, \"type\": \"scatter3d\", \"x\": [-0.12818739463966075], \"y\": [-1.0229514934761392], \"z\": [-0.005162381158094674]}],                        {\"coloraxis\": {\"colorbar\": {\"title\": {\"text\": \"class\"}}, \"colorscale\": [[0.0, \"#0d0887\"], [0.1111111111111111, \"#46039f\"], [0.2222222222222222, \"#7201a8\"], [0.3333333333333333, \"#9c179e\"], [0.4444444444444444, \"#bd3786\"], [0.5555555555555556, \"#d8576b\"], [0.6666666666666666, \"#ed7953\"], [0.7777777777777778, \"#fb9f3a\"], [0.8888888888888888, \"#fdca26\"], [1.0, \"#f0f921\"]]}, \"legend\": {\"title\": {\"text\": \"class\"}, \"tracegroupgap\": 0, \"x\": 0, \"y\": 1}, \"margin\": {\"t\": 60}, \"scene\": {\"domain\": {\"x\": [0.0, 1.0], \"y\": [0.0, 1.0]}, \"xaxis\": {\"title\": {\"text\": \"PC 1\"}}, \"yaxis\": {\"title\": {\"text\": \"PC 2\"}}, \"zaxis\": {\"title\": {\"text\": \"PC 3\"}}}, \"template\": {\"data\": {\"bar\": [{\"error_x\": {\"color\": \"#2a3f5f\"}, \"error_y\": {\"color\": \"#2a3f5f\"}, \"marker\": {\"line\": {\"color\": \"#E5ECF6\", \"width\": 0.5}}, \"type\": \"bar\"}], \"barpolar\": [{\"marker\": {\"line\": {\"color\": \"#E5ECF6\", \"width\": 0.5}}, \"type\": \"barpolar\"}], \"carpet\": [{\"aaxis\": {\"endlinecolor\": \"#2a3f5f\", \"gridcolor\": \"white\", \"linecolor\": \"white\", \"minorgridcolor\": \"white\", \"startlinecolor\": \"#2a3f5f\"}, \"baxis\": {\"endlinecolor\": \"#2a3f5f\", \"gridcolor\": \"white\", \"linecolor\": \"white\", \"minorgridcolor\": \"white\", \"startlinecolor\": \"#2a3f5f\"}, \"type\": \"carpet\"}], \"choropleth\": [{\"colorbar\": {\"outlinewidth\": 0, \"ticks\": \"\"}, \"type\": \"choropleth\"}], \"contour\": [{\"colorbar\": {\"outlinewidth\": 0, \"ticks\": \"\"}, \"colorscale\": [[0.0, \"#0d0887\"], [0.1111111111111111, \"#46039f\"], [0.2222222222222222, \"#7201a8\"], [0.3333333333333333, \"#9c179e\"], [0.4444444444444444, \"#bd3786\"], [0.5555555555555556, \"#d8576b\"], [0.6666666666666666, \"#ed7953\"], [0.7777777777777778, \"#fb9f3a\"], [0.8888888888888888, \"#fdca26\"], [1.0, \"#f0f921\"]], \"type\": \"contour\"}], \"contourcarpet\": [{\"colorbar\": {\"outlinewidth\": 0, \"ticks\": \"\"}, \"type\": \"contourcarpet\"}], \"heatmap\": [{\"colorbar\": {\"outlinewidth\": 0, \"ticks\": \"\"}, \"colorscale\": [[0.0, \"#0d0887\"], [0.1111111111111111, \"#46039f\"], [0.2222222222222222, \"#7201a8\"], [0.3333333333333333, \"#9c179e\"], [0.4444444444444444, \"#bd3786\"], [0.5555555555555556, \"#d8576b\"], [0.6666666666666666, \"#ed7953\"], [0.7777777777777778, \"#fb9f3a\"], [0.8888888888888888, \"#fdca26\"], [1.0, \"#f0f921\"]], \"type\": \"heatmap\"}], \"heatmapgl\": [{\"colorbar\": {\"outlinewidth\": 0, \"ticks\": \"\"}, \"colorscale\": [[0.0, \"#0d0887\"], [0.1111111111111111, \"#46039f\"], [0.2222222222222222, \"#7201a8\"], [0.3333333333333333, \"#9c179e\"], [0.4444444444444444, \"#bd3786\"], [0.5555555555555556, \"#d8576b\"], [0.6666666666666666, \"#ed7953\"], [0.7777777777777778, \"#fb9f3a\"], [0.8888888888888888, \"#fdca26\"], [1.0, \"#f0f921\"]], \"type\": \"heatmapgl\"}], \"histogram\": [{\"marker\": {\"colorbar\": {\"outlinewidth\": 0, \"ticks\": \"\"}}, \"type\": \"histogram\"}], \"histogram2d\": [{\"colorbar\": {\"outlinewidth\": 0, \"ticks\": \"\"}, \"colorscale\": [[0.0, \"#0d0887\"], [0.1111111111111111, \"#46039f\"], [0.2222222222222222, \"#7201a8\"], [0.3333333333333333, \"#9c179e\"], [0.4444444444444444, \"#bd3786\"], [0.5555555555555556, \"#d8576b\"], [0.6666666666666666, \"#ed7953\"], [0.7777777777777778, \"#fb9f3a\"], [0.8888888888888888, \"#fdca26\"], [1.0, \"#f0f921\"]], \"type\": \"histogram2d\"}], \"histogram2dcontour\": [{\"colorbar\": {\"outlinewidth\": 0, \"ticks\": \"\"}, \"colorscale\": [[0.0, \"#0d0887\"], [0.1111111111111111, \"#46039f\"], [0.2222222222222222, \"#7201a8\"], [0.3333333333333333, \"#9c179e\"], [0.4444444444444444, \"#bd3786\"], [0.5555555555555556, \"#d8576b\"], [0.6666666666666666, \"#ed7953\"], [0.7777777777777778, \"#fb9f3a\"], [0.8888888888888888, \"#fdca26\"], [1.0, \"#f0f921\"]], \"type\": \"histogram2dcontour\"}], \"mesh3d\": [{\"colorbar\": {\"outlinewidth\": 0, \"ticks\": \"\"}, \"type\": \"mesh3d\"}], \"parcoords\": [{\"line\": {\"colorbar\": {\"outlinewidth\": 0, \"ticks\": \"\"}}, \"type\": \"parcoords\"}], \"pie\": [{\"automargin\": true, \"type\": \"pie\"}], \"scatter\": [{\"marker\": {\"colorbar\": {\"outlinewidth\": 0, \"ticks\": \"\"}}, \"type\": \"scatter\"}], \"scatter3d\": [{\"line\": {\"colorbar\": {\"outlinewidth\": 0, \"ticks\": \"\"}}, \"marker\": {\"colorbar\": {\"outlinewidth\": 0, \"ticks\": \"\"}}, \"type\": \"scatter3d\"}], \"scattercarpet\": [{\"marker\": {\"colorbar\": {\"outlinewidth\": 0, \"ticks\": \"\"}}, \"type\": \"scattercarpet\"}], \"scattergeo\": [{\"marker\": {\"colorbar\": {\"outlinewidth\": 0, \"ticks\": \"\"}}, \"type\": \"scattergeo\"}], \"scattergl\": [{\"marker\": {\"colorbar\": {\"outlinewidth\": 0, \"ticks\": \"\"}}, \"type\": \"scattergl\"}], \"scattermapbox\": [{\"marker\": {\"colorbar\": {\"outlinewidth\": 0, \"ticks\": \"\"}}, \"type\": \"scattermapbox\"}], \"scatterpolar\": [{\"marker\": {\"colorbar\": {\"outlinewidth\": 0, \"ticks\": \"\"}}, \"type\": \"scatterpolar\"}], \"scatterpolargl\": [{\"marker\": {\"colorbar\": {\"outlinewidth\": 0, \"ticks\": \"\"}}, \"type\": \"scatterpolargl\"}], \"scatterternary\": [{\"marker\": {\"colorbar\": {\"outlinewidth\": 0, \"ticks\": \"\"}}, \"type\": \"scatterternary\"}], \"surface\": [{\"colorbar\": {\"outlinewidth\": 0, \"ticks\": \"\"}, \"colorscale\": [[0.0, \"#0d0887\"], [0.1111111111111111, \"#46039f\"], [0.2222222222222222, \"#7201a8\"], [0.3333333333333333, \"#9c179e\"], [0.4444444444444444, \"#bd3786\"], [0.5555555555555556, \"#d8576b\"], [0.6666666666666666, \"#ed7953\"], [0.7777777777777778, \"#fb9f3a\"], [0.8888888888888888, \"#fdca26\"], [1.0, \"#f0f921\"]], \"type\": \"surface\"}], \"table\": [{\"cells\": {\"fill\": {\"color\": \"#EBF0F8\"}, \"line\": {\"color\": \"white\"}}, \"header\": {\"fill\": {\"color\": \"#C8D4E3\"}, \"line\": {\"color\": \"white\"}}, \"type\": \"table\"}]}, \"layout\": {\"annotationdefaults\": {\"arrowcolor\": \"#2a3f5f\", \"arrowhead\": 0, \"arrowwidth\": 1}, \"coloraxis\": {\"colorbar\": {\"outlinewidth\": 0, \"ticks\": \"\"}}, \"colorscale\": {\"diverging\": [[0, \"#8e0152\"], [0.1, \"#c51b7d\"], [0.2, \"#de77ae\"], [0.3, \"#f1b6da\"], [0.4, \"#fde0ef\"], [0.5, \"#f7f7f7\"], [0.6, \"#e6f5d0\"], [0.7, \"#b8e186\"], [0.8, \"#7fbc41\"], [0.9, \"#4d9221\"], [1, \"#276419\"]], \"sequential\": [[0.0, \"#0d0887\"], [0.1111111111111111, \"#46039f\"], [0.2222222222222222, \"#7201a8\"], [0.3333333333333333, \"#9c179e\"], [0.4444444444444444, \"#bd3786\"], [0.5555555555555556, \"#d8576b\"], [0.6666666666666666, \"#ed7953\"], [0.7777777777777778, \"#fb9f3a\"], [0.8888888888888888, \"#fdca26\"], [1.0, \"#f0f921\"]], \"sequentialminus\": [[0.0, \"#0d0887\"], [0.1111111111111111, \"#46039f\"], [0.2222222222222222, \"#7201a8\"], [0.3333333333333333, \"#9c179e\"], [0.4444444444444444, \"#bd3786\"], [0.5555555555555556, \"#d8576b\"], [0.6666666666666666, \"#ed7953\"], [0.7777777777777778, \"#fb9f3a\"], [0.8888888888888888, \"#fdca26\"], [1.0, \"#f0f921\"]]}, \"colorway\": [\"#636efa\", \"#EF553B\", \"#00cc96\", \"#ab63fa\", \"#FFA15A\", \"#19d3f3\", \"#FF6692\", \"#B6E880\", \"#FF97FF\", \"#FECB52\"], \"font\": {\"color\": \"#2a3f5f\"}, \"geo\": {\"bgcolor\": \"white\", \"lakecolor\": \"white\", \"landcolor\": \"#E5ECF6\", \"showlakes\": true, \"showland\": true, \"subunitcolor\": \"white\"}, \"hoverlabel\": {\"align\": \"left\"}, \"hovermode\": \"closest\", \"mapbox\": {\"style\": \"light\"}, \"paper_bgcolor\": \"white\", \"plot_bgcolor\": \"#E5ECF6\", \"polar\": {\"angularaxis\": {\"gridcolor\": \"white\", \"linecolor\": \"white\", \"ticks\": \"\"}, \"bgcolor\": \"#E5ECF6\", \"radialaxis\": {\"gridcolor\": \"white\", \"linecolor\": \"white\", \"ticks\": \"\"}}, \"scene\": {\"xaxis\": {\"backgroundcolor\": \"#E5ECF6\", \"gridcolor\": \"white\", \"gridwidth\": 2, \"linecolor\": \"white\", \"showbackground\": true, \"ticks\": \"\", \"zerolinecolor\": \"white\"}, \"yaxis\": {\"backgroundcolor\": \"#E5ECF6\", \"gridcolor\": \"white\", \"gridwidth\": 2, \"linecolor\": \"white\", \"showbackground\": true, \"ticks\": \"\", \"zerolinecolor\": \"white\"}, \"zaxis\": {\"backgroundcolor\": \"#E5ECF6\", \"gridcolor\": \"white\", \"gridwidth\": 2, \"linecolor\": \"white\", \"showbackground\": true, \"ticks\": \"\", \"zerolinecolor\": \"white\"}}, \"shapedefaults\": {\"line\": {\"color\": \"#2a3f5f\"}}, \"ternary\": {\"aaxis\": {\"gridcolor\": \"white\", \"linecolor\": \"white\", \"ticks\": \"\"}, \"baxis\": {\"gridcolor\": \"white\", \"linecolor\": \"white\", \"ticks\": \"\"}, \"bgcolor\": \"#E5ECF6\", \"caxis\": {\"gridcolor\": \"white\", \"linecolor\": \"white\", \"ticks\": \"\"}}, \"title\": {\"x\": 0.05}, \"xaxis\": {\"automargin\": true, \"gridcolor\": \"white\", \"linecolor\": \"white\", \"ticks\": \"\", \"title\": {\"standoff\": 15}, \"zerolinecolor\": \"white\", \"zerolinewidth\": 2}, \"yaxis\": {\"automargin\": true, \"gridcolor\": \"white\", \"linecolor\": \"white\", \"ticks\": \"\", \"title\": {\"standoff\": 15}, \"zerolinecolor\": \"white\", \"zerolinewidth\": 2}}}, \"width\": 800},                        {\"responsive\": true}                    ).then(function(){\n",
       "                            \n",
       "var gd = document.getElementById('c5f4a16d-3045-4792-af93-42d35b96eb18');\n",
       "var x = new MutationObserver(function (mutations, observer) {{\n",
       "        var display = window.getComputedStyle(gd).display;\n",
       "        if (!display || display === 'none') {{\n",
       "            console.log([gd, 'removed!']);\n",
       "            Plotly.purge(gd);\n",
       "            observer.disconnect();\n",
       "        }}\n",
       "}});\n",
       "\n",
       "// Listen for the removal of the full notebook cells\n",
       "var notebookContainer = gd.closest('#notebook-container');\n",
       "if (notebookContainer) {{\n",
       "    x.observe(notebookContainer, {childList: true});\n",
       "}}\n",
       "\n",
       "// Listen for the clearing of the current output cell\n",
       "var outputEl = gd.closest('.output');\n",
       "if (outputEl) {{\n",
       "    x.observe(outputEl, {childList: true});\n",
       "}}\n",
       "\n",
       "                        })                };                });            </script>        </div>"
      ]
     },
     "metadata": {},
     "output_type": "display_data"
    }
   ],
   "source": [
    "# Creating a 3D-Scatter with the PCA data and the clusters\n",
    "# YOUR CODE HERE\n",
    "fig = px.scatter_3d(clustered_df, x=\"PC 1\", y=\"PC 2\", z=\"PC 3\", hover_name=\"CoinName\", hover_data=[\"Algorithm\"], color=\"class\", symbol=\"class\", width=800)\n",
    "fig.update_layout(legend=dict(x=0, y=1))\n",
    "fig.show()"
   ]
  },
  {
   "cell_type": "code",
   "execution_count": 409,
   "metadata": {},
   "outputs": [
    {
     "data": {},
     "metadata": {},
     "output_type": "display_data"
    },
    {
     "data": {
      "application/vnd.holoviews_exec.v0+json": "",
      "text/html": [
       "<div id='1861'>\n",
       "\n",
       "\n",
       "\n",
       "\n",
       "\n",
       "  <div class=\"bk-root\" id=\"366cfba0-76ac-470e-bfdb-b3ea4995be04\" data-root-id=\"1861\"></div>\n",
       "</div>\n",
       "<script type=\"application/javascript\">(function(root) {\n",
       "  function embed_document(root) {\n",
       "  var docs_json = {\"48732a3a-be90-4c42-990b-3bc21cbcaad0\":{\"roots\":{\"references\":[{\"attributes\":{\"editor\":{\"id\":\"1886\"},\"field\":\"TotalCoinsMined\",\"formatter\":{\"id\":\"1885\"},\"title\":\"TotalCoinsMined\"},\"id\":\"1887\",\"type\":\"TableColumn\"},{\"attributes\":{},\"id\":\"1880\",\"type\":\"StringFormatter\"},{\"attributes\":{},\"id\":\"1890\",\"type\":\"NumberFormatter\"},{\"attributes\":{\"margin\":[5,5,5,5],\"name\":\"HSpacer03075\",\"sizing_mode\":\"stretch_width\"},\"id\":\"1901\",\"type\":\"Spacer\"},{\"attributes\":{},\"id\":\"1865\",\"type\":\"StringFormatter\"},{\"attributes\":{},\"id\":\"1886\",\"type\":\"IntEditor\"},{\"attributes\":{},\"id\":\"1864\",\"type\":\"Selection\"},{\"attributes\":{},\"id\":\"1871\",\"type\":\"StringEditor\"},{\"attributes\":{},\"id\":\"1870\",\"type\":\"StringFormatter\"},{\"attributes\":{\"children\":[{\"id\":\"1862\"},{\"id\":\"1895\"},{\"id\":\"1901\"}],\"margin\":[0,0,0,0],\"name\":\"Row03070\",\"tags\":[\"embedded\"]},\"id\":\"1861\",\"type\":\"Row\"},{\"attributes\":{},\"id\":\"1898\",\"type\":\"UnionRenderers\"},{\"attributes\":{\"source\":{\"id\":\"1863\"}},\"id\":\"1896\",\"type\":\"CDSView\"},{\"attributes\":{},\"id\":\"1881\",\"type\":\"StringEditor\"},{\"attributes\":{},\"id\":\"1876\",\"type\":\"StringEditor\"},{\"attributes\":{},\"id\":\"1891\",\"type\":\"IntEditor\"},{\"attributes\":{\"margin\":[5,5,5,5],\"name\":\"HSpacer03074\",\"sizing_mode\":\"stretch_width\"},\"id\":\"1862\",\"type\":\"Spacer\"},{\"attributes\":{\"editor\":{\"id\":\"1876\"},\"field\":\"ProofType\",\"formatter\":{\"id\":\"1875\"},\"title\":\"ProofType\"},\"id\":\"1877\",\"type\":\"TableColumn\"},{\"attributes\":{\"columns\":[{\"id\":\"1867\"},{\"id\":\"1872\"},{\"id\":\"1877\"},{\"id\":\"1882\"},{\"id\":\"1887\"},{\"id\":\"1892\"}],\"height\":300,\"reorderable\":false,\"source\":{\"id\":\"1863\"},\"view\":{\"id\":\"1896\"},\"width\":700},\"id\":\"1895\",\"type\":\"DataTable\"},{\"attributes\":{},\"id\":\"1875\",\"type\":\"StringFormatter\"},{\"attributes\":{},\"id\":\"1885\",\"type\":\"NumberFormatter\"},{\"attributes\":{\"editor\":{\"id\":\"1866\"},\"field\":\"CoinName\",\"formatter\":{\"id\":\"1865\"},\"title\":\"CoinName\"},\"id\":\"1867\",\"type\":\"TableColumn\"},{\"attributes\":{},\"id\":\"1866\",\"type\":\"StringEditor\"},{\"attributes\":{\"editor\":{\"id\":\"1881\"},\"field\":\"TotalCoinSupply\",\"formatter\":{\"id\":\"1880\"},\"title\":\"TotalCoinSupply\"},\"id\":\"1882\",\"type\":\"TableColumn\"},{\"attributes\":{\"data\":{\"Algorithm\":[\"SHA-256\",\"Lyra2RE\",\"Scrypt\",\"Scrypt\",\"Equihash\",\"SHA-256\",\"Equihash\",\"SHA-256\",\"Equihash\",\"Scrypt\",\"Equihash\",\"Equihash\",\"Scrypt\",\"Scrypt\",\"Scrypt\",\"Scrypt\",\"Lyra2Z\",\"Scrypt\",\"X11\",\"Multiple\",\"CryptoNight\",\"Scrypt\",\"X13\",\"X11\",\"Multiple\",\"X13\",\"X11\",\"SHA-256\",\"PoS\",\"X11\",\"Multiple\",\"CryptoNight-V7\",\"X16R\",\"X11\",\"CryptoNight\",\"CryptoNight\",\"SHA-256\",\"Scrypt\",\"SHA-256\",\"Scrypt\",\"X11\",\"X11\",\"Keccak\",\"CryptoNight\",\"Scrypt\",\"PoS\",\"Multiple\",\"M7 POW\",\"CryptoNight\",\"X16R\",\"X11\",\"XEVAN\",\"Scrypt\",\"Scrypt\",\"CryptoNight-V7\",\"Scrypt\",\"Scrypt\",\"Leased POS\",\"Quark\",\"NIST5\",\"Scrypt\",\"Lyra2REv2\",\"Scrypt\",\"Equihash+Scrypt\",\"Scrypt\",\"X11\",\"NeoScrypt\",\"Quark\",\"NIST5\",\"SHA-256D\",\"Scrypt\",\"VeChainThor Authority\",\"Scrypt\",\"Scrypt\",\"Scrypt\",\"SHA-256\",\"X11\",\"XEVAN\",\"SHA-256\",\"Scrypt\",\"Scrypt\",\"SHA-256\",\"Blake\",\"Multiple\",\"NeoScrypt\",\"SHA-256\",\"X11\",\"NeoScrypt\",\"SHA-512\",\"CryptoNight\",\"SHA-256D\",\"Scrypt\",\"X16R\",\"CryptoNight\",\"Scrypt\",\"X11\",\"X13\",\"Dagger\",\"SHA-256\",\"Scrypt\",\"POS 3.0\",\"X11\",\"X13\",\"PHI1612\",\"SHA-256\",\"Multiple\",\"Scrypt\",\"PoS\",\"Lyra2Z\",\"SHA-256\",\"DPoS\",\"Blake2S\",\"SHA-256\",\"X11\",\"Scrypt\",\"SHA-256\",\"X11\",\"CryptoNight\",\"X11\",\"X13\",\"PoS\",\"Scrypt\",\"X11\",\"X11\",\"NeoScrypt\",\"NeoScrypt\",\"C11\",\"SHA-256\",\"Scrypt\",\"Scrypt\",\"Dagger\",\"Scrypt\",\"Scrypt\",\"Scrypt\",\"Keccak\",\"Scrypt\",\"QuBit\",\"Counterparty\",\"SkunkHash v2 Raptor\",\"Scrypt\",\"X11GOST\",\"Scrypt\",\"Scrypt\",\"PHI1612\",\"Semux BFT consensus\",\"Lyra2REv2\",\"Scrypt\",\"Blake2b\",\"Scrypt\",\"Scrypt\",\"Cryptonight-GPU\",\"Scrypt\",\"Lyra2REv2\",\"Scrypt\",\"X13\",\"Scrypt\",\"Scrypt\",\"Groestl\",\"SHA-256\",\"X11\",\"X11\",\"Scrypt\",\"Ethash\",\"Scrypt\",\"Scrypt\",\"NeoScrypt\",\"X11\",\"PoS\",\"CryptoNight Heavy\",\"POS 3.0\",\"Scrypt\",\"CryptoNight-V7\",\"Quark\",\"Scrypt\",\"NIST5\",\"Scrypt\",\"X11\",\"X11\",\"Scrypt\",\"Scrypt\",\"Scrypt\",\"Scrypt\",\"X16R\",\"SHA-256\",\"Scrypt\",\"SHA-256\",\"Scrypt\",\"Quark\",\"Scrypt\",\"Proof-of-Authority\",\"Scrypt\",\"X11\",\"Scrypt\",\"HMQ1725\",\"CryptoNight\",\"CryptoNight\",\"Scrypt\",\"X11\",\"Dagger\",\"Equihash\",\"X11\",\"X11\",\"PoS\",\"BLAKE256\",\"X11\",\"X11\",\"PoS\",\"Scrypt\",\"Scrypt\",\"X11\",\"DPoS\",\"Scrypt\",\"Scrypt\",\"NeoScrypt\",\"X13\",\"X11\",\"VBFT\",\"X13\",\"Scrypt\",\"Scrypt\",\"Scrypt\",\"SHA-256\",\"SHA-512\",\"Scrypt\",\"PoS\",\"Scrypt\",\"Scrypt\",\"PoS\",\"SHA3\",\"SHA-256\",\"Scrypt\",\"Scrypt\",\"Scrypt\",\"SHA-256\",\"Scrypt\",\"SHA-256\",\"SHA-256\",\"PoS\",\"CryptoNight\",\"CryptoNight\",\"X13\",\"Scrypt\",\"Blake2b\",\"NIST5\",\"SHA-256\",\"DPoS\",\"SkunkHash\",\"X13\",\"X11\",\"Scrypt\",\"Scrypt\",\"Ethash\",\"Scrypt\",\"X11\",\"Scrypt\",\"Scrypt\",\"X11\",\"Scrypt\",\"Scrypt\",\"Scrypt\",\"Scrypt\",\"Jump Consistent Hash\",\"Scrypt\",\"HybridScryptHash256\",\"Scrypt\",\"Ethash\",\"PoS\",\"Scrypt\",\"SHA-256\",\"SHA3\",\"X11\",\"SHA-256\",\"X11\",\"Scrypt\",\"PHI1612\",\"CryptoNight-V7\",\"Scrypt\",\"QuBit\",\"Scrypt\",\"Scrypt\",\"Scrypt\",\"DPoS\",\"Scrypt\",\"CryptoNight Heavy\",\"Scrypt\",\"Scrypt\",\"Skein\",\"Blake\",\"POS 3.0\",\"Scrypt\",\"Scrypt\",\"Scrypt\",\"Scrypt\",\"SHA-256 + Hive\",\"X11\",\"Lyra2Z\",\"SHA-256D\",\"X11\",\"X11\",\"Scrypt\",\"Lyra2REv2\",\"CryptoNight\",\"X13\",\"X15\",\"X11\",\"Equihash\",\"Quark\",\"Scrypt\",\"Scrypt\",\"PoS\",\"POS 2.0\",\"Scrypt\",\"Tribus\",\"SHA-512\",\"NIST5\",\"X11\",\"Multiple\",\"SHA-256\",\"C11\",\"X11\",\"Scrypt\",\"SHA-256\",\"X11\",\"X11\",\"X11\",\"NeoScrypt\",\"Lyra2RE\",\"X11\",\"Scrypt\",\"Scrypt\",\"SHA-256\",\"Scrypt\",\"Scrypt\",\"Scrypt\",\"SHA-256\",\"Scrypt\",\"X11\",\"Lyra2RE\",\"Scrypt\",\"X15\",\"X11\",\"X11\",\"1GB AES Pattern Search\",\"Scrypt\",\"Quark\",\"Scrypt\",\"X11\",\"NeoScrypt\",\"Scrypt\",\"Groestl\",\"Scrypt\",\"Scrypt\",\"NeoScrypt\",\"X14\",\"Scrypt\",\"SHA-256\",\"Scrypt\",\"Scrypt\",\"Lyra2Z\",\"Quark\",\"PHI2\",\"Scrypt\",\"Scrypt\",\"Scrypt\",\"Scrypt\",\"NeoScrypt\",\"X11\",\"Scrypt\",\"Scrypt\",\"Quark\",\"Scrypt\",\"X11\",\"NeoScrypt\",\"NeoScrypt\",\"Scrypt\",\"Scrypt\",\"Scrypt\",\"Scrypt\",\"CryptoNight\",\"PoS\",\"Scrypt\",\"Scrypt\",\"Scrypt\",\"Scrypt\",\"Stanford Folding\",\"X13\",\"SHA3-256\",\"Groestl\",\"Ethash\",\"Exosis\",\"PoS\",\"X11\",\"SHA-256\",\"Scrypt\",\"Ethash\",\"Ethash\",\"536\",\"X11\",\"Scrypt\",\"DPoS\",\"X11\",\"Scrypt\",\"Scrypt\",\"Scrypt\",\"SHA-256\",\"X13\",\"Scrypt\",\"Blake\",\"XEVAN\",\"X11\",\"Ethash\",\"Ethash\",\"X15\",\"Scrypt\",\"SHA-256\",\"Scrypt\",\"NIST5\",\"Scrypt\",\"Scrypt\",\"Scrypt\",\"Argon2d\",\"Scrypt\",\"SHA-256\",\"Quark\",\"QUAIT\",\"X11\",\"Scrypt\",\"NIST5\",\"Groestl\",\"SHA-256\",\"X15\",\"Scrypt\",\"SHA-256\",\"X11\",\"Scrypt\",\"Multiple\",\"Scrypt\",\"PoS\",\"Scrypt\",\"Scrypt\",\"Scrypt\",\"CryptoNight\",\"BLAKE256\",\"Dagger-Hashimoto\",\"SHA-256\",\"Ethash\",\"X11\",\"X11\",\"X11\",\"Quark\",\"X11\",\"QuBit\",\"NIST5\",\"Scrypt\",\"Lyra2RE\",\"CryptoNight-V7\",\"Scrypt\",\"Quark\",\"Scrypt\",\"X11\",\"Equihash\",\"SHA-256\",\"Skein\",\"Scrypt\",\"SHA-256\",\"X11\",\"X11\",\"Multiple\",\"X13\",\"SHA-256D\",\"CryptoNight\",\"Scrypt\",\"Quark\",\"Scrypt\",\"Ethash\",\"SHA-256\",\"X11\",\"Scrypt\",\"Cloverhash\",\"PoS\",\"Scrypt\",\"Scrypt\",\"Scrypt\",\"Scrypt\",\"Scrypt\",\"Quark\",\"SHA-256\",\"SHA-256\",\"NIST5\",\"Scrypt\",\"SHA-256D\",\"Shabal256\",\"XEVAN\",\"Time Travel\",\"TRC10\",\"SHA-512\",\"Skein\",\"Equihash\",\"Equihash\",\"Equihash\",\"Quark\",\"Equihash\",\"Scrypt\",\"SHA-256\",\"SHA-256\",\"Scrypt\",\"Scrypt\",\"NIST5\",\"SHA-256\",\"X11\",\"X11\",\"X11\",\"X13\",\"Scrypt\",\"HMQ1725\",\"Scrypt\",\"X11\",\"Scrypt\",\"Scrypt\",\"Scrypt\",\"Scrypt\",\"Blake\",\"SHA-256\",\"Scrypt\",\"CryptoNight\",\"XEVAN\",\"Green Protocol\",\"CryptoNight\",\"Scrypt\",\"XEVAN\",\"Equihash\",\"CryptoNight\",\"CryptoNight\",\"SHA-256\",\"Scrypt\",\"X13\",\"Scrypt\",\"Blake\",\"Proof-of-BibleHash\",\"Skein\",\"X11\",\"X11\",\"X11\",\"Scrypt\",\"X11\",\"PoS\",\"Quark\",\"SHA-512\",\"DPoS\",\"Scrypt\",\"Scrypt\",\"X11\",\"Scrypt\",\"X11\",\"Tribus\",\"DPoS\",\"Quark\",\"Lyra2Z\",\"PHI1612\",\"X11\",\"ScryptOG\",\"IMesh\",\"Scrypt\",\"Ouroboros\",\"SHA-256\",\"Lyra2Z\",\"Scrypt\",\"Scrypt\",\"X11\",\"Scrypt\",\"Lyra2REv2\",\"Scrypt\",\"ECC 256K1\",\"Scrypt\",\"Scrypt\",\"Scrypt\",\"Scrypt\",\"X13\"],\"CoinName\":[\"ZayedCoin\",\"Zoin\",\"BitZeny\",\"ZoneCoin\",\"ChainZilla\",\"ZetaCoin\",\"Zero\",\"ZEPHYR\",\"Horizen\",\"ZeitCoin\",\"ZCash\",\"ZClassic\",\"ZCC Coin\",\"Zilbercoin\",\"YoCoin\",\"MYCE\",\"ZCoin\",\"WhiteCoin\",\"VirtacoinPlus\",\"Verge\",\"UltraNote\",\"Xt3ch\",\"StealthCoin\",\"Stakenet\",\"SHIELD\",\"Bitcoin Rhodium\",\"Ratecoin\",\"PayCoin\",\"Opair\",\"Enigma\",\"MyriadCoin\",\"Monero\",\"Motion\",\"Monoeci\",\"Monero Classic\",\"LeviarCoin\",\"JouleCoin\",\"Xios\",\"Infinity Economics\",\"HiCoin\",\"GoldReserve\",\"XenixCoin\",\"XDNA\",\"DigitalNote \",\"CoinonatX\",\"Creatio\",\"Crypti\",\"Cryptonite\",\"Cannabis Industry Coin\",\"Xchange\",\"X11 Coin\",\"Bitcoin Incognito\",\"BitcoinPlus\",\"WomenCoin\",\"Webchain\",\"WorldCoin\",\"Wild Beast Coin\",\"Waves\",\"Digiwage\",\"Virta Unique Coin\",\"Vtorrent\",\"Vertcoin\",\"VeriCoin\",\"Vollar\",\"Velox\",\"VaultCoin\",\"VIVO Coin\",\"Vitae\",\"VIP Tokens\",\"TheVig\",\"ViaCoin\",\"Vechain\",\"UltraCoin\",\"Unified Society USDEX\",\"UnitaryStatus Dollar\",\"Ultimate Secure Cash\",\"UroCoin\",\"Urals Coin\",\"Unobtanium\",\"GameUnits\",\"Unify\",\"UnbreakableCoin\",\"Universal Molecule\",\"Unitus\",\"UFO Coin\",\"UnitedBitcoin\",\"Ucoin\",\"TrezarCoin\",\"TWIST\",\"BitTube\",\"Titan Coin\",\"ThunderStake\",\"Trivechain\",\"TurtleCoin\",\"Trollcoin\",\"TruckCoin\",\"Triangles Coin\",\"Travelflex\",\"TerraCoin\",\"TPCash\",\"TokenPay\",\"TorCoin\",\"Tokyo Coin\",\"TittieCoin\",\"TigerCoin\",\"TeslaCoin\",\"TerraNovaCoin\",\"TeamUP\",\"TecraCoin\",\"TigerCash\",\"Lamden Tau\",\"TajCoin\",\"SysCoin\",\"SyncCoin\",\"SexCoin\",\"SwingCoin\",\"SuperCoin\",\"Sumokoin\",\"Sucre\",\"Sativa Coin\",\"Stakecoin\",\"ShareChain\",\"Squall Coin\",\"Spreadcoin\",\"SimpleBank\",\"SparksPay\",\"Stipend\",\"SoonCoin\",\"Song Coin\",\"Sojourn Coin\",\"SoilCoin\",\"SocialCoin\",\"SmileyCoin\",\"SmartCoin\",\"SmartCash\",\"SolarCoin\",\"SLICE\",\"StorjCoin\",\"Signatum\",\"Swisscoin\",\"SibCoin\",\"ShardCoin\",\"Shilling\",\"Seraph\",\"Semux\",\"Scribe Network\",\"Swiscoin\",\"Siacoin\",\"StableCoin\",\"SafeExchangeCoin\",\"Ryo\",\"Revolution VR\",\"Rupee\",\"RonPaulCoin\",\"RoyalCoin\",\"RootCoin\",\"RenosCoin\",\"Riecoin\",\"Revenu\",\"Reliance\",\"Regalcoin\",\"Reddcoin\",\"Reality Clash\",\"Russiacoin\",\"RubyCoin\",\"Rapture\",\"Condensate\",\"Radium\",\"Qwertycoin\",\"QTUM\",\"Quatloo\",\"Quantum Resistant Ledger\",\"QuarkCoin\",\"PhoenixCoin\",\"PWR Coin\",\"PutinCoin\",\"Pushi\",\"Pura\",\"PesetaCoin\",\"Poseidon\",\"PesoBit\",\"Printerium\",\"Proton\",\"ProCurrency\",\"ProsperCoin\",\"Project Pai\",\"PotCoin\",\"Poseidon Quark\",\"PopularCoin\",\"Poa Network\",\"Peony Coin\",\"PhantomX\",\"PandaCoin\",\"PlusOneCoin\",\"PluraCoin\",\"PlatinCoin\",\"PLNCoin\",\"PizzaCoin\",\"Pirl\",\"PirateCash\",\"PinkCoin\",\"Piggy Coin\",\"Phreak\",\"Photon\",\"Pioneer Coin\",\"PAXEX\",\"Particl\",\"Parlay\",\"Pakcoin\",\"PacCoin\",\"Oxycoin\",\"Oduwa\",\"OsmiumCoin\",\"Orbitcoin\",\"OpalCoin\",\"Onix\",\"Ontology\",\"DeepOnion\",\"Omni\",\"OmiseGO Classic\",\"OmniCron\",\"OKCash\",\"Obsidian\",\"OrangeCoin\",\"Zealium\",\"NewYorkCoin\",\"NyanCoin\",\"Nxt\",\"Nexus\",\"Neutron\",\"Nasdacoin\",\"Dnotes\",\"NobleCoin\",\"Namecoin\",\"Gulden\",\"IncaKoin\",\"NeosCoin\",\"Nebuchadnezzar\",\"Newton Coin\",\"Niobio Cash\",\"NavCoin\",\"Nautilus Coin\",\"Nano\",\"NamoCoin\",\"MazaCoin\",\"Muse\",\"MUNcoin\",\"MudraCoin\",\"MustangCoin\",\"MasterCoin\",\"Mercoin\",\"Media Protocol Token\",\"MoonCoin\",\"Monkey Project\",\"MoneyCoin\",\"MonaCoin\",\"MindCoin\",\"MMOCoin\",\"MintCoin\",\"MinCoin\",\"XiaoMiCoin\",\"MassGrid\",\"MedicCoin\",\"MediterraneanCoin\",\"MegaCoin\",\"1717 Masonic Commemorative Token\",\"MacronCoin\",\"My Big Coin\",\"Theresa May Coin\",\"MaxCoin\",\"MarsCoin \",\"Manna\",\"Magnet\",\"Lynx\",\"LUXCoin\",\"Lethean\",\"LiteCoin Ultra\",\"LiteCreed\",\"Listerclassic Coin\",\"Litecoin\",\"Litebar \",\"Lisk\",\"LottoCoin\",\"Loki\",\"LomoCoin\",\"LuckyCoin\",\"Lizus Payment\",\"Lithium\",\"Let it Ride\",\"Linx\",\"Linda\",\"LiteDoge\",\"Litecoin Plus\",\"LitecoinCash\",\"Lutetium Coin\",\"LAPO\",\"LanaCoin\",\"KushCoin\",\"Kurrent\",\"Kronecoin\",\"KREDS\",\"Karbo\",\"Kore\",\"KoboCoin\",\"BetKings\",\"Komodo\",\"Kalkulus\",\"KiloCoin\",\"KrugerCoin\",\"Ketan\",\"KekCoin\",\"Klingon Empire Darsek\",\"KEYCO\",\"Kcash\",\"Jumpcoin\",\"Junson Ming Chan Coin\",\"JoinCoin\",\"IXcoin\",\"Interzone\",\"IslaCoin\",\"IrishCoin\",\"Internet of People\",\"IOCoin\",\"Insane Coin\",\"InsaneCoin\",\"Innova\",\"Infinex\",\"Impact\",\"Independent Money System\",\"Impeach\",\"ILCoin\",\"Infinite Coin\",\"Ignition\",\"iBankCoin\",\"I0coin\",\"HyperCoin\",\"HyperStake\",\"HexxCoin\",\"HollyWoodCoin\",\"HTML5 Coin\",\"Hitcoin\",\"HappyCoin\",\"HOdlcoin\",\"HexCoin\",\"HerbCoin\",\"HoboNickels\",\"Halloween Coin\",\"GunCoin\",\"GrowthCoin\",\"Groestlcoin\",\"GreenCoin\",\"GPU Coin\",\"GoaCoin\",\"GanjaCoin V2\",\"GambleCoin\",\"GlobalToken\",\"GoldCoin\",\"GlobalCoin\",\"GINcoin\",\"Giant\",\"Gexan\",\"GermanCoin\",\"Genstake\",\"GrandCoin\",\"gCn Coin\",\"GoByte\",\"GoldBlocks\",\"Gapcoin\",\"Gamecredits\",\"Galilel\",\"GAKHcoin\",\"FuturoCoin\",\"FeatherCoin\",\"FriendshipCoin\",\"Frankywillcoin\",\"FirstCoin\",\"Francs\",\"Franko\",\"FREDEnergy\",\"FreeCoin\",\"FrazCoin\",\"FlutterCoin\",\"Flo\",\"BitFlip\",\"Folding Coin\",\"FindCoin\",\"Fiii\",\"FairCoin\",\"Expanse\",\"Exosis\",\"Exclusive Coin\",\"EUNO\",\"Eurocoin\",\"Ethereum Dark\",\"Ethereum\",\"Ethereum Classic\",\"Espers\",\"EuropeCoin\",\"EquiTrader\",\"EOS\",\"Eternity\",\"EnergyCoin\",\"Emerald\",\"Einsteinium\",\"Emercoin\",\"EmberCoin\",\"EmaratCoin\",\"Electron\",\"Ellerium\",\"Elements\",\"Ellaism\",\"Elementrem\",\"EverGreenCoin\",\"E-Gulden\",\"EDRCoin\",\"ECC\",\"Electra\",\"eBoost\",\"EB3coin\",\"EarthCoin\",\"Dynamic\",\"DivotyCoin\",\"DevCoin\",\"Dystem\",\"Droidz\",\"DigitalPrice\",\"DopeCoin\",\"Denarius\",\"Diamond\",\"DollarCoin\",\"Dekado\",\"Diggits\",\"CarpeDiemCoin\",\"DigiMoney\",\"Digitalcoin \",\"DigiByte\",\"Draftcoin\",\"Deviant Coin\",\"Deimos\",\"iDealCash\",\"Degas Coin\",\"Dinastycoin\",\"Decred\",\"DubaiCoin\",\"DubaiCoin\",\"DaxxCoin\",\"Dash Platinum\",\"Dash\",\"DAS\",\"DACH Coin\",\"DACash\",\"CypherPunkCoin\",\"Coinonat\",\"Crypto Wisdom Coin\",\"Crypto\",\"Citadel\",\"CarterCoin\",\"Crypto Sports\",\"CasinoCoin\",\"CryptCoin\",\"CrypticCoin\",\"Crown Coin\",\"Cream\",\"Credit\",\"Credence Coin\",\"Creditbit \",\"CapriCoin\",\"Circuits of Value\",\"Paycon\",\"Cognitio\",\"BitCoal\",\"Cash & Back Coin\",\"Cosmo\",\" ClubCoin\",\"Callisto Network\",\"Clockcoin\",\"Crypto Improvement Fund\",\"OpenChat\",\"ChanCoin\",\"CoffeeCoin\",\"Crypto Escudo\",\"Canada eCoin\",\"CannaCoin\",\"CryptoBullion\",\"Catcoin\",\"Carebit\",\"BitTokens\",\"BitcoinWSpectrum\",\"Bulwark\",\"BeaverCoin\",\"BuzzCoin\",\"BurstCoin\",\"Bettex coin\",\"Bitcore\",\"BitTorrent\",\"Bitshares\",\"Bitcoin Planet\",\"Bitrolium\",\"Bithereum\",\"Bitcoin Gold\",\"Bitcloud 2.0\",\"BitcoinZ\",\"BitCurrency\",\"BitcoinDark\",\"Bitcoin\",\"BitBar\",\"Bata\",\"Bitspace\",\"Bitcoin SV\",\"BitSoar Coin\",\"BitSend\",\"BowsCoin\",\"BritCoin\",\"Briacoin\",\"Brazio\",\"BoxyCoin\",\"BolivarCoin\",\"BlueCoin\",\"Block-Logic\",\"BillaryCoin\",\"BlackholeCoin\",\"BlakeCoin\",\"BLAST\",\"BitstarCoin\",\"Bitcoin Nova\",\"BitMoney\",\"Bitcoin Green\",\"Bikercoins\",\"BenjiRolls\",\"Beetle Coin\",\"Beam\",\"Beldex\",\"ByteCoin\",\"Bitcoin Cash\",\"BitcoinFast\",\"Bitcoin Diamond\",\"BitConnect Coin\",\"BlakeBitcoin\",\"BiblePay\",\"BashCoin\",\"Azart\",\"Axe\",\"Award\",\"Aurora Coin\",\"ArtexCoin\",\"Atmos\",\"Allsafe\",\"Arionum\",\"ARK\",\"ArgusCoin\",\"Argentum\",\"ARENON\",\"AquariusCoin\",\"ArcticCoin\",\"Averopay\",\"ALAX\",\"Alqo\",\"Alpenschillling\",\"Argoneum\",\"Adzcoin\",\"Aiden\",\"Aidos Kuneen\",\"AudioCoin\",\"Cardano\",\"Anarchists Prime\",\"Actinium\",\"Accolade\",\"AdCoin\",\"AC3\",\"ArtByte\",\"Absolute Coin\",\"Abjcoin\",\"Acute Angle Cloud\",\"8BIT Coin\",\"42 Coin\",\"404Coin\",\"1Credit\",\"EliteCoin\"],\"ProofType\":[\"PoW\",\"PoW\",\"PoW\",\"PoW/PoS\",\"DPoW\",\"PoW\",\"PoW\",\"DPoS\",\"PoW\",\"PoS\",\"PoW\",\"PoW\",\"PoW/PoS\",\"PoS\",\"PoW\",\"PoW/PoS\",\"PoW\",\"PoW/PoS\",\"PoW/PoS\",\"PoW\",\"PoW\",\"PoS\",\"PoW/PoS\",\"TPoS\",\"PoW\",\"PoW\",\"PoW/PoS\",\"PoS\",\"PoS\",\"PoW/PoS\",\"PoW\",\"PoW\",\"PoW\",\"PoW/PoS\",\"PoW\",\"PoW\",\"PoW\",\"PoW/PoS\",\"PoS\",\"PoS\",\"PoW/PoS\",\"PoW/PoS\",\"PoW/PoS\",\"PoW\",\"PoW/PoS\",\"PoS\",\"PoS\",\"PoW\",\"PoW\",\"PoW\",\"PoW/PoS\",\"PoS/PoW\",\"PoS\",\"PoW/PoS\",\"PoW\",\"PoW\",\"PoW\",\"LPoS\",\"PoS\",\"PoW/PoS\",\"PoW/PoS\",\"PoW\",\"PoST\",\"PoW\",\"PoS\",\"PoW\",\"PoW\",\"PoS\",\"PoW/PoS\",\"PoW/PoS\",\"PoW\",\"Proof of Authority\",\"PoW/PoS\",\"PoW/PoS\",\"PoW/PoS\",\"PoS\",\"PoW\",\"PoW\",\"PoW\",\"PoW/PoS\",\"PoW\",\"PoW\",\"PoW\",\"PoW\",\"PoW\",\"PoW\",\"PoS\",\"PoW/PoS\",\"PoS\",\"PoW\",\"PoW/PoS\",\"PoW/PoS\",\"PoW/PoS\",\"PoW\",\"PoW/PoS\",\"PoW/PoS\",\"PoW/PoS\",\"PoW\",\"PoW\",\"PoW/PoS\",\"PoS\",\"PoW/PoS\",\"PoS\",\"PoS\",\"PoW\",\"PoS\",\"PoW/PoS\",\"PoS\",\"PoW\",\"PoS\",\"DPoS\",\"PoW/PoS\",\"PoW\",\"PoW/PoS\",\"PoW\",\"PoW/PoS\",\"PoS\",\"PoW\",\"PoW\",\"PoW/PoS\",\"PoS\",\"PoW\",\"PoS/PoW\",\"PoW\",\"PoW/PoS\",\"PoW\",\"PoW/PoS\",\"PoW\",\"PoW\",\"PoW\",\"PoW\",\"PoW\",\"PoW\",\"PoW\",\"PoW\",\"PoW\",\"PoW\",\"PoS\",\"PoS\",\"PoW/PoS\",\"PoW\",\"PoS\",\"PoW\",\"PoW/PoS\",\"DPoS\",\"PoW\",\"PoW/PoW\",\"PoW\",\"PoW\",\"PoC\",\"PoW\",\"PoW\",\"PoS\",\"PoW\",\"PoS\",\"PoW/PoS\",\"PoS\",\"PoW\",\"PoW/PoS\",\"PoS\",\"PoW/PoS\",\"PoW/PoS\",\"PoW\",\"PoW/PoS\",\"PoS\",\"PoW\",\"PoW/PoS\",\"PoS\",\"PoW\",\"PoS\",\"PoW\",\"PoW\",\"PoW\",\"PoW/PoS\",\"PoW/PoS\",\"PoW/PoS\",\"PoW/PoS\",\"PoW\",\"PoW\",\"PoW\",\"PoW/PoS\",\"PoW/PoS\",\"PoS\",\"PoS\",\"PoW\",\"PoW\",\"PoW/PoS\",\"PoS\",\"PoW\",\"PoA\",\"PoS\",\"PoW/PoS\",\"PoS\",\"PoW\",\"PoW\",\"PoW\",\"PoW/PoS\",\"PoW\",\"PoW\",\"PoS\",\"PoW/PoS\",\"PoW/PoS\",\"PoS\",\"PoW\",\"PoW\",\"PoS\",\"PoS\",\"PoS\",\"PoW\",\"PoW\",\"DPoS\",\"PoW/PoS\",\"PoW\",\"PoW/PoS\",\"PoW/PoS\",\"PoW\",\"PoS\",\"PoW/PoS\",\"PoW\",\"PoW/PoS\",\"PoW\",\"PoW/PoS\",\"PoS\",\"PoW/PoS\",\"PoS\",\"PoW\",\"PoW\",\"PoS/LPoS\",\"PoW/nPoS\",\"PoW/PoS\",\"PoW/PoS\",\"PoS\",\"PoW\",\"PoW\",\"PoW\",\"PoW/PoS\",\"PoS\",\"PoS\",\"PoW\",\"PoW\",\"PoW/PoS\",\"PoS\",\"PoW\",\"PoW/PoS\",\"PoW/PoS\",\"PoS\",\"PoW\",\"PoS\",\"PoW/PoS\",\"PoW\",\"PoW/PoS\",\"PoW\",\"PoW\",\"PoS\",\"PoW/PoS\",\"PoW\",\"PoW\",\"PoS\",\"PoS\",\"PoW\",\"PoW/PoS\",\"PoW\",\"PoS\",\"PoW\",\"PoW\",\"PoS\",\"PoS\",\"PoW and PoS\",\"PoW/PoS\",\"PoW/PoS\",\"PoW\",\"PoW\",\"PoW/PoS\",\"HPoW\",\"PoW/PoS\",\"PoW\",\"PoW/PoS\",\"PoW/PoS\",\"PoW/PoS\",\"PoW\",\"PoW\",\"DPoS\",\"PoW\",\"PoW\",\"PoW/PoS\",\"PoW\",\"PoW/PoS\",\"PoW\",\"PoS\",\"PoW\",\"PoW/PoS\",\"PoW/PoS\",\"PoW/PoS\",\"PoW + Hive\",\"PoS\",\"PoW/PoS\",\"PoW/PoS\",\"PoW/PoS\",\"PoW\",\"PoW\",\"PoW\",\"PoW\",\"PoW/PoS\",\"PoW/PoS\",\"PoS\",\"dPoW/PoW\",\"PoS\",\"PoW\",\"PoW\",\"PoS\",\"PoS\",\"PoW/PoS\",\"PoW\",\"Zero-Knowledge Proof\",\"PoW\",\"PoS\",\"PoW\",\"PoW\",\"PoW\",\"PoW/PoS\",\"PoW\",\"PoW/PoS\",\"PoW/PoS\",\"PoW/PoS\",\"PoW/PoS\",\"PoW\",\"PoW\",\"PoW/PoS\",\"PoW/PoS\",\"PoW/PoS\",\"PoW\",\"PoW\",\"PoW/PoS\",\"PoW/PoS\",\"PoW\",\"PoW/PoS\",\"PoS\",\"PoW\",\"PoS\",\"PoW/PoS\",\"PoW/PoS\",\"PoW/PoS\",\"PoW\",\"PoW\",\"PoW/PoS\",\"PoW/PoS\",\"PoW/PoS\",\"PoW\",\"PoS\",\"PoW\",\"PoW\",\"PoS\",\"PoW\",\"PoW/PoS\",\"PoS\",\"PoW\",\"PoW\",\"PoW\",\"PoW\",\"PoW/PoS\",\"PoW/PoS\",\"PoW/PoS\",\"PoW/PoS\",\"PoW\",\"PoW\",\"PoW\",\"PoW/PoS\",\"PoW/PoS\",\"PoW\",\"PoW/PoS\",\"PoW/PoS\",\"PoW\",\"PoW\",\"PoW/PoS\",\"PoW/PoS\",\"PoW/PoS \",\"PoW\",\"PoW\",\"PoW\",\"PoS\",\"PoW\",\"PoS/PoW/PoT\",\"PoW\",\"PoW\",\"PoW\",\"PoS\",\"DPoC\",\"PoW/PoS\",\"PoW\",\"PoW\",\"PoS\",\"PoW/PoS\",\"PoW/PoS\",\"PoW/PoS\",\"PoW\",\"PoW\",\"PoW/PoS\",\"PoW/PoS\",\"PoW\",\"DPoS\",\"PoW/PoS\",\"PoW/PoS\",\"PoW\",\"PoW\",\"PoW/PoS\",\"PoW/PoS\",\"PoW/PoS\",\"PoW\",\"PoW/PoS\",\"PoW\",\"PoW\",\"PoW\",\"PoW/PoS\",\"PoW\",\"PoW/PoS\",\"PoS\",\"PoW/PoS\",\"PoW\",\"PoW\",\"PoW\",\"PoW\",\"PoW/PoS\",\"PoW\",\"PoS\",\"PoW/PoS\",\"PoW\",\"PoW\",\"PoW/PoS\",\"PoW/PoS\",\"PoW\",\"PoS\",\"PoS\",\"PoW\",\"PoW/PoS\",\"PoW\",\"PoW\",\"PoS\",\"PoS\",\"PoW\",\"PoW/PoS\",\"PoW/PoS\",\"PoW\",\"PoW/PoS\",\"PoW\",\"PoW/PoS\",\"PoW\",\"PoS\",\"PoW/PoS\",\"PoW\",\"PoS\",\"PoW\",\"PoW\",\"PoW\",\"PoW\",\"PoW\",\"PoW\",\"PoW/PoS\",\"PoS\",\"PoC\",\"PoW\",\"PoW\",\"PoW\",\"PoW/PoS\",\"PoW/PoS\",\"PoW/PoS\",\"Proof of Trust\",\"PoW/PoS\",\"PoW\",\"PoW/PoS\",\"PoW/PoS\",\"PoW\",\"PoW/PoS\",\"PoW\",\"PoW/PoS\",\"PoW\",\"PoW/PoS\",\"PoW\",\"PoW/PoS\",\"PoW\",\"PoS\",\"PoW\",\"PoW\",\"PoW\",\"PoW/PoS\",\"PoW\",\"PoW/PoS\",\"PoW/PoS\",\"PoS\",\"PoS\",\"PoW\",\"PoW/PoS\",\"PoC\",\"PoS\",\"PoW\",\"DPoS\",\"PoS\",\"PoW/PoS\",\"PoW\",\"PoW\",\"PoW\",\"PoW/PoS\",\"PoW\",\"PoS\",\"PoW/PoS\",\"PoW\",\"PoW/PoS\",\"PoW\",\"PoW/PoS\",\"PoW\",\"PoS\",\"PoW/PoS\",\"PoW\",\"PoW/PoS\",\"PoW/PoS\",\"PoW\",\"PoW\",\"PoW\",\"PoW/PoS\",\"PoW\",\"PoW/PoS\",\"PoW/PoS\",\"PoW\",\"PoW\",\"PoW/PoS\",\"PoW\",\"Pos\",\"PoS\",\"PoW\",\"PoW\",\"PoW/PoS\",\"PoW\",\"PoW\",\"PoW\",\"PoW\",\"PoW/PoS\",\"PoW/PoS\",\"PoW/PoS\",\"PoW\",\"POBh\",\"PoW/PoS\",\"PoW\",\"PoW\",\"PoW/PoS\",\"PoW/PoS\",\"PoW\",\"PoS\",\"PoS\",\"PoW\",\"DPoS\",\"PoW/PoS\",\"PoW\",\"PoS\",\"PoW/PoS\",\"PoW\",\"PoW/PoS\",\"DPoS\",\"PoW/PoS\",\"PoW\",\"PoW\",\"PoW\",\"PoW\",\"PoW\",\"PoW/PoS\",\"PoS\",\"PoW\",\"PoW\",\"PoW/PoS\",\"PoW\",\"PoW\",\"PoW\",\"PoW/PoS\",\"PoW/PoS\",\"DPOS\",\"PoW/PoS\",\"PoW/PoS\",\"PoW/PoS\",\"PoW\",\"PoW/PoS\"],\"TotalCoinSupply\":[\"9736000\",\"21000000\",\"250000000\",\"21000000\",\"11000000\",\"169795588\",\"17000000\",\"2000000000\",\"21000000\",\" 99000000000\",\"21000000\",\"21000000\",\"1000000000\",\"55000000\",\"168351300\",\"250000000\",\"21400000\",\"300000000\",\"100000000\",\"16555000000\",\"85000000000\",\"44000000\",\"0\",\"76500000\",\"660000000\",\"2100000\",\"75000000\",\"12500000\",\"74000000\",\"5000000\",\"2000000000\",\"0\",\"22075700\",\"9507271\",\"18400000\",\"54000000\",\"45000000\",\"21000000\",\"9000000000\",\"10008835635\",\"40000000\",\"3853326.77707314\",\"366000000\",\"10000000000\",\"48252000\",\"20000000\",\"0\",\"1840000000\",\"21000000\",\"100000000\",\"5500000\",\"21000000\",\"1000000\",\"25000000000\",\"1750000000\",\"265420800\",\"2628000\",\"100000000\",\"120000000\",\"120000000\",\"20000000\",\"84000000\",\"0\",\"2100000000\",\"124000000\",\"1000000000\",\"27000000\",\"100000000\",\"90000000\",\"100000000\",\"23000000\",\"86712634466\",\"100000000\",\"232000000\",\"1600000000\",\"200084200\",\"0\",\"210000000\",\"250000\",\"13000000\",\"19276800\",\"80000000\",\"105120001.44\",\"0\",\"4000000000\",\"20166000\",\"20000000\",\"400000000\",\"200000000\",\"1000000000\",\"5000000000\",\"18000000000\",\"82546564\",\"1000000000000\",\"900000000\",\"0\",\"120000\",\"100000000\",\"42000000\",\"1000000000\",\"25000000\",\"10000000\",\"800000000\",\"2300000000\",\"47011968\",\"100000000\",\"15733333\",\"301000000\",\"210000000\",\"1000000000\",\"500000000\",\"36900000\",\"888000000\",\"1000\",\"250000000\",\"40000000\",\"0\",\"88888888\",\"19800000\",\"10000000\",\"61599965\",\"10000000000\",\"0\",\"20000000\",\"21000000\",\"21000000\",\"19340594\",\"21000000\",\"210240000\",\"10500000000\",\"30000000\",\" 75000000\",\"50000000000\",\"51200000\",\"5000000000\",\"98100000000\",\"100000000\",\"500000000\",\"137500000\",\"10200000000\",\"24000000\",\"900000000\",\"30000000\",\"32000000\",\"100000000\",\"32700000\",\"3100000000\",\"0\",\"250000000\",\"2147483647\",\"88188888\",\"210000000\",\"24000000\",\"21000000\",\"2500124\",\"0\",\"34426423\",\"84000000\",\"222725000\",\"62000000\",\"27000000\",\"0\",\"24487944\",\"144000000\",\"0\",\"21000000\",\"500000000\",\"9000000\",\"184470000000\",\"100000000\",\"100000000\",\"105000000\",\"247000000\",\"98000000\",\"0\",\"2000000000\",\"25000000\",\"350000000\",\"166386000\",\"21000000\",\"0\",\"20000000\",\"45000000\",\"75000000000\",\"21000000\",\"2100000000\",\"420000000\",\"650000000 \",\"4999999999\",\"252460800\",\"16880000000\",\"50000000\",\"32514916898\",\"21000000\",\"1000000000\",\"600000518\",\"38540000 \",\"25000000\",\"156306732.71\",\"105000000\",\"500000000\",\"1000000000\",\"30000000\",\" 90000000000\",\"23000000\",\"100000000\",\"8634140\",\"30000000\",\"182000000\",\"100000000000\",\"0\",\"21000000\",\"2714286\",\"3770000\",\"0\",\"1100000000\",\"1000000000\",\"18898187.6216583\",\"616448\",\"70000000\",\"3371337\",\"105000000\",\"91388946\",\"200000000\",\"80000000\",\"0\",\"337000000\",\"1000000000\",\"78000000\",\"68000000\",\"84000000\",\"500000000\",\"15000000000\",\"21000000\",\"1680000000\",\"190000000\",\"21000000\",\"20000000\",\"184000000000\",\"336000000\",\"0\",\"16180000\",\"340282367\",\"1200000000\",\"2419200000\",\"18081806 \",\"16600000\",\"200000000\",\"3000000\",\"619478\",\"100000000\",\"10000000000\",\"384000000000\",\"21000000\",\"650659833\",\"105120000\",\"16000000\",\"260000000\",\"0\",\"10000000\",\"400000000\",\"168000000\",\"500000000\",\"200000000\",\"42000000\",\"1618033\",\"400000000\",\"30000000\",\"100000000\",\"100000000\",\"33000000\",\"10044655075.56243680\",\"144000000\",\"92000000000\",\"60000000\",\"999481516\",\"150000000\",\"78835200\",\"110000000\",\"84000000\",\"1350000\",\"159918400\",\"18406979840\",\"150000000\",\"1000000000\",\"20000000\",\"69000000\",\"25228800\",\"33500000\",\"100000000\",\"50000000000\",\"35000000000\",\"4000000\",\"840000000\",\"657000000\",\"100000000000\",\"7506000000\",\"9354000\",\"228000000\",\"84000000\",\"1100000000\",\"10000000\",\"12000000\",\"350000000\",\"8148139\",\"200000000\",\"20000000\",\"10000000000\",\"265420800\",\"210000000\",\"21000000\",\"500000000\",\"18000000\",\"1000000000\",\"21000000\",\"0\",\"2800000\",\"21000000\",\"23000000\",\"0\",\"64000000\",\"21000000\",\"22000000\",\"30000000\",\"30000000\",\"45000000\",\"26280000\",\"110000000\",\"21212121\",\"21933333\",\"2500000000\",\"90600000000\",\"5000000\",\"44333333\",\"21000000\",\"0\",\"0\",\"9999999\",\"26000000\",\"90000000000\",\"26550000000\",\"100000000\",\"81962100\",\"22105263\",\"54000000\",\"120000000\",\"1500000000\",\"500000000\",\"2000000000\",\"105000000\",\"10000000000\",\"221052632\",\"32000000\",\"100000000\",\"15600000\",\"168000000\",\"72245700\",\"70000000\",\"10500000\",\"5151000\",\"21000000\",\"50000000000\",\"15000000\",\"1420609614\",\"200000000000\",\"31800000\",\"50000000\",\"250000000\",\"84000000\",\"19035999\",\"3315789\",\"100000000\",\"336000000\",\"60168145\",\"100000000\",\"110000000\",\"20000000\",\"11235813\",\"8080000000\",\"50000000\",\"20000000\",\"0\",\"160000000\",\"40000000\",\"1000000000\",\"14524851.4827\",\"5000000000\",\"0\",\"16906397\",\"21000000\",\"0\",\"50000000\",\"20000000\",\"4200000\",\"0\",\"210000000\",\"50000000000\",\"384000000\",\"72000000\",\"0\",\"60000000\",\"0\",\"32000000\",\"299792458\",\"1000000000\",\"850000000\",\"84000000\",\"7000000000\",\"60000000\",\"1800000000\",\"280000000\",\"26205539\",\"26298000\",\"21000000 \",\"22000000\",\"25000000000\",\"30000000000\",\"100000000\",\"4000000000\",\"13500000000\",\"0\",\"100000000\",\"21000000000\",\"21000000\",\"5060000\",\"100000000\",\"200000000\",\"10000000\",\"4380000\",\"10638298\",\"90000000\",\"100000000\",\"21626280000 \",\"25000000\",\"48166000\",\"21000000000\",\"17405891.19707116\",\"88000000\",\"1000000000\",\"5121951220\",\"105000000\",\"2000000000\",\"21000000\",\"2232901\",\"10500000\",\"10000000000\",\"19700000\",\"22000000\",\"18900000\",\"38000000\",\"50000000\",\"0\",\"48252000\",\"24000000\",\"65789100\",\"185000000\",\"90000000\",\"13370000\",\"40000000000\",\"18000000\",\"7600000000\",\"42000000\",\"100000000\",\"74800000000\",\"25000000\",\"16504333\",\"208000000\",\"1200000000\",\"50000000\",\"7500000\",\"12500000\",\"210000000\",\"11892000\",\"160000000\",\"6500000000\",\"525000000\",\"500000000\",\"1000000000\",\"30000000\",\"39999898\",\"1000000000\",\"100000000 \",\"13140000\",\"1000000\",\"21000000 \",\"200000000\",\"21000000\",\"100262205\",\"27716121\",\"3360000\",\"20000000000\",\"2158812800\",\"50000000\",\"21000000\",\"990000000000\",\"3600570502\",\"100000000\",\"70000000\",\"30886000\",\"21000000\",\"200000000\",\"21000000000\",\"0\",\"22000000\",\"21000000\",\"500000\",\"5000000\",\"50000000\",\"21000000\",\"3980000000\",\"139000000\",\"21000000\",\"30000000\",\"3000000\",\"207000000\",\"100000000\",\"25000000\",\"0\",\"120000000\",\"42000000\",\"14788275.991\",\"7000000000\",\"64000000\",\"54256119\",\"1000000000\",\"70000000000\",\"21000000\",\"25000000\",\"35520400\",\"500000000\",\"262800000\",\"1400222610\",\"184467440735\",\"21000000\",\"33000000\",\"210000000\",\"28000000\",\"21000000\",\"5200000000\",\"72000000\",\"25000000\",\"21000000\",\"420000000\",\"16768584\",\"500000000\",\"110290030\",\"15000000\",\"545399000\",\"125000000\",\"28600000\",\"64000000\",\"55000000\",\"42000000\",\"60000000\",\"36500000\",\"1000000000\",\"57879300\",\"300000000\",\"64000000\",\"84000000\",\"84000000\",\"25000000\",\"10500000000\",\"45000000000\",\"53760000\",\"84000000\",\"50000000\",\"100000000\",\"550000000\",\"1000000000\",\"52500000\",\"30000000\",\"1000000000\",\"0\",\"42\",\"532000000\",\"92000000000\",\"314159265359\"],\"TotalCoinsMined\":[6243840,18545757,75614500,2581970,11000068,170204389,6921653,1999999995,7296537,36971236046,7383056,5613550,147990237,2922613,636462,63613903,7568281,252005564,13162749,15929530669,19281821413,7630000,33093725,75590369,481730566,1170292,134554941,11995334,74033806,814671,1688254250,17201143,8125865,12569262,16016864,14161803,39195739,2149688,8999999990,10000244677,17171382,3853326,4672513,6906587610,19539588,20000000,100000000,708506520,978145,9753753,6950831,10904963,128326,48459472454,15580199,119606941,181919,100000000,27299680,62942075,11604722,51173723,32021108,100000000,25570013,30385540,4165967,66053877,83450403,33238183,23150892,55454734800,50235211,234846265,1098952592,10343113,1207310,14746153,200911,3472983,18133195,2278150,1578281,65113302,3824685012,20166000,2689812,182638400,200000000,80049082,896361168,1059954080,36923120,53139835213,591022748,242574105,140777,107325266,22935396,5403802,20445861,1431851,230298925,1622326490,43536800,80260463,1140734,17818682,40874452,1000000000,288090567,12184195,563336541,1177,128940951,4377081,50707661,8946653,4229040,7096834,4000000,10000000000,329200,11149733,2381470,7847417,11251342,12462620,32565300,485214,5702048,5167775,29583989322,25593737,2241009149,55565076,12925790,51173144,107972766,10200000000,17263355,24924986,11119200,1360250,1231147,6040583,665200057,33098296530,24215181,2147483647,4890897,210000000,24000000,1104157,2500124,1939889,36050365,49548585,1195525,7256580,7262402,29315567169,24487944,8377873,27184490,4478901,121665451,3821245,99553110528,100000000,7357794,69036016,259557164,73959274,10069449031,813092338,2167827,175215859,137517654,4070212,33522957,11821728,4403800,100545745,5768310,2100000000,222677226,2716264,3964201248,204479039,1042012,45174214,33813143821,8645406,560085952,84300,17089600,1377917,33986980,13475920,436353624,494240666,11390225,30089671530,8478104,4504639,9283137,3783270,69684455,536982074,1122382283,14777549,894026,3220616,15156364,122475638,650848625,21917018,616448,49933217,10140044,74676064,25000000,3537150,11075254,143006669741,334709223,1000000000,63657220,39121694,20546528,174646113,2366066305,14736400,415032420,17939725045,4392258,20000000,41294520017,133932467,66087096,16180000,133248297,560563220,1613836099,18194936,4818338,5000000,657636,619478,25330252,10000000000,88,4407252,10914418,68194674,15867695,107763867,21293925445,5804204,404316475,135862416,267297676,40431856,38151999,1618033,401421401,9399342,92050800,61445805,32221574,2360478328,38198594,77872059787,8305775,441250233,8419402,30227750,8094818,63039243,1104344,120012140,14491014421,19153632,500000,19326319,2985970,15846721,38589808,33716526,9044930943,15318887081,2504486,638382332,657000000,11086825523,1082162635,5659096,61364813,17453749,643795911,7822432,2022464,25542535,11359634,115898131,16955764,196297971,151447649,9327131,12330806,23965372,795447,1000000000,21069346,17209923728,3332922,21089348,11916588,1513704,45483049,2526078,17650913,23775960,18342813,6375259,5097689,110630387,5368934,308179,1317747500,90595753018,1182153,4526324,20997476,9631199,1678520090,1876146,38706809,40659020000,10996318099,21521322,11448949,1416663,35312185,89266933,264678458,299797953,295135466,73298203,4610340640,40477042,3982139,100000000,8240763,84613099,41658647,65672720,6986399,5919489,2233828,4911500269,60000000,884125802,163055097500,5832306,15563873,14931046,69836100,18265011,3315789,31801461,208669093,1120385,100000000,110000000,6570807,1142732,1867054873,50000000,9704042,461829905,152270664,12446100,719416990,14524851,-5917977547,53193831,10495278,406091,5679705,30771125,12416554,4200000,107684222,113359703,22801882871,10407269,13673406,1020544523,6069482,123062801,19496786,218871896,43059794,92192822723,21599339,24156921,419275,2702855668,12756367,26205539,13530556,20910478,3669691,25000000000,28399150208,99990001,64096052,12539015186,19784224,21491213,18773857500,7082392,8568038,35138975,116845228,4171382,3304487,9106714,30284196,100000000,21739971929,3521630,33442988,11406219141,18663297,21876586,269143950,1404157529,21358764,1809467143,10365046,2232901,5129014,520891780,715659,9031294,2622886,14303114,26709236,6365285,10123200,17630550,13742738,10969318,43165500,1934701,39999997299,4996986,4235111504,22986929,47331802,30825710000,3427006,16901016,201364327,1000000000,23042604,658584,4500000,110976977,8928876,103621876,247612453,16662820,211297638,1000000000,18407259,148716816,780210700,99843408,4703879,1039116,7219956,139739596,595429,57811001,13247178,3115258,19577787259,1813033920,6787405,17801865,989988713439,2741570000,6804362,71355477,25150787,17202361,30711550,5211553258,169598616,1288862,17927175,42579,5052555,13787854,17992514,3680297312,24387724,15863837,21268092,845637,75579791,5761512,13654082,635423900,35284717,8998743,16362544,23356790,52293836,20576532,484454200,208515864,9803691,9357088,20276099,198938144,35687520,980222595,184066828814,17995589,20244023,183534024,11080722,20595483,1772091549,11661844,5015881,4993030,15420234,18135099,824000000,111135836,10517772,60045900,108202084,1148324,12205795,19269509,2449577,26042364,1859475,1000000000,65269530,27340501,13969583,45110324,84000000,25000000,980732528,25927070538,14747200,13634850,5573908,32646731,80316207,792537250,13332617,9880502,1000000000,1467841,41,1055184902,88213,29279424622],\"class\":{\"__ndarray__\":\"AAAAAAAAAAAAAAAAAgAAAAIAAAACAAAAAAAAAAIAAAACAAAAAgAAAAAAAAACAAAAAAAAAAAAAAACAAAAAAAAAAIAAAACAAAAAAAAAAAAAAACAAAAAgAAAAIAAAACAAAAAgAAAAAAAAACAAAAAgAAAAIAAAAAAAAAAgAAAAAAAAACAAAAAgAAAAAAAAAAAAAAAgAAAAIAAAACAAAAAgAAAAIAAAACAAAAAAAAAAAAAAACAAAAAgAAAAIAAAACAAAAAgAAAAAAAAAAAAAAAgAAAAAAAAACAAAAAgAAAAIAAAACAAAAAAAAAAIAAAACAAAAAAAAAAIAAAAAAAAAAAAAAAAAAAACAAAAAgAAAAIAAAAAAAAAAAAAAAAAAAAAAAAAAAAAAAIAAAACAAAAAgAAAAAAAAAAAAAAAgAAAAAAAAACAAAAAAAAAAAAAAACAAAAAgAAAAIAAAACAAAAAAAAAAAAAAACAAAAAAAAAAIAAAACAAAAAAAAAAAAAAACAAAAAAAAAAAAAAACAAAAAgAAAAAAAAAAAAAAAgAAAAAAAAAAAAAAAgAAAAAAAAACAAAAAAAAAAIAAAAAAAAAAgAAAAAAAAAAAAAAAgAAAAIAAAAAAAAAAgAAAAIAAAACAAAAAAAAAAIAAAACAAAAAgAAAAIAAAACAAAAAAAAAAAAAAACAAAAAgAAAAIAAAAAAAAAAgAAAAAAAAACAAAAAgAAAAAAAAACAAAAAAAAAAIAAAAAAAAAAAAAAAIAAAACAAAAAAAAAAIAAAACAAAAAAAAAAAAAAACAAAAAAAAAAIAAAAAAAAAAAAAAAAAAAACAAAAAgAAAAIAAAACAAAAAAAAAAAAAAAAAAAAAAAAAAAAAAACAAAAAgAAAAIAAAAAAAAAAAAAAAAAAAAAAAAAAAAAAAIAAAAAAAAAAAAAAAAAAAAAAAAAAAAAAAIAAAAAAAAAAgAAAAAAAAAAAAAAAgAAAAAAAAACAAAAAAAAAAAAAAACAAAAAAAAAAIAAAAAAAAAAgAAAAAAAAACAAAAAAAAAAAAAAAAAAAAAAAAAAIAAAAAAAAAAAAAAAAAAAAAAAAAAAAAAAIAAAACAAAAAAAAAAAAAAACAAAAAgAAAAAAAAAAAAAAAAAAAAAAAAAAAAAAAgAAAAAAAAAAAAAAAAAAAAAAAAAAAAAAAAAAAAAAAAAAAAAAAgAAAAAAAAAAAAAAAAAAAAAAAAAAAAAAAAAAAAIAAAACAAAAAgAAAAAAAAAAAAAAAAAAAAAAAAACAAAAAAAAAAIAAAAAAAAAAAAAAAIAAAAAAAAAAgAAAAIAAAAAAAAAAgAAAAIAAAAAAAAAAgAAAAAAAAAAAAAAAAAAAAIAAAAAAAAAAAAAAAIAAAAAAAAAAAAAAAAAAAAAAAAAAAAAAAAAAAAAAAAAAgAAAAAAAAACAAAAAAAAAAAAAAAAAAAAAAAAAAIAAAAAAAAAAgAAAAAAAAACAAAAAgAAAAIAAAACAAAAAAAAAAIAAAAAAAAAAAAAAAIAAAAAAAAAAgAAAAIAAAACAAAAAAAAAAIAAAAAAAAAAgAAAAIAAAACAAAAAAAAAAIAAAAAAAAAAgAAAAAAAAAAAAAAAAAAAAIAAAAAAAAAAgAAAAIAAAACAAAAAgAAAAIAAAAAAAAAAAAAAAIAAAAAAAAAAAAAAAAAAAACAAAAAAAAAAIAAAAAAAAAAgAAAAAAAAACAAAAAAAAAAAAAAAAAAAAAAAAAAIAAAAAAAAAAAAAAAIAAAAAAAAAAAAAAAAAAAACAAAAAgAAAAIAAAACAAAAAAAAAAAAAAAAAAAAAAAAAAAAAAACAAAAAAAAAAIAAAACAAAAAgAAAAAAAAACAAAAAAAAAAIAAAACAAAAAAAAAAAAAAACAAAAAAAAAAIAAAACAAAAAAAAAAAAAAACAAAAAgAAAAAAAAACAAAAAgAAAAAAAAAAAAAAAAAAAAAAAAACAAAAAgAAAAIAAAAAAAAAAgAAAAIAAAAAAAAAAgAAAAIAAAAAAAAAAgAAAAAAAAACAAAAAAAAAAIAAAACAAAAAAAAAAAAAAADAAAAAgAAAAIAAAAAAAAAAAAAAAAAAAACAAAAAAAAAAAAAAAAAAAAAAAAAAAAAAAAAAAAAgAAAAIAAAACAAAAAgAAAAIAAAAAAAAAAgAAAAAAAAAAAAAAAAAAAAIAAAAAAAAAAgAAAAAAAAAAAAAAAAAAAAIAAAAAAAAAAgAAAAAAAAAAAAAAAgAAAAAAAAAAAAAAAgAAAAIAAAAAAAAAAgAAAAAAAAACAAAAAAAAAAAAAAACAAAAAAAAAAAAAAACAAAAAgAAAAAAAAAAAAAAAAAAAAAAAAACAAAAAAAAAAIAAAAAAAAAAAAAAAAAAAAAAAAAAAAAAAIAAAAAAAAAAAAAAAIAAAACAAAAAgAAAAAAAAAAAAAAAAAAAAAAAAAAAAAAAAAAAAAAAAACAAAAAgAAAAAAAAACAAAAAgAAAAIAAAACAAAAAgAAAAAAAAACAAAAAAAAAAAAAAAAAAAAAgAAAAAAAAAAAAAAAgAAAAAAAAAAAAAAAAAAAAAAAAACAAAAAAAAAAIAAAAAAAAAAgAAAAIAAAAAAAAAAgAAAAAAAAACAAAAAAAAAAAAAAACAAAAAAAAAAIAAAACAAAAAgAAAAIAAAACAAAAAgAAAAIAAAAAAAAAAgAAAAAAAAACAAAAAAAAAAAAAAACAAAAAgAAAAAAAAAAAAAAAAAAAAAAAAAAAAAAAgAAAAIAAAACAAAAAAAAAAAAAAACAAAAAAAAAAIAAAAAAAAAAgAAAAAAAAACAAAAAAAAAAAAAAAAAAAAAAAAAAIAAAAAAAAAAAAAAAAAAAACAAAAAAAAAAIAAAAAAAAAAgAAAAAAAAAAAAAAAAAAAAIAAAACAAAAAAAAAAAAAAAAAAAAAAAAAAAAAAAAAAAAAwAAAAIAAAAAAAAAAgAAAAIAAAAAAAAAAAAAAAIAAAAAAAAAAAAAAAAAAAAAAAAAAAAAAAAAAAABAAAAAgAAAAAAAAAAAAAAAAAAAAIAAAACAAAAAAAAAAAAAAA=\",\"dtype\":\"int32\",\"order\":\"little\",\"shape\":[578]}},\"selected\":{\"id\":\"1864\"},\"selection_policy\":{\"id\":\"1898\"}},\"id\":\"1863\",\"type\":\"ColumnDataSource\"},{\"attributes\":{\"editor\":{\"id\":\"1891\"},\"field\":\"class\",\"formatter\":{\"id\":\"1890\"},\"title\":\"class\"},\"id\":\"1892\",\"type\":\"TableColumn\"},{\"attributes\":{\"editor\":{\"id\":\"1871\"},\"field\":\"Algorithm\",\"formatter\":{\"id\":\"1870\"},\"title\":\"Algorithm\"},\"id\":\"1872\",\"type\":\"TableColumn\"}],\"root_ids\":[\"1861\"]},\"title\":\"Bokeh Application\",\"version\":\"2.1.1\"}};\n",
       "  var render_items = [{\"docid\":\"48732a3a-be90-4c42-990b-3bc21cbcaad0\",\"root_ids\":[\"1861\"],\"roots\":{\"1861\":\"366cfba0-76ac-470e-bfdb-b3ea4995be04\"}}];\n",
       "  root.Bokeh.embed.embed_items_notebook(docs_json, render_items);\n",
       "  }\n",
       "if (root.Bokeh !== undefined) {\n",
       "    embed_document(root);\n",
       "  } else {\n",
       "    var attempts = 0;\n",
       "    var timer = setInterval(function(root) {\n",
       "      if (root.Bokeh !== undefined) {\n",
       "        clearInterval(timer);\n",
       "        embed_document(root);\n",
       "      } else if (document.readyState == \"complete\") {\n",
       "        attempts++;\n",
       "        if (attempts > 100) {\n",
       "          clearInterval(timer);\n",
       "          console.log(\"Bokeh: ERROR: Unable to run BokehJS code because BokehJS library is missing\");\n",
       "        }\n",
       "      }\n",
       "    }, 10, root)\n",
       "  }\n",
       "})(window);</script>"
      ],
      "text/plain": [
       ":Table   [CoinName,Algorithm,ProofType,TotalCoinSupply,TotalCoinsMined,class]"
      ]
     },
     "execution_count": 409,
     "metadata": {
      "application/vnd.holoviews_exec.v0+json": {
       "id": "1861"
      }
     },
     "output_type": "execute_result"
    }
   ],
   "source": [
    "# Create a table with tradable cryptocurrencies.\n",
    "clustered_df.hvplot.table(columns=['CoinName', 'Algorithm', 'ProofType','TotalCoinSupply','TotalCoinsMined','class'], sortable=True, selectable=True)"
   ]
  },
  {
   "cell_type": "code",
   "execution_count": 410,
   "metadata": {},
   "outputs": [
    {
     "data": {
      "text/plain": [
       "PC 1               578\n",
       "PC 2               578\n",
       "PC 3               578\n",
       "Algorithm          578\n",
       "ProofType          578\n",
       "TotalCoinsMined    578\n",
       "TotalCoinSupply    578\n",
       "CoinName           578\n",
       "class              578\n",
       "dtype: int64"
      ]
     },
     "execution_count": 410,
     "metadata": {},
     "output_type": "execute_result"
    }
   ],
   "source": [
    "# Print the total number of tradable cryptocurrencies.\n",
    "clustered_df.count()"
   ]
  },
  {
   "cell_type": "code",
   "execution_count": 420,
   "metadata": {},
   "outputs": [],
   "source": [
    "# Scaling data to create the scatter plot with tradable cryptocurrencies.\n",
    "scaler = MinMaxScaler()\n",
    "scale =scaler.fit_transform(clustered_df[['TotalCoinSupply', 'TotalCoinsMined']])"
   ]
  },
  {
   "cell_type": "code",
   "execution_count": 421,
   "metadata": {},
   "outputs": [
    {
     "data": {
      "text/plain": [
       "array([[9.73600000e-06, 5.94857073e-03],\n",
       "       [2.10000000e-05, 5.96092320e-03],\n",
       "       [2.50000000e-04, 6.01822651e-03],\n",
       "       ...,\n",
       "       [5.32000000e-04, 7.00182307e-03],\n",
       "       [9.20000000e-02, 5.94238980e-03],\n",
       "       [3.14159265e-01, 3.53420682e-02]])"
      ]
     },
     "execution_count": 421,
     "metadata": {},
     "output_type": "execute_result"
    }
   ],
   "source": [
    "scale"
   ]
  },
  {
   "cell_type": "code",
   "execution_count": 423,
   "metadata": {},
   "outputs": [
    {
     "data": {
      "text/html": [
       "<div>\n",
       "<style scoped>\n",
       "    .dataframe tbody tr th:only-of-type {\n",
       "        vertical-align: middle;\n",
       "    }\n",
       "\n",
       "    .dataframe tbody tr th {\n",
       "        vertical-align: top;\n",
       "    }\n",
       "\n",
       "    .dataframe thead th {\n",
       "        text-align: right;\n",
       "    }\n",
       "</style>\n",
       "<table border=\"1\" class=\"dataframe\">\n",
       "  <thead>\n",
       "    <tr style=\"text-align: right;\">\n",
       "      <th></th>\n",
       "      <th>0</th>\n",
       "      <th>1</th>\n",
       "    </tr>\n",
       "  </thead>\n",
       "  <tbody>\n",
       "    <tr>\n",
       "      <th>0</th>\n",
       "      <td>9.736000e-06</td>\n",
       "      <td>0.005949</td>\n",
       "    </tr>\n",
       "    <tr>\n",
       "      <th>1</th>\n",
       "      <td>2.100000e-05</td>\n",
       "      <td>0.005961</td>\n",
       "    </tr>\n",
       "    <tr>\n",
       "      <th>2</th>\n",
       "      <td>2.500000e-04</td>\n",
       "      <td>0.006018</td>\n",
       "    </tr>\n",
       "    <tr>\n",
       "      <th>3</th>\n",
       "      <td>2.100000e-05</td>\n",
       "      <td>0.005945</td>\n",
       "    </tr>\n",
       "    <tr>\n",
       "      <th>4</th>\n",
       "      <td>1.100000e-05</td>\n",
       "      <td>0.005953</td>\n",
       "    </tr>\n",
       "    <tr>\n",
       "      <th>...</th>\n",
       "      <td>...</td>\n",
       "      <td>...</td>\n",
       "    </tr>\n",
       "    <tr>\n",
       "      <th>573</th>\n",
       "      <td>0.000000e+00</td>\n",
       "      <td>0.005944</td>\n",
       "    </tr>\n",
       "    <tr>\n",
       "      <th>574</th>\n",
       "      <td>4.200000e-11</td>\n",
       "      <td>0.005942</td>\n",
       "    </tr>\n",
       "    <tr>\n",
       "      <th>575</th>\n",
       "      <td>5.320000e-04</td>\n",
       "      <td>0.007002</td>\n",
       "    </tr>\n",
       "    <tr>\n",
       "      <th>576</th>\n",
       "      <td>9.200000e-02</td>\n",
       "      <td>0.005942</td>\n",
       "    </tr>\n",
       "    <tr>\n",
       "      <th>577</th>\n",
       "      <td>3.141593e-01</td>\n",
       "      <td>0.035342</td>\n",
       "    </tr>\n",
       "  </tbody>\n",
       "</table>\n",
       "<p>578 rows × 2 columns</p>\n",
       "</div>"
      ],
      "text/plain": [
       "                0         1\n",
       "0    9.736000e-06  0.005949\n",
       "1    2.100000e-05  0.005961\n",
       "2    2.500000e-04  0.006018\n",
       "3    2.100000e-05  0.005945\n",
       "4    1.100000e-05  0.005953\n",
       "..            ...       ...\n",
       "573  0.000000e+00  0.005944\n",
       "574  4.200000e-11  0.005942\n",
       "575  5.320000e-04  0.007002\n",
       "576  9.200000e-02  0.005942\n",
       "577  3.141593e-01  0.035342\n",
       "\n",
       "[578 rows x 2 columns]"
      ]
     },
     "execution_count": 423,
     "metadata": {},
     "output_type": "execute_result"
    }
   ],
   "source": [
    "clustered_scaled_df= pd.DataFrame(scale)\n",
    "\n",
    "\n",
    "clustered_scaled_df"
   ]
  },
  {
   "cell_type": "code",
   "execution_count": 435,
   "metadata": {},
   "outputs": [
    {
     "data": {
      "text/html": [
       "<div>\n",
       "<style scoped>\n",
       "    .dataframe tbody tr th:only-of-type {\n",
       "        vertical-align: middle;\n",
       "    }\n",
       "\n",
       "    .dataframe tbody tr th {\n",
       "        vertical-align: top;\n",
       "    }\n",
       "\n",
       "    .dataframe thead th {\n",
       "        text-align: right;\n",
       "    }\n",
       "</style>\n",
       "<table border=\"1\" class=\"dataframe\">\n",
       "  <thead>\n",
       "    <tr style=\"text-align: right;\">\n",
       "      <th></th>\n",
       "      <th>TotalCoinSupply</th>\n",
       "      <th>TotalCoinsMined</th>\n",
       "      <th>CoinName</th>\n",
       "      <th>class</th>\n",
       "    </tr>\n",
       "  </thead>\n",
       "  <tbody>\n",
       "    <tr>\n",
       "      <th>ZYD</th>\n",
       "      <td>9.736000e-06</td>\n",
       "      <td>0.005949</td>\n",
       "      <td>ZayedCoin</td>\n",
       "      <td>0</td>\n",
       "    </tr>\n",
       "    <tr>\n",
       "      <th>ZOI</th>\n",
       "      <td>2.100000e-05</td>\n",
       "      <td>0.005961</td>\n",
       "      <td>Zoin</td>\n",
       "      <td>0</td>\n",
       "    </tr>\n",
       "    <tr>\n",
       "      <th>ZNY</th>\n",
       "      <td>2.500000e-04</td>\n",
       "      <td>0.006018</td>\n",
       "      <td>BitZeny</td>\n",
       "      <td>0</td>\n",
       "    </tr>\n",
       "    <tr>\n",
       "      <th>ZNE</th>\n",
       "      <td>2.100000e-05</td>\n",
       "      <td>0.005945</td>\n",
       "      <td>ZoneCoin</td>\n",
       "      <td>2</td>\n",
       "    </tr>\n",
       "    <tr>\n",
       "      <th>ZILLA</th>\n",
       "      <td>1.100000e-05</td>\n",
       "      <td>0.005953</td>\n",
       "      <td>ChainZilla</td>\n",
       "      <td>2</td>\n",
       "    </tr>\n",
       "    <tr>\n",
       "      <th>...</th>\n",
       "      <td>...</td>\n",
       "      <td>...</td>\n",
       "      <td>...</td>\n",
       "      <td>...</td>\n",
       "    </tr>\n",
       "    <tr>\n",
       "      <th>8BIT</th>\n",
       "      <td>0.000000e+00</td>\n",
       "      <td>0.005944</td>\n",
       "      <td>8BIT Coin</td>\n",
       "      <td>0</td>\n",
       "    </tr>\n",
       "    <tr>\n",
       "      <th>42</th>\n",
       "      <td>4.200000e-11</td>\n",
       "      <td>0.005942</td>\n",
       "      <td>42 Coin</td>\n",
       "      <td>2</td>\n",
       "    </tr>\n",
       "    <tr>\n",
       "      <th>404</th>\n",
       "      <td>5.320000e-04</td>\n",
       "      <td>0.007002</td>\n",
       "      <td>404Coin</td>\n",
       "      <td>2</td>\n",
       "    </tr>\n",
       "    <tr>\n",
       "      <th>1CR</th>\n",
       "      <td>9.200000e-02</td>\n",
       "      <td>0.005942</td>\n",
       "      <td>1Credit</td>\n",
       "      <td>0</td>\n",
       "    </tr>\n",
       "    <tr>\n",
       "      <th>1337</th>\n",
       "      <td>3.141593e-01</td>\n",
       "      <td>0.035342</td>\n",
       "      <td>EliteCoin</td>\n",
       "      <td>0</td>\n",
       "    </tr>\n",
       "  </tbody>\n",
       "</table>\n",
       "<p>578 rows × 4 columns</p>\n",
       "</div>"
      ],
      "text/plain": [
       "       TotalCoinSupply  TotalCoinsMined    CoinName  class\n",
       "ZYD       9.736000e-06         0.005949   ZayedCoin      0\n",
       "ZOI       2.100000e-05         0.005961        Zoin      0\n",
       "ZNY       2.500000e-04         0.006018     BitZeny      0\n",
       "ZNE       2.100000e-05         0.005945    ZoneCoin      2\n",
       "ZILLA     1.100000e-05         0.005953  ChainZilla      2\n",
       "...                ...              ...         ...    ...\n",
       "8BIT      0.000000e+00         0.005944   8BIT Coin      0\n",
       "42        4.200000e-11         0.005942     42 Coin      2\n",
       "404       5.320000e-04         0.007002     404Coin      2\n",
       "1CR       9.200000e-02         0.005942     1Credit      0\n",
       "1337      3.141593e-01         0.035342   EliteCoin      0\n",
       "\n",
       "[578 rows x 4 columns]"
      ]
     },
     "execution_count": 435,
     "metadata": {},
     "output_type": "execute_result"
    }
   ],
   "source": [
    "# Create a new DataFrame that has the scaled data with the clustered_df DataFrame index.\n",
    "clustered_scaled_df= pd.DataFrame(data=scale, columns=[\"TotalCoinSupply\", \"TotalCoinsMined\"], index=clustered_df.index)\n",
    "\n",
    "                                 \n",
    "# Add the \"CoinName\" column from the clustered_df DataFrame to the new DataFrame.\n",
    "clustered_scaled_df = clustered_scaled_df.join(Crypto1_df)\n",
    "\n",
    "\n",
    "# Add the \"Class\" column from the clustered_df DataFrame to the new DataFrame. \n",
    "clustered_scaled_df['class'] = pd.Series(clustered_df['class'])\n",
    "clustered_scaled_df"
   ]
  },
  {
   "cell_type": "code",
   "execution_count": 450,
   "metadata": {},
   "outputs": [
    {
     "data": {},
     "metadata": {},
     "output_type": "display_data"
    },
    {
     "data": {
      "application/vnd.holoviews_exec.v0+json": "",
      "text/html": [
       "<div id='2876'>\n",
       "\n",
       "\n",
       "\n",
       "\n",
       "\n",
       "  <div class=\"bk-root\" id=\"44d85a65-688f-4940-898c-413fc2561bf6\" data-root-id=\"2876\"></div>\n",
       "</div>\n",
       "<script type=\"application/javascript\">(function(root) {\n",
       "  function embed_document(root) {\n",
       "  var docs_json = {\"c8e3b379-af71-42d6-b67b-d363e01c2d14\":{\"roots\":{\"references\":[{\"attributes\":{\"click_policy\":\"mute\",\"items\":[{\"id\":\"2935\"},{\"id\":\"2954\"},{\"id\":\"2975\"},{\"id\":\"2998\"}],\"location\":[0,0],\"title\":\"class\"},\"id\":\"2934\",\"type\":\"Legend\"},{\"attributes\":{},\"id\":\"2901\",\"type\":\"SaveTool\"},{\"attributes\":{\"label\":{\"value\":\"3\"},\"renderers\":[{\"id\":\"2982\"}]},\"id\":\"2998\",\"type\":\"LegendItem\"},{\"attributes\":{\"data\":{\"CoinName\":[\"ZayedCoin\",\"Zoin\",\"BitZeny\",\"Zero\",\"ZCash\",\"ZCC Coin\",\"Zilbercoin\",\"MYCE\",\"VirtacoinPlus\",\"Verge\",\"Bitcoin Rhodium\",\"Enigma\",\"Monero\",\"Monero Classic\",\"LeviarCoin\",\"XDNA\",\"DigitalNote \",\"Xchange\",\"X11 Coin\",\"BitcoinPlus\",\"Waves\",\"Vtorrent\",\"VeriCoin\",\"Vollar\",\"Velox\",\"VIP Tokens\",\"TheVig\",\"ViaCoin\",\"Vechain\",\"UltraCoin\",\"UroCoin\",\"Urals Coin\",\"GameUnits\",\"UnbreakableCoin\",\"Universal Molecule\",\"TrezarCoin\",\"TWIST\",\"Titan Coin\",\"TurtleCoin\",\"Trollcoin\",\"Triangles Coin\",\"Travelflex\",\"TokenPay\",\"TorCoin\",\"TittieCoin\",\"TigerCoin\",\"TerraNovaCoin\",\"TecraCoin\",\"Lamden Tau\",\"SysCoin\",\"SyncCoin\",\"SuperCoin\",\"Stakecoin\",\"Stipend\",\"SoonCoin\",\"SocialCoin\",\"SmartCoin\",\"SLICE\",\"Signatum\",\"SibCoin\",\"ShardCoin\",\"Semux\",\"Siacoin\",\"StableCoin\",\"Ryo\",\"Rupee\",\"RonPaulCoin\",\"RoyalCoin\",\"Reliance\",\"Regalcoin\",\"Reddcoin\",\"Reality Clash\",\"Russiacoin\",\"Radium\",\"Qwertycoin\",\"QTUM\",\"Quatloo\",\"Quantum Resistant Ledger\",\"PhoenixCoin\",\"PWR Coin\",\"PutinCoin\",\"Pushi\",\"Pura\",\"Poseidon\",\"Printerium\",\"Proton\",\"ProsperCoin\",\"PotCoin\",\"Poseidon Quark\",\"Poa Network\",\"PhantomX\",\"PlusOneCoin\",\"PlatinCoin\",\"PLNCoin\",\"PizzaCoin\",\"Pirl\",\"PinkCoin\",\"Piggy Coin\",\"Phreak\",\"Photon\",\"Pioneer Coin\",\"Parlay\",\"Pakcoin\",\"Oduwa\",\"OsmiumCoin\",\"Orbitcoin\",\"OpalCoin\",\"Onix\",\"DeepOnion\",\"Omni\",\"OmiseGO Classic\",\"OmniCron\",\"OKCash\",\"Obsidian\",\"OrangeCoin\",\"Zealium\",\"NyanCoin\",\"Nxt\",\"Nexus\",\"Neutron\",\"Nasdacoin\",\"Dnotes\",\"IncaKoin\",\"NeosCoin\",\"Nebuchadnezzar\",\"Newton Coin\",\"NavCoin\",\"Nano\",\"NamoCoin\",\"Muse\",\"MustangCoin\",\"Media Protocol Token\",\"Monkey Project\",\"MoneyCoin\",\"MonaCoin\",\"MMOCoin\",\"MintCoin\",\"XiaoMiCoin\",\"MassGrid\",\"MedicCoin\",\"MediterraneanCoin\",\"MegaCoin\",\"1717 Masonic Commemorative Token\",\"MacronCoin\",\"Theresa May Coin\",\"MarsCoin \",\"Manna\",\"Magnet\",\"Lynx\",\"Lethean\",\"LiteCreed\",\"LottoCoin\",\"LomoCoin\",\"LuckyCoin\",\"Lithium\",\"LiteDoge\",\"LitecoinCash\",\"KushCoin\",\"Kronecoin\",\"Karbo\",\"Kore\",\"KoboCoin\",\"Komodo\",\"Klingon Empire Darsek\",\"KEYCO\",\"Jumpcoin\",\"Junson Ming Chan Coin\",\"JoinCoin\",\"Interzone\",\"IrishCoin\",\"IOCoin\",\"InsaneCoin\",\"Innova\",\"Infinex\",\"Impact\",\"Impeach\",\"ILCoin\",\"Ignition\",\"iBankCoin\",\"I0coin\",\"HTML5 Coin\",\"Hitcoin\",\"HappyCoin\",\"HOdlcoin\",\"HexCoin\",\"HoboNickels\",\"Groestlcoin\",\"GPU Coin\",\"GambleCoin\",\"GlobalToken\",\"GlobalCoin\",\"Gexan\",\"GermanCoin\",\"gCn Coin\",\"Gapcoin\",\"Gamecredits\",\"Galilel\",\"GAKHcoin\",\"Frankywillcoin\",\"Franko\",\"FrazCoin\",\"Flo\",\"Folding Coin\",\"FairCoin\",\"Expanse\",\"Eurocoin\",\"Ethereum Dark\",\"Ethereum\",\"Espers\",\"EuropeCoin\",\"EquiTrader\",\"EOS\",\"Eternity\",\"EnergyCoin\",\"Electron\",\"Elements\",\"Ellaism\",\"Elementrem\",\"E-Gulden\",\"ECC\",\"Electra\",\"eBoost\",\"EarthCoin\",\"DivotyCoin\",\"DevCoin\",\"Droidz\",\"DigitalPrice\",\"Diamond\",\"Dekado\",\"CarpeDiemCoin\",\"DigiMoney\",\"DigiByte\",\"Draftcoin\",\"iDealCash\",\"Degas Coin\",\"Dinastycoin\",\"Decred\",\"DubaiCoin\",\"Dash Platinum\",\"Dash\",\"DAS\",\"DACH Coin\",\"DACash\",\"Coinonat\",\"Crypto Wisdom Coin\",\"Crypto Sports\",\"CasinoCoin\",\"CryptCoin\",\"CrypticCoin\",\"Crown Coin\",\"Cream\",\"Credit\",\"CapriCoin\",\"Cosmo\",\"Callisto Network\",\"Clockcoin\",\"Crypto Improvement Fund\",\"ChanCoin\",\"CoffeeCoin\",\"Canada eCoin\",\"CannaCoin\",\"CryptoBullion\",\"Catcoin\",\"BitTokens\",\"Bulwark\",\"BurstCoin\",\"Bitcore\",\"Bitshares\",\"Bitcoin Planet\",\"Bithereum\",\"Bata\",\"Bitcoin SV\",\"BitSend\",\"BowsCoin\",\"Brazio\",\"BoxyCoin\",\"BolivarCoin\",\"BlueCoin\",\"Block-Logic\",\"BLAST\",\"BitstarCoin\",\"BitMoney\",\"Bikercoins\",\"Beetle Coin\",\"Beldex\",\"ByteCoin\",\"Bitcoin Cash\",\"BitcoinFast\",\"BitConnect Coin\",\"BlakeBitcoin\",\"BiblePay\",\"Azart\",\"Award\",\"ArtexCoin\",\"Atmos\",\"Allsafe\",\"ArgusCoin\",\"Argentum\",\"ARENON\",\"AquariusCoin\",\"ArcticCoin\",\"Averopay\",\"Alpenschillling\",\"Aiden\",\"Aidos Kuneen\",\"Cardano\",\"Anarchists Prime\",\"Actinium\",\"Accolade\",\"AdCoin\",\"AC3\",\"Abjcoin\",\"Acute Angle Cloud\",\"8BIT Coin\",\"1Credit\",\"EliteCoin\"],\"TotalCoinSupply\":{\"__ndarray__\":\"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\",\"dtype\":\"float64\",\"order\":\"little\",\"shape\":[316]},\"TotalCoinsMined\":{\"__ndarray__\":\"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\",\"dtype\":\"float64\",\"order\":\"little\",\"shape\":[316]},\"class\":[0,0,0,0,0,0,0,0,0,0,0,0,0,0,0,0,0,0,0,0,0,0,0,0,0,0,0,0,0,0,0,0,0,0,0,0,0,0,0,0,0,0,0,0,0,0,0,0,0,0,0,0,0,0,0,0,0,0,0,0,0,0,0,0,0,0,0,0,0,0,0,0,0,0,0,0,0,0,0,0,0,0,0,0,0,0,0,0,0,0,0,0,0,0,0,0,0,0,0,0,0,0,0,0,0,0,0,0,0,0,0,0,0,0,0,0,0,0,0,0,0,0,0,0,0,0,0,0,0,0,0,0,0,0,0,0,0,0,0,0,0,0,0,0,0,0,0,0,0,0,0,0,0,0,0,0,0,0,0,0,0,0,0,0,0,0,0,0,0,0,0,0,0,0,0,0,0,0,0,0,0,0,0,0,0,0,0,0,0,0,0,0,0,0,0,0,0,0,0,0,0,0,0,0,0,0,0,0,0,0,0,0,0,0,0,0,0,0,0,0,0,0,0,0,0,0,0,0,0,0,0,0,0,0,0,0,0,0,0,0,0,0,0,0,0,0,0,0,0,0,0,0,0,0,0,0,0,0,0,0,0,0,0,0,0,0,0,0,0,0,0,0,0,0,0,0,0,0,0,0,0,0,0,0,0,0,0,0,0,0,0,0,0,0,0,0,0,0,0,0,0,0,0,0,0,0,0,0,0,0,0,0,0,0,0,0]},\"selected\":{\"id\":\"2919\"},\"selection_policy\":{\"id\":\"2933\"}},\"id\":\"2918\",\"type\":\"ColumnDataSource\"},{\"attributes\":{\"fill_alpha\":{\"value\":0.2},\"fill_color\":{\"value\":\"#2ba02b\"},\"line_alpha\":{\"value\":0.2},\"line_color\":{\"value\":\"#2ba02b\"},\"size\":{\"units\":\"screen\",\"value\":5.477225575051661},\"x\":{\"field\":\"TotalCoinsMined\"},\"y\":{\"field\":\"TotalCoinSupply\"}},\"id\":\"2960\",\"type\":\"Scatter\"},{\"attributes\":{},\"id\":\"2977\",\"type\":\"Selection\"},{\"attributes\":{},\"id\":\"2933\",\"type\":\"UnionRenderers\"},{\"attributes\":{\"data_source\":{\"id\":\"2936\"},\"glyph\":{\"id\":\"2939\"},\"hover_glyph\":null,\"muted_glyph\":{\"id\":\"2941\"},\"nonselection_glyph\":{\"id\":\"2940\"},\"selection_glyph\":null,\"view\":{\"id\":\"2943\"}},\"id\":\"2942\",\"type\":\"GlyphRenderer\"},{\"attributes\":{\"axis\":{\"id\":\"2893\"},\"grid_line_color\":null,\"ticker\":null},\"id\":\"2896\",\"type\":\"Grid\"},{\"attributes\":{\"align\":null,\"below\":[{\"id\":\"2893\"}],\"center\":[{\"id\":\"2896\"},{\"id\":\"2900\"}],\"left\":[{\"id\":\"2897\"}],\"margin\":null,\"min_border_bottom\":10,\"min_border_left\":10,\"min_border_right\":10,\"min_border_top\":10,\"plot_height\":300,\"plot_width\":700,\"renderers\":[{\"id\":\"2924\"},{\"id\":\"2942\"},{\"id\":\"2961\"},{\"id\":\"2982\"}],\"right\":[{\"id\":\"2934\"}],\"sizing_mode\":\"fixed\",\"title\":{\"id\":\"2885\"},\"toolbar\":{\"id\":\"2907\"},\"x_range\":{\"id\":\"2878\"},\"x_scale\":{\"id\":\"2889\"},\"y_range\":{\"id\":\"2879\"},\"y_scale\":{\"id\":\"2891\"}},\"id\":\"2884\",\"subtype\":\"Figure\",\"type\":\"Plot\"},{\"attributes\":{},\"id\":\"2891\",\"type\":\"LinearScale\"},{\"attributes\":{\"bottom_units\":\"screen\",\"fill_alpha\":0.5,\"fill_color\":\"lightgrey\",\"left_units\":\"screen\",\"level\":\"overlay\",\"line_alpha\":1.0,\"line_color\":\"black\",\"line_dash\":[4,4],\"line_width\":2,\"right_units\":\"screen\",\"top_units\":\"screen\"},\"id\":\"2906\",\"type\":\"BoxAnnotation\"},{\"attributes\":{},\"id\":\"2997\",\"type\":\"UnionRenderers\"},{\"attributes\":{\"axis\":{\"id\":\"2897\"},\"dimension\":1,\"grid_line_color\":null,\"ticker\":null},\"id\":\"2900\",\"type\":\"Grid\"},{\"attributes\":{\"label\":{\"value\":\"1\"},\"renderers\":[{\"id\":\"2942\"}]},\"id\":\"2954\",\"type\":\"LegendItem\"},{\"attributes\":{\"axis_label\":\"TotalCoinSupply\",\"bounds\":\"auto\",\"formatter\":{\"id\":\"2917\"},\"major_label_orientation\":\"horizontal\",\"ticker\":{\"id\":\"2898\"}},\"id\":\"2897\",\"type\":\"LinearAxis\"},{\"attributes\":{\"label\":{\"value\":\"0\"},\"renderers\":[{\"id\":\"2924\"}]},\"id\":\"2935\",\"type\":\"LegendItem\"},{\"attributes\":{\"fill_color\":{\"value\":\"#2ba02b\"},\"line_color\":{\"value\":\"#2ba02b\"},\"size\":{\"units\":\"screen\",\"value\":5.477225575051661},\"x\":{\"field\":\"TotalCoinsMined\"},\"y\":{\"field\":\"TotalCoinSupply\"}},\"id\":\"2958\",\"type\":\"Scatter\"},{\"attributes\":{\"margin\":[5,5,5,5],\"name\":\"HSpacer05549\",\"sizing_mode\":\"stretch_width\"},\"id\":\"3125\",\"type\":\"Spacer\"},{\"attributes\":{\"callback\":null,\"renderers\":[{\"id\":\"2924\"},{\"id\":\"2942\"},{\"id\":\"2961\"},{\"id\":\"2982\"}],\"tags\":[\"hv_created\"],\"tooltips\":[[\"class\",\"@{class}\"],[\"TotalCoinsMined\",\"@{TotalCoinsMined}\"],[\"TotalCoinSupply\",\"@{TotalCoinSupply}\"],[\"CoinName\",\"@{CoinName}\"]]},\"id\":\"2880\",\"type\":\"HoverTool\"},{\"attributes\":{\"fill_alpha\":{\"value\":0.2},\"fill_color\":{\"value\":\"#ff7e0e\"},\"line_alpha\":{\"value\":0.2},\"line_color\":{\"value\":\"#ff7e0e\"},\"size\":{\"units\":\"screen\",\"value\":5.477225575051661},\"x\":{\"field\":\"TotalCoinsMined\"},\"y\":{\"field\":\"TotalCoinSupply\"}},\"id\":\"2941\",\"type\":\"Scatter\"},{\"attributes\":{},\"id\":\"2915\",\"type\":\"BasicTickFormatter\"},{\"attributes\":{},\"id\":\"2894\",\"type\":\"BasicTicker\"},{\"attributes\":{\"source\":{\"id\":\"2955\"}},\"id\":\"2962\",\"type\":\"CDSView\"},{\"attributes\":{\"data\":{\"CoinName\":[\"ZoneCoin\",\"ChainZilla\",\"ZetaCoin\",\"ZEPHYR\",\"Horizen\",\"ZeitCoin\",\"ZClassic\",\"YoCoin\",\"ZCoin\",\"WhiteCoin\",\"UltraNote\",\"Xt3ch\",\"StealthCoin\",\"Stakenet\",\"SHIELD\",\"Ratecoin\",\"PayCoin\",\"Opair\",\"MyriadCoin\",\"Motion\",\"Monoeci\",\"JouleCoin\",\"Xios\",\"Infinity Economics\",\"HiCoin\",\"GoldReserve\",\"XenixCoin\",\"CoinonatX\",\"Creatio\",\"Crypti\",\"Cryptonite\",\"Cannabis Industry Coin\",\"Bitcoin Incognito\",\"WomenCoin\",\"Webchain\",\"WorldCoin\",\"Wild Beast Coin\",\"Digiwage\",\"Virta Unique Coin\",\"Vertcoin\",\"VaultCoin\",\"VIVO Coin\",\"Vitae\",\"Unified Society USDEX\",\"UnitaryStatus Dollar\",\"Ultimate Secure Cash\",\"Unobtanium\",\"Unify\",\"Unitus\",\"UFO Coin\",\"UnitedBitcoin\",\"Ucoin\",\"BitTube\",\"ThunderStake\",\"Trivechain\",\"TruckCoin\",\"TerraCoin\",\"TPCash\",\"Tokyo Coin\",\"TeslaCoin\",\"TeamUP\",\"TigerCash\",\"TajCoin\",\"SexCoin\",\"SwingCoin\",\"Sumokoin\",\"Sucre\",\"Sativa Coin\",\"ShareChain\",\"Squall Coin\",\"Spreadcoin\",\"SimpleBank\",\"SparksPay\",\"Song Coin\",\"Sojourn Coin\",\"SoilCoin\",\"SmileyCoin\",\"SmartCash\",\"SolarCoin\",\"StorjCoin\",\"Swisscoin\",\"Shilling\",\"Seraph\",\"Scribe Network\",\"Swiscoin\",\"SafeExchangeCoin\",\"Revolution VR\",\"RootCoin\",\"RenosCoin\",\"Riecoin\",\"Revenu\",\"RubyCoin\",\"Rapture\",\"Condensate\",\"QuarkCoin\",\"PesetaCoin\",\"PesoBit\",\"ProCurrency\",\"Project Pai\",\"PopularCoin\",\"Peony Coin\",\"PandaCoin\",\"PluraCoin\",\"PirateCash\",\"PAXEX\",\"Particl\",\"PacCoin\",\"Oxycoin\",\"Ontology\",\"NewYorkCoin\",\"NobleCoin\",\"Namecoin\",\"Gulden\",\"Niobio Cash\",\"Nautilus Coin\",\"MazaCoin\",\"MUNcoin\",\"MudraCoin\",\"MasterCoin\",\"Mercoin\",\"MoonCoin\",\"MindCoin\",\"MinCoin\",\"My Big Coin\",\"MaxCoin\",\"LUXCoin\",\"LiteCoin Ultra\",\"Listerclassic Coin\",\"Litecoin\",\"Litebar \",\"Lisk\",\"Loki\",\"Lizus Payment\",\"Let it Ride\",\"Linx\",\"Linda\",\"Litecoin Plus\",\"Lutetium Coin\",\"LAPO\",\"LanaCoin\",\"Kurrent\",\"KREDS\",\"BetKings\",\"Kalkulus\",\"KiloCoin\",\"KrugerCoin\",\"Ketan\",\"KekCoin\",\"Kcash\",\"IXcoin\",\"IslaCoin\",\"Internet of People\",\"Insane Coin\",\"Independent Money System\",\"Infinite Coin\",\"HyperCoin\",\"HyperStake\",\"HexxCoin\",\"HollyWoodCoin\",\"HerbCoin\",\"Halloween Coin\",\"GunCoin\",\"GrowthCoin\",\"GreenCoin\",\"GoaCoin\",\"GanjaCoin V2\",\"GoldCoin\",\"GINcoin\",\"Giant\",\"Genstake\",\"GrandCoin\",\"GoByte\",\"GoldBlocks\",\"FuturoCoin\",\"FeatherCoin\",\"FriendshipCoin\",\"FirstCoin\",\"Francs\",\"FREDEnergy\",\"FreeCoin\",\"FlutterCoin\",\"BitFlip\",\"FindCoin\",\"Fiii\",\"Exclusive Coin\",\"EUNO\",\"Ethereum Classic\",\"Emerald\",\"Einsteinium\",\"Emercoin\",\"EmberCoin\",\"EmaratCoin\",\"Ellerium\",\"EverGreenCoin\",\"EDRCoin\",\"EB3coin\",\"Dynamic\",\"Dystem\",\"DopeCoin\",\"Denarius\",\"DollarCoin\",\"Diggits\",\"Digitalcoin \",\"Deviant Coin\",\"Deimos\",\"DubaiCoin\",\"DaxxCoin\",\"CypherPunkCoin\",\"Crypto\",\"Citadel\",\"CarterCoin\",\"Credence Coin\",\"Creditbit \",\"Circuits of Value\",\"Paycon\",\"Cognitio\",\"BitCoal\",\"Cash & Back Coin\",\" ClubCoin\",\"OpenChat\",\"Crypto Escudo\",\"Carebit\",\"BitcoinWSpectrum\",\"BeaverCoin\",\"BuzzCoin\",\"Bettex coin\",\"BitTorrent\",\"Bitrolium\",\"Bitcoin Gold\",\"Bitcloud 2.0\",\"BitcoinZ\",\"BitCurrency\",\"BitcoinDark\",\"Bitcoin\",\"BitBar\",\"Bitspace\",\"BitSoar Coin\",\"BritCoin\",\"Briacoin\",\"BillaryCoin\",\"BlackholeCoin\",\"BlakeCoin\",\"Bitcoin Nova\",\"Bitcoin Green\",\"BenjiRolls\",\"Beam\",\"Bitcoin Diamond\",\"BashCoin\",\"Axe\",\"Aurora Coin\",\"Arionum\",\"ARK\",\"Alqo\",\"Argoneum\",\"Adzcoin\",\"AudioCoin\",\"Absolute Coin\",\"42 Coin\",\"404Coin\"],\"TotalCoinSupply\":{\"__ndarray__\":\"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\",\"dtype\":\"float64\",\"order\":\"little\",\"shape\":[259]},\"TotalCoinsMined\":{\"__ndarray__\":\"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\",\"dtype\":\"float64\",\"order\":\"little\",\"shape\":[259]},\"class\":[2,2,2,2,2,2,2,2,2,2,2,2,2,2,2,2,2,2,2,2,2,2,2,2,2,2,2,2,2,2,2,2,2,2,2,2,2,2,2,2,2,2,2,2,2,2,2,2,2,2,2,2,2,2,2,2,2,2,2,2,2,2,2,2,2,2,2,2,2,2,2,2,2,2,2,2,2,2,2,2,2,2,2,2,2,2,2,2,2,2,2,2,2,2,2,2,2,2,2,2,2,2,2,2,2,2,2,2,2,2,2,2,2,2,2,2,2,2,2,2,2,2,2,2,2,2,2,2,2,2,2,2,2,2,2,2,2,2,2,2,2,2,2,2,2,2,2,2,2,2,2,2,2,2,2,2,2,2,2,2,2,2,2,2,2,2,2,2,2,2,2,2,2,2,2,2,2,2,2,2,2,2,2,2,2,2,2,2,2,2,2,2,2,2,2,2,2,2,2,2,2,2,2,2,2,2,2,2,2,2,2,2,2,2,2,2,2,2,2,2,2,2,2,2,2,2,2,2,2,2,2,2,2,2,2,2,2,2,2,2,2,2,2,2,2,2,2,2,2,2,2,2,2,2,2,2,2,2,2]},\"selected\":{\"id\":\"2956\"},\"selection_policy\":{\"id\":\"2974\"}},\"id\":\"2955\",\"type\":\"ColumnDataSource\"},{\"attributes\":{\"data_source\":{\"id\":\"2955\"},\"glyph\":{\"id\":\"2958\"},\"hover_glyph\":null,\"muted_glyph\":{\"id\":\"2960\"},\"nonselection_glyph\":{\"id\":\"2959\"},\"selection_glyph\":null,\"view\":{\"id\":\"2962\"}},\"id\":\"2961\",\"type\":\"GlyphRenderer\"},{\"attributes\":{\"active_drag\":\"auto\",\"active_inspect\":\"auto\",\"active_multi\":null,\"active_scroll\":\"auto\",\"active_tap\":\"auto\",\"tools\":[{\"id\":\"2880\"},{\"id\":\"2901\"},{\"id\":\"2902\"},{\"id\":\"2903\"},{\"id\":\"2904\"},{\"id\":\"2905\"}]},\"id\":\"2907\",\"type\":\"Toolbar\"},{\"attributes\":{\"fill_color\":{\"value\":\"#ff7e0e\"},\"line_color\":{\"value\":\"#ff7e0e\"},\"size\":{\"units\":\"screen\",\"value\":5.477225575051661},\"x\":{\"field\":\"TotalCoinsMined\"},\"y\":{\"field\":\"TotalCoinSupply\"}},\"id\":\"2939\",\"type\":\"Scatter\"},{\"attributes\":{\"fill_color\":{\"value\":\"#d62628\"},\"line_color\":{\"value\":\"#d62628\"},\"size\":{\"units\":\"screen\",\"value\":5.477225575051661},\"x\":{\"field\":\"TotalCoinsMined\"},\"y\":{\"field\":\"TotalCoinSupply\"}},\"id\":\"2979\",\"type\":\"Scatter\"},{\"attributes\":{\"fill_alpha\":{\"value\":0.2},\"fill_color\":{\"value\":\"#d62628\"},\"line_alpha\":{\"value\":0.2},\"line_color\":{\"value\":\"#d62628\"},\"size\":{\"units\":\"screen\",\"value\":5.477225575051661},\"x\":{\"field\":\"TotalCoinsMined\"},\"y\":{\"field\":\"TotalCoinSupply\"}},\"id\":\"2981\",\"type\":\"Scatter\"},{\"attributes\":{},\"id\":\"2974\",\"type\":\"UnionRenderers\"},{\"attributes\":{\"children\":[{\"id\":\"2877\"},{\"id\":\"2884\"},{\"id\":\"3125\"}],\"margin\":[0,0,0,0],\"name\":\"Row05544\",\"tags\":[\"embedded\"]},\"id\":\"2876\",\"type\":\"Row\"},{\"attributes\":{\"overlay\":{\"id\":\"2906\"}},\"id\":\"2904\",\"type\":\"BoxZoomTool\"},{\"attributes\":{\"text\":\"\",\"text_color\":{\"value\":\"black\"},\"text_font_size\":{\"value\":\"12pt\"}},\"id\":\"2885\",\"type\":\"Title\"},{\"attributes\":{},\"id\":\"2898\",\"type\":\"BasicTicker\"},{\"attributes\":{\"fill_alpha\":{\"value\":0.2},\"fill_color\":{\"value\":\"#1f77b3\"},\"line_alpha\":{\"value\":0.2},\"line_color\":{\"value\":\"#1f77b3\"},\"size\":{\"units\":\"screen\",\"value\":5.477225575051661},\"x\":{\"field\":\"TotalCoinsMined\"},\"y\":{\"field\":\"TotalCoinSupply\"}},\"id\":\"2923\",\"type\":\"Scatter\"},{\"attributes\":{},\"id\":\"2917\",\"type\":\"BasicTickFormatter\"},{\"attributes\":{},\"id\":\"2956\",\"type\":\"Selection\"},{\"attributes\":{\"axis_label\":\"TotalCoinsMined\",\"bounds\":\"auto\",\"formatter\":{\"id\":\"2915\"},\"major_label_orientation\":\"horizontal\",\"ticker\":{\"id\":\"2894\"}},\"id\":\"2893\",\"type\":\"LinearAxis\"},{\"attributes\":{},\"id\":\"2902\",\"type\":\"PanTool\"},{\"attributes\":{\"source\":{\"id\":\"2936\"}},\"id\":\"2943\",\"type\":\"CDSView\"},{\"attributes\":{\"label\":{\"value\":\"2\"},\"renderers\":[{\"id\":\"2961\"}]},\"id\":\"2975\",\"type\":\"LegendItem\"},{\"attributes\":{\"fill_alpha\":{\"value\":0.1},\"fill_color\":{\"value\":\"#1f77b3\"},\"line_alpha\":{\"value\":0.1},\"line_color\":{\"value\":\"#1f77b3\"},\"size\":{\"units\":\"screen\",\"value\":5.477225575051661},\"x\":{\"field\":\"TotalCoinsMined\"},\"y\":{\"field\":\"TotalCoinSupply\"}},\"id\":\"2922\",\"type\":\"Scatter\"},{\"attributes\":{\"data\":{\"CoinName\":[\"Exosis\",\"ALAX\"],\"TotalCoinSupply\":{\"__ndarray__\":\"ycfuAiUF9j78qfHSTWJQPw==\",\"dtype\":\"float64\",\"order\":\"little\",\"shape\":[2]},\"TotalCoinsMined\":{\"__ndarray__\":\"FXiny2FXeD+a/YUZ13N8Pw==\",\"dtype\":\"float64\",\"order\":\"little\",\"shape\":[2]},\"class\":[3,3]},\"selected\":{\"id\":\"2977\"},\"selection_policy\":{\"id\":\"2997\"}},\"id\":\"2976\",\"type\":\"ColumnDataSource\"},{\"attributes\":{},\"id\":\"2919\",\"type\":\"Selection\"},{\"attributes\":{},\"id\":\"2937\",\"type\":\"Selection\"},{\"attributes\":{},\"id\":\"2905\",\"type\":\"ResetTool\"},{\"attributes\":{\"source\":{\"id\":\"2918\"}},\"id\":\"2925\",\"type\":\"CDSView\"},{\"attributes\":{\"data\":{\"CoinName\":[\"ArtByte\"],\"TotalCoinSupply\":{\"__ndarray__\":\"/Knx0k1iUD8=\",\"dtype\":\"float64\",\"order\":\"little\",\"shape\":[1]},\"TotalCoinsMined\":{\"__ndarray__\":\"W1XW2GeZez8=\",\"dtype\":\"float64\",\"order\":\"little\",\"shape\":[1]},\"class\":[1]},\"selected\":{\"id\":\"2937\"},\"selection_policy\":{\"id\":\"2953\"}},\"id\":\"2936\",\"type\":\"ColumnDataSource\"},{\"attributes\":{\"fill_alpha\":{\"value\":0.1},\"fill_color\":{\"value\":\"#2ba02b\"},\"line_alpha\":{\"value\":0.1},\"line_color\":{\"value\":\"#2ba02b\"},\"size\":{\"units\":\"screen\",\"value\":5.477225575051661},\"x\":{\"field\":\"TotalCoinsMined\"},\"y\":{\"field\":\"TotalCoinSupply\"}},\"id\":\"2959\",\"type\":\"Scatter\"},{\"attributes\":{\"end\":1.0428571428571431,\"reset_end\":1.0428571428571431,\"reset_start\":-0.042857142857142864,\"start\":-0.042857142857142864,\"tags\":[[[\"TotalCoinsMined\",\"TotalCoinsMined\",null]]]},\"id\":\"2878\",\"type\":\"Range1d\"},{\"attributes\":{\"fill_alpha\":{\"value\":0.1},\"fill_color\":{\"value\":\"#ff7e0e\"},\"line_alpha\":{\"value\":0.1},\"line_color\":{\"value\":\"#ff7e0e\"},\"size\":{\"units\":\"screen\",\"value\":5.477225575051661},\"x\":{\"field\":\"TotalCoinsMined\"},\"y\":{\"field\":\"TotalCoinSupply\"}},\"id\":\"2940\",\"type\":\"Scatter\"},{\"attributes\":{\"fill_alpha\":{\"value\":0.1},\"fill_color\":{\"value\":\"#d62628\"},\"line_alpha\":{\"value\":0.1},\"line_color\":{\"value\":\"#d62628\"},\"size\":{\"units\":\"screen\",\"value\":5.477225575051661},\"x\":{\"field\":\"TotalCoinsMined\"},\"y\":{\"field\":\"TotalCoinSupply\"}},\"id\":\"2980\",\"type\":\"Scatter\"},{\"attributes\":{},\"id\":\"2953\",\"type\":\"UnionRenderers\"},{\"attributes\":{},\"id\":\"2889\",\"type\":\"LinearScale\"},{\"attributes\":{\"margin\":[5,5,5,5],\"name\":\"HSpacer05548\",\"sizing_mode\":\"stretch_width\"},\"id\":\"2877\",\"type\":\"Spacer\"},{\"attributes\":{\"fill_color\":{\"value\":\"#1f77b3\"},\"line_color\":{\"value\":\"#1f77b3\"},\"size\":{\"units\":\"screen\",\"value\":5.477225575051661},\"x\":{\"field\":\"TotalCoinsMined\"},\"y\":{\"field\":\"TotalCoinSupply\"}},\"id\":\"2921\",\"type\":\"Scatter\"},{\"attributes\":{\"source\":{\"id\":\"2976\"}},\"id\":\"2983\",\"type\":\"CDSView\"},{\"attributes\":{\"data_source\":{\"id\":\"2976\"},\"glyph\":{\"id\":\"2979\"},\"hover_glyph\":null,\"muted_glyph\":{\"id\":\"2981\"},\"nonselection_glyph\":{\"id\":\"2980\"},\"selection_glyph\":null,\"view\":{\"id\":\"2983\"}},\"id\":\"2982\",\"type\":\"GlyphRenderer\"},{\"attributes\":{},\"id\":\"2903\",\"type\":\"WheelZoomTool\"},{\"attributes\":{\"end\":1.1,\"reset_end\":1.1,\"reset_start\":-0.1,\"start\":-0.1,\"tags\":[[[\"TotalCoinSupply\",\"TotalCoinSupply\",null]]]},\"id\":\"2879\",\"type\":\"Range1d\"},{\"attributes\":{\"data_source\":{\"id\":\"2918\"},\"glyph\":{\"id\":\"2921\"},\"hover_glyph\":null,\"muted_glyph\":{\"id\":\"2923\"},\"nonselection_glyph\":{\"id\":\"2922\"},\"selection_glyph\":null,\"view\":{\"id\":\"2925\"}},\"id\":\"2924\",\"type\":\"GlyphRenderer\"}],\"root_ids\":[\"2876\"]},\"title\":\"Bokeh Application\",\"version\":\"2.1.1\"}};\n",
       "  var render_items = [{\"docid\":\"c8e3b379-af71-42d6-b67b-d363e01c2d14\",\"root_ids\":[\"2876\"],\"roots\":{\"2876\":\"44d85a65-688f-4940-898c-413fc2561bf6\"}}];\n",
       "  root.Bokeh.embed.embed_items_notebook(docs_json, render_items);\n",
       "  }\n",
       "if (root.Bokeh !== undefined) {\n",
       "    embed_document(root);\n",
       "  } else {\n",
       "    var attempts = 0;\n",
       "    var timer = setInterval(function(root) {\n",
       "      if (root.Bokeh !== undefined) {\n",
       "        clearInterval(timer);\n",
       "        embed_document(root);\n",
       "      } else if (document.readyState == \"complete\") {\n",
       "        attempts++;\n",
       "        if (attempts > 100) {\n",
       "          clearInterval(timer);\n",
       "          console.log(\"Bokeh: ERROR: Unable to run BokehJS code because BokehJS library is missing\");\n",
       "        }\n",
       "      }\n",
       "    }, 10, root)\n",
       "  }\n",
       "})(window);</script>"
      ],
      "text/plain": [
       ":NdOverlay   [class]\n",
       "   :Scatter   [TotalCoinsMined]   (TotalCoinSupply,CoinName)"
      ]
     },
     "execution_count": 450,
     "metadata": {
      "application/vnd.holoviews_exec.v0+json": {
       "id": "2876"
      }
     },
     "output_type": "execute_result"
    }
   ],
   "source": [
    "# Create a hvplot.scatter plot using x=\"TotalCoinsMined\" and y=\"TotalCoinSupply\".\n",
    "clustered_scaled_df.hvplot.scatter(\n",
    "    x=\"TotalCoinsMined\",\n",
    "    y=\"TotalCoinSupply\",\n",
    "    hover_cols=\"CoinName\",\n",
    "    by=\"class\",\n",
    ")\n"
   ]
  },
  {
   "cell_type": "code",
   "execution_count": null,
   "metadata": {},
   "outputs": [],
   "source": []
  }
 ],
 "metadata": {
  "file_extension": ".py",
  "kernelspec": {
   "display_name": "Python 3",
   "language": "python",
   "name": "python3"
  },
  "language_info": {
   "codemirror_mode": {
    "name": "ipython",
    "version": 3
   },
   "file_extension": ".py",
   "mimetype": "text/x-python",
   "name": "python",
   "nbconvert_exporter": "python",
   "pygments_lexer": "ipython3",
   "version": "3.7.7"
  },
  "latex_envs": {
   "LaTeX_envs_menu_present": true,
   "autoclose": false,
   "autocomplete": true,
   "bibliofile": "biblio.bib",
   "cite_by": "apalike",
   "current_citInitial": 1,
   "eqLabelWithNumbers": true,
   "eqNumInitial": 1,
   "hotkeys": {
    "equation": "Ctrl-E",
    "itemize": "Ctrl-I"
   },
   "labels_anchors": false,
   "latex_user_defs": false,
   "report_style_numbering": false,
   "user_envs_cfg": false
  },
  "mimetype": "text/x-python",
  "name": "python",
  "npconvert_exporter": "python",
  "pygments_lexer": "ipython3",
  "version": 3
 },
 "nbformat": 4,
 "nbformat_minor": 2
}
